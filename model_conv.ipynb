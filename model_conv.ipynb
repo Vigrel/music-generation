{
 "cells": [
  {
   "cell_type": "code",
   "execution_count": 6,
   "metadata": {},
   "outputs": [],
   "source": [
    "import os\n",
    "\n",
    "import matplotlib.pyplot as plt\n",
    "import numpy as np\n",
    "import pypianoroll\n",
    "import random\n",
    "\n",
    "import tensorflow.keras as keras\n",
    "import midi"
   ]
  },
  {
   "cell_type": "code",
   "execution_count": 4,
   "metadata": {},
   "outputs": [],
   "source": [
    "y = np.load('pypianorollSamples.npy')"
   ]
  },
  {
   "cell_type": "code",
   "execution_count": 7,
   "metadata": {},
   "outputs": [],
   "source": [
    "music = y[2].reshape(2048,72)\n",
    "erased_music, mask = midi.erase_notes(music, 0.25, 72)"
   ]
  },
  {
   "cell_type": "code",
   "execution_count": 8,
   "metadata": {},
   "outputs": [
    {
     "data": {
      "text/plain": [
       "(72, 2048)"
      ]
     },
     "execution_count": 8,
     "metadata": {},
     "output_type": "execute_result"
    }
   ],
   "source": [
    "music.transpose().shape"
   ]
  },
  {
   "cell_type": "code",
   "execution_count": 9,
   "metadata": {},
   "outputs": [],
   "source": [
    "input_data = np.expand_dims(np.stack([erased_music, mask], axis=2), axis=0)\n",
    "output_data = np.expand_dims(music.transpose(), axis=0)"
   ]
  },
  {
   "cell_type": "code",
   "execution_count": 10,
   "metadata": {},
   "outputs": [
    {
     "data": {
      "text/plain": [
       "(1, 72, 2048, 2)"
      ]
     },
     "execution_count": 10,
     "metadata": {},
     "output_type": "execute_result"
    }
   ],
   "source": [
    "input_data.shape"
   ]
  },
  {
   "cell_type": "code",
   "execution_count": 11,
   "metadata": {},
   "outputs": [
    {
     "data": {
      "text/plain": [
       "(1, 72, 2048)"
      ]
     },
     "execution_count": 11,
     "metadata": {},
     "output_type": "execute_result"
    }
   ],
   "source": [
    "output_data.shape"
   ]
  },
  {
   "cell_type": "code",
   "execution_count": null,
   "metadata": {},
   "outputs": [],
   "source": [
    "_, rows, cols, _ = input_data.shape\n",
    "model = keras.models.Sequential([\n",
    "    keras.layers.Conv2D(5, 3, activation=\"relu\", padding=\"same\", input_shape=(rows, cols, 2)),\n",
    "    keras.layers.Conv2D(1, 3, activation=\"sigmoid\", padding=\"same\"),\n",
    "    keras.layers.Reshape((rows, cols))\n",
    "])"
   ]
  },
  {
   "cell_type": "code",
   "execution_count": null,
   "metadata": {},
   "outputs": [],
   "source": [
    "model.compile(loss=\"binary_crossentropy\", optimizer=\"adam\")\n",
    "\n",
    "history = model.fit(input_data, output_data, epochs=500)"
   ]
  },
  {
   "cell_type": "code",
   "execution_count": null,
   "metadata": {},
   "outputs": [],
   "source": [
    "plt.plot(history.history['loss'])"
   ]
  },
  {
   "cell_type": "code",
   "execution_count": null,
   "metadata": {},
   "outputs": [],
   "source": [
    "def mask_random_notes(music):\n",
    "    fake_input = np.zeros(music.shape + (2,))\n",
    "    num_notes_to_mask = 30\n",
    "    for _ in range(num_notes_to_mask):\n",
    "        note_to_mask = random.randint(0, input_data.shape[2] - 1)\n",
    "        fake_input[0, :, note_to_mask, 0] = 0\n",
    "        fake_input[0, :, note_to_mask, 1] = 1\n",
    "\n",
    "    return fake_input\n",
    "\n",
    "def make_music_iteration(fake_input):\n",
    "    new_music = model(fake_input)\n",
    "    rand_vals = np.random.uniform(size=new_music.shape)\n",
    "    new_music = new_music > rand_vals\n",
    "    new_music = new_music.numpy().astype('float')\n",
    "    return new_music"
   ]
  },
  {
   "cell_type": "code",
   "execution_count": null,
   "metadata": {},
   "outputs": [],
   "source": [
    "new_music = np.zeros(input_data.shape[:-1])\n",
    "for _ in range(10):\n",
    "    fake_input = mask_random_notes(new_music)\n",
    "    new_music = make_music_iteration(fake_input)\n"
   ]
  },
  {
   "cell_type": "code",
   "execution_count": null,
   "metadata": {},
   "outputs": [],
   "source": [
    "new_music"
   ]
  },
  {
   "cell_type": "code",
   "execution_count": null,
   "metadata": {},
   "outputs": [],
   "source": [
    "plt.figure(figsize=(15,12))\n",
    "plt.imshow(new_music[0, :, :512])"
   ]
  },
  {
   "cell_type": "code",
   "execution_count": null,
   "metadata": {},
   "outputs": [],
   "source": [
    "input_data[0,:,:10,0]"
   ]
  }
 ],
 "metadata": {
  "interpreter": {
   "hash": "9096c40d21e3095fbb84f5f303142b19dcda1b69e1d799e7fb9d77614c84f67a"
  },
  "kernelspec": {
   "display_name": "Python 3.10.4 64-bit (system)",
   "language": "python",
   "name": "python3"
  },
  "language_info": {
   "codemirror_mode": {
    "name": "ipython",
    "version": 3
   },
   "file_extension": ".py",
   "mimetype": "text/x-python",
   "name": "python",
   "nbconvert_exporter": "python",
   "pygments_lexer": "ipython3",
   "version": "3.10.4"
  },
  "orig_nbformat": 4
 },
 "nbformat": 4,
 "nbformat_minor": 2
}
