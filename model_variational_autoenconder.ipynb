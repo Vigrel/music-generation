{
 "cells": [
  {
   "cell_type": "code",
   "execution_count": 1,
   "id": "53292e1e",
   "metadata": {},
   "outputs": [],
   "source": [
    "import datetime\n",
    "import os\n",
    "import time\n",
    "import random\n",
    "\n",
    "import numpy as np\n",
    "import tensorflow as tf\n",
    "\n",
    "from matplotlib import pyplot as plt\n",
    "from tensorflow.keras import backend as K\n",
    "from tensorflow.keras.layers import (Activation, BatchNormalization, Dense,\n",
    "                                     Dropout, Flatten, Input, Reshape,\n",
    "                                     TimeDistributed, Lambda)\n",
    "from tensorflow.keras.models import Model\n",
    "from tensorflow.keras.optimizers import RMSprop, Adam\n",
    "from keras.losses import binary_crossentropy\n",
    "\n",
    "import keras\n",
    "\n",
    "tf.compat.v1.disable_eager_execution()"
   ]
  },
  {
   "cell_type": "code",
   "execution_count": 8,
   "id": "260e61e7",
   "metadata": {},
   "outputs": [],
   "source": [
    "%load_ext tensorboard"
   ]
  },
  {
   "cell_type": "code",
   "execution_count": 8,
   "id": "7d72d9c5",
   "metadata": {},
   "outputs": [],
   "source": [
    "import midi"
   ]
  },
  {
   "cell_type": "code",
   "execution_count": 9,
   "id": "31ccf1f6",
   "metadata": {},
   "outputs": [],
   "source": [
    "NUM_EPOCHS = 50\n",
    "LR = 0.001\n",
    "WRITE_HISTORY = True\n",
    "NUM_RAND_SONGS = 10\n",
    "DO_RATE = 0.1\n",
    "BN_M = 0.9\n",
    "\n",
    "BATCH_SIZE = 256\n",
    "MAX_LENGTH = 16\n",
    "\n",
    "np.random.seed(0)\n",
    "random.seed(0)"
   ]
  },
  {
   "cell_type": "code",
   "execution_count": 10,
   "id": "3d014c2e",
   "metadata": {},
   "outputs": [],
   "source": [
    "# y_samples = np.load('samples.npy')\n",
    "# y_lengths = np.load('lengths.npy')\n",
    "y_samples = np.load('samplesBach.npy')\n",
    "y_lengths = np.load('lengthsBach.npy')\n",
    "\n",
    "num_songs = y_lengths.shape[0]\n",
    "\n",
    "y_shape = (num_songs, MAX_LENGTH) + y_samples.shape[1:]\n",
    "y_orig = np.zeros(y_shape, dtype=y_samples.dtype)"
   ]
  },
  {
   "cell_type": "code",
   "execution_count": 11,
   "id": "85096883",
   "metadata": {},
   "outputs": [],
   "source": [
    "cur_ix = 0\n",
    "for i in range(num_songs):\n",
    "    end_ix = cur_ix + y_lengths[i]\n",
    "    for j in range(MAX_LENGTH):\n",
    "        k = j % (end_ix - cur_ix) \n",
    "        y_orig[i,j] = y_samples[cur_ix + k]\n",
    "    cur_ix = end_ix"
   ]
  },
  {
   "cell_type": "code",
   "execution_count": 12,
   "id": "d939754d",
   "metadata": {},
   "outputs": [],
   "source": [
    "y = np.copy(y_orig)\n",
    "\n",
    "y_train = y[:178]\n",
    "y_valid = y[178:238]\n",
    "\n",
    "y_test_song = np.copy(y[0])"
   ]
  },
  {
   "cell_type": "code",
   "execution_count": 13,
   "id": "3d302887",
   "metadata": {},
   "outputs": [],
   "source": [
    "class Sampling(keras.layers.Layer):\n",
    "    def call(self, inputs):\n",
    "        mean, log_var = inputs \n",
    "        return K.random_normal(tf.shape(log_var), stddev=0.1) * K.exp(log_var / 2) + mean\n"
   ]
  },
  {
   "cell_type": "code",
   "execution_count": 10,
   "id": "e9bff30c",
   "metadata": {},
   "outputs": [],
   "source": [
    "# PARAM_SIZE = 120\n",
    "\n",
    "# x_in = Input(shape=y_shape[1:])\n",
    "# z = Reshape((y_shape[1], -1))(x_in)\n",
    "# z = TimeDistributed(Dense(2000, activation='relu'))(z)\n",
    "# z = TimeDistributed(Dense(200, activation='relu'))(z)\n",
    "# z = Flatten()(z)\n",
    "# z = Dense(1600, activation='relu')(z)\n",
    "\n",
    "# codings_mean = keras.layers.Dense(PARAM_SIZE)(z) # μ\n",
    "# codings_log_var = keras.layers.Dense(PARAM_SIZE)(z) # γ\n",
    "# codings = Sampling()([codings_mean, codings_log_var])\n",
    "# variational_encoder = keras.Model(inputs=[x_in], outputs=[codings_mean, codings_log_var, codings])\n",
    "\n",
    "# decoder_inputs = keras.layers.Input(shape=[PARAM_SIZE])\n",
    "# x = Dense(1600, name='encoder')(decoder_inputs)\n",
    "# x = BatchNormalization(momentum=BN_M)(x)\n",
    "# x = Activation('relu')(x)\n",
    "# x = Dropout(DO_RATE)(x)\n",
    "# x = Dense(MAX_LENGTH * 200)(x)\n",
    "# x = Reshape((MAX_LENGTH, 200))(x)\n",
    "# x = TimeDistributed(BatchNormalization(momentum=BN_M))(x)\n",
    "# x = Activation('relu')(x)\n",
    "# x = Dropout(DO_RATE)(x)\n",
    "# x = TimeDistributed(Dense(2000))(x)\n",
    "# x = TimeDistributed(BatchNormalization(momentum=BN_M))(x)\n",
    "# x = Activation('relu')(x)\n",
    "# x = Dropout(DO_RATE)(x)\n",
    "# x = TimeDistributed(Dense(y_shape[2] * y_shape[3], activation='sigmoid'))(x)\n",
    "# outputs = Reshape((y_shape[1], y_shape[2], y_shape[3]))(x)\n",
    "\n",
    "# variational_decoder = keras.Model(inputs=[decoder_inputs], outputs=[outputs])\n",
    "# _, _, codings = variational_encoder(x_in)\n",
    "# reconstructions = variational_decoder(codings)\n",
    "# variational_ae = keras.Model(inputs=[x_in], outputs=[reconstructions])\n",
    "\n",
    "# latent_loss = -0.5 * K.sum(\n",
    "# 1 + codings_log_var - K.exp(codings_log_var) - K.square(codings_mean),\n",
    "# axis=-1)\n",
    "\n",
    "# # latent_loss = 0.02 * K.mean(1 + codings_log_var - K.square(codings_mean) - K.exp(codings_log_var), axis=None)\n",
    "\n",
    "# variational_ae.add_loss(K.mean(latent_loss) / 147456.)\n",
    "# variational_ae.compile(loss=\"binary_crossentropy\", optimizer=\"rmsprop\")"
   ]
  },
  {
   "cell_type": "code",
   "execution_count": 14,
   "id": "09e47e05",
   "metadata": {},
   "outputs": [
    {
     "name": "stdout",
     "output_type": "stream",
     "text": [
      "WARNING:tensorflow:From c:\\Users\\eller\\Desktop\\iniciaçãoCientifica\\music-generation\\env\\lib\\site-packages\\keras\\layers\\normalization\\batch_normalization.py:532: _colocate_with (from tensorflow.python.framework.ops) is deprecated and will be removed in a future version.\n",
      "Instructions for updating:\n",
      "Colocations handled automatically by placer.\n"
     ]
    },
    {
     "ename": "InternalError",
     "evalue": "cudaGetDevice() failed. Status: cudaGetErrorString symbol not found.",
     "output_type": "error",
     "traceback": [
      "\u001b[1;31m---------------------------------------------------------------------------\u001b[0m",
      "\u001b[1;31mInternalError\u001b[0m                             Traceback (most recent call last)",
      "\u001b[1;32mc:\\Users\\eller\\Desktop\\iniciaçãoCientifica\\music-generation\\model_variational_autoenconder.ipynb Cell 13'\u001b[0m in \u001b[0;36m<cell line: 47>\u001b[1;34m()\u001b[0m\n\u001b[0;32m     <a href='vscode-notebook-cell:/c%3A/Users/eller/Desktop/inicia%C3%A7%C3%A3oCientifica/music-generation/model_variational_autoenconder.ipynb#ch0000014?line=40'>41</a>\u001b[0m variational_ae \u001b[39m=\u001b[39m keras\u001b[39m.\u001b[39mModel(inputs\u001b[39m=\u001b[39m[x_in], outputs\u001b[39m=\u001b[39m[reconstructions])\n\u001b[0;32m     <a href='vscode-notebook-cell:/c%3A/Users/eller/Desktop/inicia%C3%A7%C3%A3oCientifica/music-generation/model_variational_autoenconder.ipynb#ch0000014?line=42'>43</a>\u001b[0m latent_loss \u001b[39m=\u001b[39m \u001b[39m-\u001b[39m\u001b[39m0.5\u001b[39m \u001b[39m*\u001b[39m K\u001b[39m.\u001b[39msum(\n\u001b[0;32m     <a href='vscode-notebook-cell:/c%3A/Users/eller/Desktop/inicia%C3%A7%C3%A3oCientifica/music-generation/model_variational_autoenconder.ipynb#ch0000014?line=43'>44</a>\u001b[0m     \u001b[39m1\u001b[39m \u001b[39m+\u001b[39m codings_log_var \u001b[39m-\u001b[39m K\u001b[39m.\u001b[39mexp(codings_log_var) \u001b[39m-\u001b[39m K\u001b[39m.\u001b[39msquare(codings_mean), axis\u001b[39m=\u001b[39m\u001b[39m-\u001b[39m\u001b[39m1\u001b[39m\n\u001b[0;32m     <a href='vscode-notebook-cell:/c%3A/Users/eller/Desktop/inicia%C3%A7%C3%A3oCientifica/music-generation/model_variational_autoenconder.ipynb#ch0000014?line=44'>45</a>\u001b[0m )\n\u001b[1;32m---> <a href='vscode-notebook-cell:/c%3A/Users/eller/Desktop/inicia%C3%A7%C3%A3oCientifica/music-generation/model_variational_autoenconder.ipynb#ch0000014?line=46'>47</a>\u001b[0m variational_ae\u001b[39m.\u001b[39;49madd_loss(K\u001b[39m.\u001b[39;49mmean(latent_loss) \u001b[39m/\u001b[39;49m \u001b[39m147456.0\u001b[39;49m)\n\u001b[0;32m     <a href='vscode-notebook-cell:/c%3A/Users/eller/Desktop/inicia%C3%A7%C3%A3oCientifica/music-generation/model_variational_autoenconder.ipynb#ch0000014?line=47'>48</a>\u001b[0m variational_ae\u001b[39m.\u001b[39mcompile(loss\u001b[39m=\u001b[39m\u001b[39m\"\u001b[39m\u001b[39mbinary_crossentropy\u001b[39m\u001b[39m\"\u001b[39m, optimizer\u001b[39m=\u001b[39m\u001b[39m\"\u001b[39m\u001b[39mrmsprop\u001b[39m\u001b[39m\"\u001b[39m)\n",
      "File \u001b[1;32mc:\\Users\\eller\\Desktop\\iniciaçãoCientifica\\music-generation\\env\\lib\\site-packages\\keras\\engine\\base_layer_v1.py:1054\u001b[0m, in \u001b[0;36mLayer.add_loss\u001b[1;34m(self, losses, inputs)\u001b[0m\n\u001b[0;32m   <a href='file:///c%3A/Users/eller/Desktop/inicia%C3%A7%C3%A3oCientifica/music-generation/env/lib/site-packages/keras/engine/base_layer_v1.py?line=1051'>1052</a>\u001b[0m \u001b[39mfor\u001b[39;00m symbolic_loss \u001b[39min\u001b[39;00m symbolic_losses:\n\u001b[0;32m   <a href='file:///c%3A/Users/eller/Desktop/inicia%C3%A7%C3%A3oCientifica/music-generation/env/lib/site-packages/keras/engine/base_layer_v1.py?line=1052'>1053</a>\u001b[0m   \u001b[39mif\u001b[39;00m \u001b[39mgetattr\u001b[39m(\u001b[39mself\u001b[39m, \u001b[39m'\u001b[39m\u001b[39m_is_graph_network\u001b[39m\u001b[39m'\u001b[39m, \u001b[39mFalse\u001b[39;00m):\n\u001b[1;32m-> <a href='file:///c%3A/Users/eller/Desktop/inicia%C3%A7%C3%A3oCientifica/music-generation/env/lib/site-packages/keras/engine/base_layer_v1.py?line=1053'>1054</a>\u001b[0m     \u001b[39mself\u001b[39;49m\u001b[39m.\u001b[39;49m_graph_network_add_loss(symbolic_loss)\n\u001b[0;32m   <a href='file:///c%3A/Users/eller/Desktop/inicia%C3%A7%C3%A3oCientifica/music-generation/env/lib/site-packages/keras/engine/base_layer_v1.py?line=1054'>1055</a>\u001b[0m   \u001b[39melse\u001b[39;00m:\n\u001b[0;32m   <a href='file:///c%3A/Users/eller/Desktop/inicia%C3%A7%C3%A3oCientifica/music-generation/env/lib/site-packages/keras/engine/base_layer_v1.py?line=1055'>1056</a>\u001b[0m     \u001b[39m# Possible a loss was added in a Layer's `build`.\u001b[39;00m\n\u001b[0;32m   <a href='file:///c%3A/Users/eller/Desktop/inicia%C3%A7%C3%A3oCientifica/music-generation/env/lib/site-packages/keras/engine/base_layer_v1.py?line=1056'>1057</a>\u001b[0m     \u001b[39mself\u001b[39m\u001b[39m.\u001b[39m_losses\u001b[39m.\u001b[39mappend(symbolic_loss)\n",
      "File \u001b[1;32mc:\\Users\\eller\\Desktop\\iniciaçãoCientifica\\music-generation\\env\\lib\\site-packages\\keras\\engine\\functional.py:900\u001b[0m, in \u001b[0;36mFunctional._graph_network_add_loss\u001b[1;34m(self, symbolic_loss)\u001b[0m\n\u001b[0;32m    <a href='file:///c%3A/Users/eller/Desktop/inicia%C3%A7%C3%A3oCientifica/music-generation/env/lib/site-packages/keras/engine/functional.py?line=898'>899</a>\u001b[0m \u001b[39mdef\u001b[39;00m \u001b[39m_graph_network_add_loss\u001b[39m(\u001b[39mself\u001b[39m, symbolic_loss):\n\u001b[1;32m--> <a href='file:///c%3A/Users/eller/Desktop/inicia%C3%A7%C3%A3oCientifica/music-generation/env/lib/site-packages/keras/engine/functional.py?line=899'>900</a>\u001b[0m   new_nodes, new_layers \u001b[39m=\u001b[39m _map_subgraph_network(\u001b[39mself\u001b[39;49m\u001b[39m.\u001b[39;49minputs, [symbolic_loss])\n\u001b[0;32m    <a href='file:///c%3A/Users/eller/Desktop/inicia%C3%A7%C3%A3oCientifica/music-generation/env/lib/site-packages/keras/engine/functional.py?line=900'>901</a>\u001b[0m   \u001b[39m# Losses must be keyed on inputs no matter what in order to be supported in\u001b[39;00m\n\u001b[0;32m    <a href='file:///c%3A/Users/eller/Desktop/inicia%C3%A7%C3%A3oCientifica/music-generation/env/lib/site-packages/keras/engine/functional.py?line=901'>902</a>\u001b[0m   \u001b[39m# DistributionStrategy.\u001b[39;00m\n\u001b[0;32m    <a href='file:///c%3A/Users/eller/Desktop/inicia%C3%A7%C3%A3oCientifica/music-generation/env/lib/site-packages/keras/engine/functional.py?line=902'>903</a>\u001b[0m   add_loss_layer \u001b[39m=\u001b[39m base_layer\u001b[39m.\u001b[39mAddLoss(\n\u001b[0;32m    <a href='file:///c%3A/Users/eller/Desktop/inicia%C3%A7%C3%A3oCientifica/music-generation/env/lib/site-packages/keras/engine/functional.py?line=903'>904</a>\u001b[0m       unconditional\u001b[39m=\u001b[39m\u001b[39mFalse\u001b[39;00m, dtype\u001b[39m=\u001b[39msymbolic_loss\u001b[39m.\u001b[39mdtype)\n",
      "File \u001b[1;32mc:\\Users\\eller\\Desktop\\iniciaçãoCientifica\\music-generation\\env\\lib\\site-packages\\keras\\engine\\functional.py:1128\u001b[0m, in \u001b[0;36m_map_subgraph_network\u001b[1;34m(inputs, outputs)\u001b[0m\n\u001b[0;32m   <a href='file:///c%3A/Users/eller/Desktop/inicia%C3%A7%C3%A3oCientifica/music-generation/env/lib/site-packages/keras/engine/functional.py?line=1117'>1118</a>\u001b[0m \u001b[39m\"\"\"Returns the nodes and layers in the topology from `inputs` to `outputs`.\u001b[39;00m\n\u001b[0;32m   <a href='file:///c%3A/Users/eller/Desktop/inicia%C3%A7%C3%A3oCientifica/music-generation/env/lib/site-packages/keras/engine/functional.py?line=1118'>1119</a>\u001b[0m \n\u001b[0;32m   <a href='file:///c%3A/Users/eller/Desktop/inicia%C3%A7%C3%A3oCientifica/music-generation/env/lib/site-packages/keras/engine/functional.py?line=1119'>1120</a>\u001b[0m \u001b[39mArgs:\u001b[39;00m\n\u001b[1;32m   (...)\u001b[0m\n\u001b[0;32m   <a href='file:///c%3A/Users/eller/Desktop/inicia%C3%A7%C3%A3oCientifica/music-generation/env/lib/site-packages/keras/engine/functional.py?line=1124'>1125</a>\u001b[0m \u001b[39m  A tuple of List{Node] and List[Layer].\u001b[39;00m\n\u001b[0;32m   <a href='file:///c%3A/Users/eller/Desktop/inicia%C3%A7%C3%A3oCientifica/music-generation/env/lib/site-packages/keras/engine/functional.py?line=1125'>1126</a>\u001b[0m \u001b[39m\"\"\"\u001b[39;00m\n\u001b[0;32m   <a href='file:///c%3A/Users/eller/Desktop/inicia%C3%A7%C3%A3oCientifica/music-generation/env/lib/site-packages/keras/engine/functional.py?line=1126'>1127</a>\u001b[0m \u001b[39mif\u001b[39;00m \u001b[39mnot\u001b[39;00m tf\u001b[39m.\u001b[39mcompat\u001b[39m.\u001b[39mv1\u001b[39m.\u001b[39mexecuting_eagerly_outside_functions():\n\u001b[1;32m-> <a href='file:///c%3A/Users/eller/Desktop/inicia%C3%A7%C3%A3oCientifica/music-generation/env/lib/site-packages/keras/engine/functional.py?line=1127'>1128</a>\u001b[0m   base_layer_utils\u001b[39m.\u001b[39;49mcreate_keras_history(outputs)\n\u001b[0;32m   <a href='file:///c%3A/Users/eller/Desktop/inicia%C3%A7%C3%A3oCientifica/music-generation/env/lib/site-packages/keras/engine/functional.py?line=1128'>1129</a>\u001b[0m \u001b[39m# Keep only nodes and layers in the topology between inputs and outputs.\u001b[39;00m\n\u001b[0;32m   <a href='file:///c%3A/Users/eller/Desktop/inicia%C3%A7%C3%A3oCientifica/music-generation/env/lib/site-packages/keras/engine/functional.py?line=1129'>1130</a>\u001b[0m _, nodes_by_depth, layers, _ \u001b[39m=\u001b[39m _map_graph_network(inputs, outputs)\n",
      "File \u001b[1;32mc:\\Users\\eller\\Desktop\\iniciaçãoCientifica\\music-generation\\env\\lib\\site-packages\\keras\\engine\\base_layer_utils.py:175\u001b[0m, in \u001b[0;36mcreate_keras_history\u001b[1;34m(tensors)\u001b[0m\n\u001b[0;32m    <a href='file:///c%3A/Users/eller/Desktop/inicia%C3%A7%C3%A3oCientifica/music-generation/env/lib/site-packages/keras/engine/base_layer_utils.py?line=155'>156</a>\u001b[0m \u001b[39mdef\u001b[39;00m \u001b[39mcreate_keras_history\u001b[39m(tensors):\n\u001b[0;32m    <a href='file:///c%3A/Users/eller/Desktop/inicia%C3%A7%C3%A3oCientifica/music-generation/env/lib/site-packages/keras/engine/base_layer_utils.py?line=156'>157</a>\u001b[0m   \u001b[39m\"\"\"Wraps TensorFlow Operations for compatibility with the Functional API.\u001b[39;00m\n\u001b[0;32m    <a href='file:///c%3A/Users/eller/Desktop/inicia%C3%A7%C3%A3oCientifica/music-generation/env/lib/site-packages/keras/engine/base_layer_utils.py?line=157'>158</a>\u001b[0m \n\u001b[0;32m    <a href='file:///c%3A/Users/eller/Desktop/inicia%C3%A7%C3%A3oCientifica/music-generation/env/lib/site-packages/keras/engine/base_layer_utils.py?line=158'>159</a>\u001b[0m \u001b[39m  This method checks to see if a Tensor in `tensors` is missing Keras metadata\u001b[39;00m\n\u001b[1;32m   (...)\u001b[0m\n\u001b[0;32m    <a href='file:///c%3A/Users/eller/Desktop/inicia%C3%A7%C3%A3oCientifica/music-generation/env/lib/site-packages/keras/engine/base_layer_utils.py?line=172'>173</a>\u001b[0m \u001b[39m      the raw Tensorflow operations.\u001b[39;00m\n\u001b[0;32m    <a href='file:///c%3A/Users/eller/Desktop/inicia%C3%A7%C3%A3oCientifica/music-generation/env/lib/site-packages/keras/engine/base_layer_utils.py?line=173'>174</a>\u001b[0m \u001b[39m  \"\"\"\u001b[39;00m\n\u001b[1;32m--> <a href='file:///c%3A/Users/eller/Desktop/inicia%C3%A7%C3%A3oCientifica/music-generation/env/lib/site-packages/keras/engine/base_layer_utils.py?line=174'>175</a>\u001b[0m   _, created_layers \u001b[39m=\u001b[39m _create_keras_history_helper(tensors, \u001b[39mset\u001b[39;49m(), [])\n\u001b[0;32m    <a href='file:///c%3A/Users/eller/Desktop/inicia%C3%A7%C3%A3oCientifica/music-generation/env/lib/site-packages/keras/engine/base_layer_utils.py?line=175'>176</a>\u001b[0m   \u001b[39mreturn\u001b[39;00m created_layers\n",
      "File \u001b[1;32mc:\\Users\\eller\\Desktop\\iniciaçãoCientifica\\music-generation\\env\\lib\\site-packages\\keras\\engine\\base_layer_utils.py:251\u001b[0m, in \u001b[0;36m_create_keras_history_helper\u001b[1;34m(tensors, processed_ops, created_layers)\u001b[0m\n\u001b[0;32m    <a href='file:///c%3A/Users/eller/Desktop/inicia%C3%A7%C3%A3oCientifica/music-generation/env/lib/site-packages/keras/engine/base_layer_utils.py?line=248'>249</a>\u001b[0m     \u001b[39melse\u001b[39;00m:\n\u001b[0;32m    <a href='file:///c%3A/Users/eller/Desktop/inicia%C3%A7%C3%A3oCientifica/music-generation/env/lib/site-packages/keras/engine/base_layer_utils.py?line=249'>250</a>\u001b[0m       \u001b[39mwith\u001b[39;00m tf\u001b[39m.\u001b[39minit_scope():\n\u001b[1;32m--> <a href='file:///c%3A/Users/eller/Desktop/inicia%C3%A7%C3%A3oCientifica/music-generation/env/lib/site-packages/keras/engine/base_layer_utils.py?line=250'>251</a>\u001b[0m         constants[i] \u001b[39m=\u001b[39m backend\u001b[39m.\u001b[39;49mfunction([], op_input)([])\n\u001b[0;32m    <a href='file:///c%3A/Users/eller/Desktop/inicia%C3%A7%C3%A3oCientifica/music-generation/env/lib/site-packages/keras/engine/base_layer_utils.py?line=251'>252</a>\u001b[0m layer_inputs \u001b[39m=\u001b[39m unnest_if_single_tensor(layer_inputs)\n\u001b[0;32m    <a href='file:///c%3A/Users/eller/Desktop/inicia%C3%A7%C3%A3oCientifica/music-generation/env/lib/site-packages/keras/engine/base_layer_utils.py?line=252'>253</a>\u001b[0m processed_ops, created_layers \u001b[39m=\u001b[39m _create_keras_history_helper(\n\u001b[0;32m    <a href='file:///c%3A/Users/eller/Desktop/inicia%C3%A7%C3%A3oCientifica/music-generation/env/lib/site-packages/keras/engine/base_layer_utils.py?line=253'>254</a>\u001b[0m     layer_inputs, processed_ops, created_layers)\n",
      "File \u001b[1;32mc:\\Users\\eller\\Desktop\\iniciaçãoCientifica\\music-generation\\env\\lib\\site-packages\\keras\\backend.py:4241\u001b[0m, in \u001b[0;36mGraphExecutionFunction.__call__\u001b[1;34m(self, inputs)\u001b[0m\n\u001b[0;32m   <a href='file:///c%3A/Users/eller/Desktop/inicia%C3%A7%C3%A3oCientifica/music-generation/env/lib/site-packages/keras/backend.py?line=4237'>4238</a>\u001b[0m \u001b[39mdef\u001b[39;00m \u001b[39m__call__\u001b[39m(\u001b[39mself\u001b[39m, inputs):\n\u001b[0;32m   <a href='file:///c%3A/Users/eller/Desktop/inicia%C3%A7%C3%A3oCientifica/music-generation/env/lib/site-packages/keras/backend.py?line=4238'>4239</a>\u001b[0m   inputs \u001b[39m=\u001b[39m tf\u001b[39m.\u001b[39mnest\u001b[39m.\u001b[39mflatten(inputs, expand_composites\u001b[39m=\u001b[39m\u001b[39mTrue\u001b[39;00m)\n\u001b[1;32m-> <a href='file:///c%3A/Users/eller/Desktop/inicia%C3%A7%C3%A3oCientifica/music-generation/env/lib/site-packages/keras/backend.py?line=4240'>4241</a>\u001b[0m   session \u001b[39m=\u001b[39m get_session(inputs)\n\u001b[0;32m   <a href='file:///c%3A/Users/eller/Desktop/inicia%C3%A7%C3%A3oCientifica/music-generation/env/lib/site-packages/keras/backend.py?line=4241'>4242</a>\u001b[0m   feed_arrays \u001b[39m=\u001b[39m []\n\u001b[0;32m   <a href='file:///c%3A/Users/eller/Desktop/inicia%C3%A7%C3%A3oCientifica/music-generation/env/lib/site-packages/keras/backend.py?line=4242'>4243</a>\u001b[0m   array_vals \u001b[39m=\u001b[39m []\n",
      "File \u001b[1;32mc:\\Users\\eller\\Desktop\\iniciaçãoCientifica\\music-generation\\env\\lib\\site-packages\\keras\\backend.py:760\u001b[0m, in \u001b[0;36mget_session\u001b[1;34m(op_input_list)\u001b[0m\n\u001b[0;32m    <a href='file:///c%3A/Users/eller/Desktop/inicia%C3%A7%C3%A3oCientifica/music-generation/env/lib/site-packages/keras/backend.py?line=736'>737</a>\u001b[0m \u001b[39m@keras_export\u001b[39m(v1\u001b[39m=\u001b[39m[\u001b[39m'\u001b[39m\u001b[39mkeras.backend.get_session\u001b[39m\u001b[39m'\u001b[39m])\n\u001b[0;32m    <a href='file:///c%3A/Users/eller/Desktop/inicia%C3%A7%C3%A3oCientifica/music-generation/env/lib/site-packages/keras/backend.py?line=737'>738</a>\u001b[0m \u001b[39mdef\u001b[39;00m \u001b[39mget_session\u001b[39m(op_input_list\u001b[39m=\u001b[39m()):\n\u001b[0;32m    <a href='file:///c%3A/Users/eller/Desktop/inicia%C3%A7%C3%A3oCientifica/music-generation/env/lib/site-packages/keras/backend.py?line=738'>739</a>\u001b[0m   \u001b[39m\"\"\"Returns the TF session to be used by the backend.\u001b[39;00m\n\u001b[0;32m    <a href='file:///c%3A/Users/eller/Desktop/inicia%C3%A7%C3%A3oCientifica/music-generation/env/lib/site-packages/keras/backend.py?line=739'>740</a>\u001b[0m \n\u001b[0;32m    <a href='file:///c%3A/Users/eller/Desktop/inicia%C3%A7%C3%A3oCientifica/music-generation/env/lib/site-packages/keras/backend.py?line=740'>741</a>\u001b[0m \u001b[39m  If a default TensorFlow session is available, we will return it.\u001b[39;00m\n\u001b[1;32m   (...)\u001b[0m\n\u001b[0;32m    <a href='file:///c%3A/Users/eller/Desktop/inicia%C3%A7%C3%A3oCientifica/music-generation/env/lib/site-packages/keras/backend.py?line=757'>758</a>\u001b[0m \u001b[39m      A TensorFlow session.\u001b[39;00m\n\u001b[0;32m    <a href='file:///c%3A/Users/eller/Desktop/inicia%C3%A7%C3%A3oCientifica/music-generation/env/lib/site-packages/keras/backend.py?line=758'>759</a>\u001b[0m \u001b[39m  \"\"\"\u001b[39;00m\n\u001b[1;32m--> <a href='file:///c%3A/Users/eller/Desktop/inicia%C3%A7%C3%A3oCientifica/music-generation/env/lib/site-packages/keras/backend.py?line=759'>760</a>\u001b[0m   session \u001b[39m=\u001b[39m _get_session(op_input_list)\n\u001b[0;32m    <a href='file:///c%3A/Users/eller/Desktop/inicia%C3%A7%C3%A3oCientifica/music-generation/env/lib/site-packages/keras/backend.py?line=760'>761</a>\u001b[0m   \u001b[39mif\u001b[39;00m \u001b[39mnot\u001b[39;00m _MANUAL_VAR_INIT:\n\u001b[0;32m    <a href='file:///c%3A/Users/eller/Desktop/inicia%C3%A7%C3%A3oCientifica/music-generation/env/lib/site-packages/keras/backend.py?line=761'>762</a>\u001b[0m     \u001b[39mwith\u001b[39;00m session\u001b[39m.\u001b[39mgraph\u001b[39m.\u001b[39mas_default():\n",
      "File \u001b[1;32mc:\\Users\\eller\\Desktop\\iniciaçãoCientifica\\music-generation\\env\\lib\\site-packages\\keras\\backend.py:731\u001b[0m, in \u001b[0;36m_get_session\u001b[1;34m(op_input_list)\u001b[0m\n\u001b[0;32m    <a href='file:///c%3A/Users/eller/Desktop/inicia%C3%A7%C3%A3oCientifica/music-generation/env/lib/site-packages/keras/backend.py?line=727'>728</a>\u001b[0m       configure_and_create_distributed_session(\n\u001b[0;32m    <a href='file:///c%3A/Users/eller/Desktop/inicia%C3%A7%C3%A3oCientifica/music-generation/env/lib/site-packages/keras/backend.py?line=728'>729</a>\u001b[0m           tf\u001b[39m.\u001b[39mdistribute\u001b[39m.\u001b[39mget_strategy())\n\u001b[0;32m    <a href='file:///c%3A/Users/eller/Desktop/inicia%C3%A7%C3%A3oCientifica/music-generation/env/lib/site-packages/keras/backend.py?line=729'>730</a>\u001b[0m     \u001b[39melse\u001b[39;00m:\n\u001b[1;32m--> <a href='file:///c%3A/Users/eller/Desktop/inicia%C3%A7%C3%A3oCientifica/music-generation/env/lib/site-packages/keras/backend.py?line=730'>731</a>\u001b[0m       _SESSION\u001b[39m.\u001b[39msession \u001b[39m=\u001b[39m tf\u001b[39m.\u001b[39;49mcompat\u001b[39m.\u001b[39;49mv1\u001b[39m.\u001b[39;49mSession(\n\u001b[0;32m    <a href='file:///c%3A/Users/eller/Desktop/inicia%C3%A7%C3%A3oCientifica/music-generation/env/lib/site-packages/keras/backend.py?line=731'>732</a>\u001b[0m           config\u001b[39m=\u001b[39;49mget_default_session_config())\n\u001b[0;32m    <a href='file:///c%3A/Users/eller/Desktop/inicia%C3%A7%C3%A3oCientifica/music-generation/env/lib/site-packages/keras/backend.py?line=732'>733</a>\u001b[0m   session \u001b[39m=\u001b[39m _SESSION\u001b[39m.\u001b[39msession\n\u001b[0;32m    <a href='file:///c%3A/Users/eller/Desktop/inicia%C3%A7%C3%A3oCientifica/music-generation/env/lib/site-packages/keras/backend.py?line=733'>734</a>\u001b[0m \u001b[39mreturn\u001b[39;00m session\n",
      "File \u001b[1;32mc:\\Users\\eller\\Desktop\\iniciaçãoCientifica\\music-generation\\env\\lib\\site-packages\\tensorflow\\python\\client\\session.py:1603\u001b[0m, in \u001b[0;36mSession.__init__\u001b[1;34m(self, target, graph, config)\u001b[0m\n\u001b[0;32m   <a href='file:///c%3A/Users/eller/Desktop/inicia%C3%A7%C3%A3oCientifica/music-generation/env/lib/site-packages/tensorflow/python/client/session.py?line=1581'>1582</a>\u001b[0m \u001b[39mdef\u001b[39;00m \u001b[39m__init__\u001b[39m(\u001b[39mself\u001b[39m, target\u001b[39m=\u001b[39m\u001b[39m'\u001b[39m\u001b[39m'\u001b[39m, graph\u001b[39m=\u001b[39m\u001b[39mNone\u001b[39;00m, config\u001b[39m=\u001b[39m\u001b[39mNone\u001b[39;00m):\n\u001b[0;32m   <a href='file:///c%3A/Users/eller/Desktop/inicia%C3%A7%C3%A3oCientifica/music-generation/env/lib/site-packages/tensorflow/python/client/session.py?line=1582'>1583</a>\u001b[0m   \u001b[39m\"\"\"Creates a new TensorFlow session.\u001b[39;00m\n\u001b[0;32m   <a href='file:///c%3A/Users/eller/Desktop/inicia%C3%A7%C3%A3oCientifica/music-generation/env/lib/site-packages/tensorflow/python/client/session.py?line=1583'>1584</a>\u001b[0m \n\u001b[0;32m   <a href='file:///c%3A/Users/eller/Desktop/inicia%C3%A7%C3%A3oCientifica/music-generation/env/lib/site-packages/tensorflow/python/client/session.py?line=1584'>1585</a>\u001b[0m \u001b[39m  If no `graph` argument is specified when constructing the session,\u001b[39;00m\n\u001b[1;32m   (...)\u001b[0m\n\u001b[0;32m   <a href='file:///c%3A/Users/eller/Desktop/inicia%C3%A7%C3%A3oCientifica/music-generation/env/lib/site-packages/tensorflow/python/client/session.py?line=1600'>1601</a>\u001b[0m \u001b[39m        protocol buffer with configuration options for the session.\u001b[39;00m\n\u001b[0;32m   <a href='file:///c%3A/Users/eller/Desktop/inicia%C3%A7%C3%A3oCientifica/music-generation/env/lib/site-packages/tensorflow/python/client/session.py?line=1601'>1602</a>\u001b[0m \u001b[39m  \"\"\"\u001b[39;00m\n\u001b[1;32m-> <a href='file:///c%3A/Users/eller/Desktop/inicia%C3%A7%C3%A3oCientifica/music-generation/env/lib/site-packages/tensorflow/python/client/session.py?line=1602'>1603</a>\u001b[0m   \u001b[39msuper\u001b[39;49m(Session, \u001b[39mself\u001b[39;49m)\u001b[39m.\u001b[39;49m\u001b[39m__init__\u001b[39;49m(target, graph, config\u001b[39m=\u001b[39;49mconfig)\n\u001b[0;32m   <a href='file:///c%3A/Users/eller/Desktop/inicia%C3%A7%C3%A3oCientifica/music-generation/env/lib/site-packages/tensorflow/python/client/session.py?line=1603'>1604</a>\u001b[0m   \u001b[39m# NOTE(mrry): Create these on first `__enter__` to avoid a reference cycle.\u001b[39;00m\n\u001b[0;32m   <a href='file:///c%3A/Users/eller/Desktop/inicia%C3%A7%C3%A3oCientifica/music-generation/env/lib/site-packages/tensorflow/python/client/session.py?line=1604'>1605</a>\u001b[0m   \u001b[39mself\u001b[39m\u001b[39m.\u001b[39m_default_graph_context_manager \u001b[39m=\u001b[39m \u001b[39mNone\u001b[39;00m\n",
      "File \u001b[1;32mc:\\Users\\eller\\Desktop\\iniciaçãoCientifica\\music-generation\\env\\lib\\site-packages\\tensorflow\\python\\client\\session.py:711\u001b[0m, in \u001b[0;36mBaseSession.__init__\u001b[1;34m(self, target, graph, config)\u001b[0m\n\u001b[0;32m    <a href='file:///c%3A/Users/eller/Desktop/inicia%C3%A7%C3%A3oCientifica/music-generation/env/lib/site-packages/tensorflow/python/client/session.py?line=707'>708</a>\u001b[0m opts \u001b[39m=\u001b[39m tf_session\u001b[39m.\u001b[39mTF_NewSessionOptions(target\u001b[39m=\u001b[39m\u001b[39mself\u001b[39m\u001b[39m.\u001b[39m_target, config\u001b[39m=\u001b[39mconfig)\n\u001b[0;32m    <a href='file:///c%3A/Users/eller/Desktop/inicia%C3%A7%C3%A3oCientifica/music-generation/env/lib/site-packages/tensorflow/python/client/session.py?line=708'>709</a>\u001b[0m \u001b[39mtry\u001b[39;00m:\n\u001b[0;32m    <a href='file:///c%3A/Users/eller/Desktop/inicia%C3%A7%C3%A3oCientifica/music-generation/env/lib/site-packages/tensorflow/python/client/session.py?line=709'>710</a>\u001b[0m   \u001b[39m# pylint: disable=protected-access\u001b[39;00m\n\u001b[1;32m--> <a href='file:///c%3A/Users/eller/Desktop/inicia%C3%A7%C3%A3oCientifica/music-generation/env/lib/site-packages/tensorflow/python/client/session.py?line=710'>711</a>\u001b[0m   \u001b[39mself\u001b[39m\u001b[39m.\u001b[39m_session \u001b[39m=\u001b[39m tf_session\u001b[39m.\u001b[39;49mTF_NewSessionRef(\u001b[39mself\u001b[39;49m\u001b[39m.\u001b[39;49m_graph\u001b[39m.\u001b[39;49m_c_graph, opts)\n\u001b[0;32m    <a href='file:///c%3A/Users/eller/Desktop/inicia%C3%A7%C3%A3oCientifica/music-generation/env/lib/site-packages/tensorflow/python/client/session.py?line=711'>712</a>\u001b[0m   \u001b[39m# pylint: enable=protected-access\u001b[39;00m\n\u001b[0;32m    <a href='file:///c%3A/Users/eller/Desktop/inicia%C3%A7%C3%A3oCientifica/music-generation/env/lib/site-packages/tensorflow/python/client/session.py?line=712'>713</a>\u001b[0m \u001b[39mfinally\u001b[39;00m:\n\u001b[0;32m    <a href='file:///c%3A/Users/eller/Desktop/inicia%C3%A7%C3%A3oCientifica/music-generation/env/lib/site-packages/tensorflow/python/client/session.py?line=713'>714</a>\u001b[0m   tf_session\u001b[39m.\u001b[39mTF_DeleteSessionOptions(opts)\n",
      "\u001b[1;31mInternalError\u001b[0m: cudaGetDevice() failed. Status: cudaGetErrorString symbol not found."
     ]
    }
   ],
   "source": [
    "PARAM_SIZE = 16\n",
    "\n",
    "x_in = Input(shape=y_shape[1:])\n",
    "z = Reshape((y_shape[1], -1))(x_in)\n",
    "z = TimeDistributed(Dense(64, activation=\"relu\"))(z)\n",
    "z = Flatten()(z)\n",
    "z = Dense(1024, activation=\"relu\")(z)\n",
    "z = Dense(256, activation=\"relu\")(z)\n",
    "z = Dense(64, activation=\"relu\")(z)\n",
    "\n",
    "codings_mean = keras.layers.Dense(PARAM_SIZE)(z)  # μ\n",
    "codings_log_var = keras.layers.Dense(PARAM_SIZE)(z)  # γ\n",
    "codings = Sampling()([codings_mean, codings_log_var])\n",
    "variational_encoder = keras.Model(\n",
    "    inputs=[x_in], outputs=[codings_mean, codings_log_var, codings]\n",
    ")\n",
    "\n",
    "\n",
    "decoder_inputs = keras.layers.Input(shape=[PARAM_SIZE])\n",
    "x = Dense(64, name=\"encoder\")(decoder_inputs)\n",
    "x = BatchNormalization(momentum=BN_M)(x)\n",
    "x = Activation(\"relu\")(x)\n",
    "x = Dropout(DO_RATE)(x)\n",
    "x = Dense(256)(x)\n",
    "x = Dense(1024)(x)\n",
    "x = Reshape((16, 64))(x)\n",
    "x = TimeDistributed(BatchNormalization(momentum=BN_M))(x)\n",
    "x = Activation(\"relu\")(x)\n",
    "x = Dropout(DO_RATE)(x)\n",
    "x = TimeDistributed(Dense(9216))(x)\n",
    "x = TimeDistributed(BatchNormalization(momentum=BN_M))(x)\n",
    "x = Activation(\"relu\")(x)\n",
    "x = Dropout(DO_RATE)(x)\n",
    "x = TimeDistributed(Dense(y_shape[2] * y_shape[3], activation=\"sigmoid\"))(x)\n",
    "outputs = Reshape((y_shape[1], y_shape[2], y_shape[3]))(x)\n",
    "\n",
    "variational_decoder = keras.Model(inputs=[decoder_inputs], outputs=[outputs])\n",
    "\n",
    "_, _, codings = variational_encoder(x_in)\n",
    "reconstructions = variational_decoder(codings)\n",
    "variational_ae = keras.Model(inputs=[x_in], outputs=[reconstructions])\n",
    "\n",
    "latent_loss = -0.5 * K.sum(\n",
    "    1 + codings_log_var - K.exp(codings_log_var) - K.square(codings_mean), axis=-1\n",
    ")\n",
    "\n",
    "variational_ae.add_loss(K.mean(latent_loss) / 147456.0)\n",
    "variational_ae.compile(loss=\"binary_crossentropy\", optimizer=\"rmsprop\")\n"
   ]
  },
  {
   "cell_type": "code",
   "execution_count": 12,
   "id": "5bb02698",
   "metadata": {},
   "outputs": [],
   "source": [
    "log_dir = os.path.join(\n",
    "    \"logs\",\n",
    "    datetime.datetime.now().strftime(\"%Y%m%d-%H%M%S\"),\n",
    ")\n",
    "callbacks = [\n",
    "    tf.keras.callbacks.TensorBoard(log_dir=log_dir),\n",
    "]"
   ]
  },
  {
   "cell_type": "code",
   "execution_count": 13,
   "id": "cfb44354",
   "metadata": {},
   "outputs": [
    {
     "name": "stdout",
     "output_type": "stream",
     "text": [
      "Train on 178 samples, validate on 60 samples\n",
      "Epoch 1/50\n"
     ]
    },
    {
     "name": "stderr",
     "output_type": "stream",
     "text": [
      "c:\\Users\\eller\\Desktop\\iniciaçãoCientifica\\music-generation\\env\\lib\\site-packages\\keras\\engine\\training_v1.py:2057: UserWarning: `Model.state_updates` will be removed in a future version. This property should not be used in TensorFlow 2.0, as `updates` are applied automatically.\n",
      "  updates = self.state_updates\n"
     ]
    },
    {
     "name": "stdout",
     "output_type": "stream",
     "text": [
      "178/178 - 10s - loss: 0.7480 - val_loss: 0.6703 - 10s/epoch - 55ms/sample\n",
      "Epoch 2/50\n"
     ]
    }
   ],
   "source": [
    "history = variational_ae.fit(\n",
    "    y_train,\n",
    "    y_train,\n",
    "    epochs=NUM_EPOCHS,\n",
    "    batch_size=BATCH_SIZE,\n",
    "    validation_data=(y_valid, y_valid),\n",
    "    callbacks=callbacks,\n",
    "    verbose=2,\n",
    ")\n",
    "\n",
    "loss = history.history[\"loss\"][-1]\n",
    "print(f\"Train Loss: {loss}\")\n",
    "\n",
    "write_dir = 'HistoryVAAuto/'\n",
    "variational_ae.save('HistoryVAAuto/variational_ae.h5')"
   ]
  },
  {
   "cell_type": "code",
   "execution_count": null,
   "id": "3e1488c6",
   "metadata": {},
   "outputs": [
    {
     "name": "stderr",
     "output_type": "stream",
     "text": [
      "c:\\Users\\eller\\Desktop\\iniciaçãoCientifica\\music-generation\\env\\lib\\site-packages\\keras\\engine\\training_v1.py:2079: UserWarning: `Model.state_updates` will be removed in a future version. This property should not be used in TensorFlow 2.0, as `updates` are applied automatically.\n",
      "  updates=self.state_updates,\n"
     ]
    }
   ],
   "source": [
    "teste = np.random.normal(0.0, 1.0, (PARAM_SIZE))\n",
    "y_song = variational_decoder.predict(teste.reshape(1,PARAM_SIZE))\n",
    "midi.samples_to_midi(y_song[0], write_dir + 'test1.mid', 96, 0.5)"
   ]
  },
  {
   "cell_type": "code",
   "execution_count": null,
   "id": "ac1164eb",
   "metadata": {},
   "outputs": [],
   "source": [
    "func = K.function([variational_decoder.get_layer('encoder').input, K.learning_phase()], [variational_decoder.layers[-1].output])\n",
    "enc = Model(inputs=variational_encoder.input, outputs=variational_encoder.layers[-1].output)"
   ]
  },
  {
   "cell_type": "code",
   "execution_count": null,
   "id": "617f7bbc",
   "metadata": {},
   "outputs": [],
   "source": [
    "rand_vecs = np.random.normal(0.0, 1.0, (NUM_RAND_SONGS, PARAM_SIZE))\n",
    "np.save('rand.npy', rand_vecs)"
   ]
  },
  {
   "cell_type": "code",
   "execution_count": null,
   "id": "c6965b3f",
   "metadata": {},
   "outputs": [],
   "source": [
    "def make_rand_songs(write_dir, rand_vecs):\n",
    "    for i in range(rand_vecs.shape[0]):\n",
    "        x_rand = rand_vecs[i:i+1]\n",
    "        y_song = variational_decoder.predict(x_rand.reshape(1,PARAM_SIZE))\n",
    "        midi.samples_to_midi(y_song[0], write_dir + 'rand' + str(i) + '.mid', 16, 0.5)\n",
    "\n",
    "def make_rand_songs_normalized(write_dir, rand_vecs):\n",
    "    x_enc = np.squeeze(enc.predict(y_orig))\n",
    "\n",
    "    x_mean = np.mean(x_enc, axis=0)\n",
    "    x_cov = np.cov((x_enc - x_mean).T)\n",
    "    _, s, v = np.linalg.svd(x_cov)\n",
    "    e = np.sqrt(s)\n",
    "\n",
    "    print(f\"Means: {x_mean[:6]}\")\n",
    "    print(f\"Evals: {e[:6]} \")\n",
    "\n",
    "    x_vecs = x_mean + np.dot(rand_vecs * e, v)\n",
    "    make_rand_songs(write_dir, x_vecs)"
   ]
  },
  {
   "cell_type": "code",
   "execution_count": null,
   "id": "e82ea914",
   "metadata": {},
   "outputs": [
    {
     "name": "stdout",
     "output_type": "stream",
     "text": [
      "Means: [ 0.2553613  -0.6570139  -0.30995566 -0.15215094  0.43708682  0.33621833]\n",
      "Evals: [1.29500311 0.71246686 0.39803132 0.34032681 0.23375806 0.1849534 ] \n"
     ]
    }
   ],
   "source": [
    "y_song = variational_ae.predict((y_test_song).reshape(1,16,96,96), batch_size=BATCH_SIZE)\n",
    "\n",
    "midi.samples_to_midi(y_song[0], write_dir + 'test.mid', 16)\n",
    "make_rand_songs_normalized(write_dir, rand_vecs)"
   ]
  },
  {
   "cell_type": "code",
   "execution_count": null,
   "id": "faffe2c3",
   "metadata": {},
   "outputs": [],
   "source": [
    "# new_model = tf.keras.models.load_model('HistoryVAAuto/model.h5')"
   ]
  }
 ],
 "metadata": {
  "interpreter": {
   "hash": "9120da6c2d63ded445b1a09e31569bbaba4e2e721b03136355509f1402b65420"
  },
  "kernelspec": {
   "display_name": "Python (IC)",
   "language": "python",
   "name": "python3"
  },
  "language_info": {
   "codemirror_mode": {
    "name": "ipython",
    "version": 3
   },
   "file_extension": ".py",
   "mimetype": "text/x-python",
   "name": "python",
   "nbconvert_exporter": "python",
   "pygments_lexer": "ipython3",
   "version": "3.10.2"
  }
 },
 "nbformat": 4,
 "nbformat_minor": 5
}
