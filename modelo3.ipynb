{
 "cells": [
  {
   "cell_type": "code",
   "execution_count": 1,
   "id": "53292e1e",
   "metadata": {},
   "outputs": [],
   "source": [
    "import datetime\n",
    "import os\n",
    "import random\n",
    "\n",
    "import keras\n",
    "import numpy as np\n",
    "import tensorflow as tf\n",
    "from tensorflow.keras import backend as K\n",
    "from tensorflow.keras.layers import (Activation, BatchNormalization, Dense,\n",
    "                                     Dropout, Flatten, Reshape, Input,\n",
    "                                     TimeDistributed)\n",
    "from tensorflow.keras.models import Model\n",
    "\n",
    "tf.compat.v1.disable_eager_execution()\n",
    "\n",
    "import midi"
   ]
  },
  {
   "cell_type": "code",
   "execution_count": 2,
   "id": "31ccf1f6",
   "metadata": {},
   "outputs": [],
   "source": [
    "NUM_EPOCHS = 50\n",
    "DO_RATE = 0.1\n",
    "BN_M = 0.9\n",
    "BATCH_SIZE = 128\n",
    "PARAM_SIZE = 72\n",
    "\n",
    "np.random.seed(0)\n",
    "random.seed(0)"
   ]
  },
  {
   "cell_type": "code",
   "execution_count": 3,
   "id": "3d014c2e",
   "metadata": {},
   "outputs": [],
   "source": [
    "y = np.load('pypianorollSamples.npy')\n",
    "y = y.reshape(len(y) * 4, 512, 72)\n",
    "y_shape = y.shape"
   ]
  },
  {
   "cell_type": "code",
   "execution_count": 4,
   "id": "d939754d",
   "metadata": {},
   "outputs": [],
   "source": [
    "y_train = y[:int(y.shape[0]*0.80)]\n",
    "y_valid = y[int(y.shape[0]*0.80):y.shape[0]]\n",
    "\n",
    "y_test_song = np.copy(y[0])"
   ]
  },
  {
   "cell_type": "code",
   "execution_count": 5,
   "id": "3d302887",
   "metadata": {},
   "outputs": [],
   "source": [
    "class Sampling(keras.layers.Layer):\n",
    "    def call(self, inputs):\n",
    "        mean, log_var = inputs \n",
    "        return K.random_normal(tf.shape(log_var), stddev=0.1) * K.exp(log_var / 2) + mean\n"
   ]
  },
  {
   "cell_type": "code",
   "execution_count": 6,
   "id": "5c295d0e",
   "metadata": {},
   "outputs": [],
   "source": [
    "x_in = Input(shape=y_shape[1:])\n",
    "z = TimeDistributed(Dense(36, activation='relu'))(x_in)\n",
    "z = TimeDistributed(Dense(18, activation='relu'))(z)\n",
    "z = TimeDistributed(Dense(8, activation='relu'))(z)\n",
    "z = Flatten()(z)\n",
    "z = Dense(2048, activation='relu')(z)\n",
    "z = Dense(1024, activation='relu')(z)\n",
    "z = Dense(512, activation='relu')(z)\n",
    "z = Dense(256, activation='relu')(z)\n",
    "z = Dense(128, activation='relu')(z)\n",
    "codings_mean = Dense(PARAM_SIZE)(z)\n",
    "codings_log_var = Dense(PARAM_SIZE)(z)\n",
    "codings = Sampling()([codings_mean, codings_log_var])\n",
    "variational_encoder = Model(inputs=[x_in], outputs=[codings_mean, codings_log_var, codings])"
   ]
  },
  {
   "cell_type": "code",
   "execution_count": 7,
   "id": "641ac02b",
   "metadata": {},
   "outputs": [
    {
     "name": "stdout",
     "output_type": "stream",
     "text": [
      "WARNING:tensorflow:From /home/vigrel/Desktop/IC/music-generation/tf2.6/lib/python3.8/site-packages/keras/layers/normalization/batch_normalization.py:514: _colocate_with (from tensorflow.python.framework.ops) is deprecated and will be removed in a future version.\n",
      "Instructions for updating:\n",
      "Colocations handled automatically by placer.\n"
     ]
    },
    {
     "name": "stderr",
     "output_type": "stream",
     "text": [
      "2022-07-21 14:43:14.686892: I tensorflow/stream_executor/cuda/cuda_gpu_executor.cc:975] successful NUMA node read from SysFS had negative value (-1), but there must be at least one NUMA node, so returning NUMA node zero\n",
      "2022-07-21 14:43:14.776271: I tensorflow/stream_executor/cuda/cuda_gpu_executor.cc:975] successful NUMA node read from SysFS had negative value (-1), but there must be at least one NUMA node, so returning NUMA node zero\n",
      "2022-07-21 14:43:14.776811: I tensorflow/stream_executor/cuda/cuda_gpu_executor.cc:975] successful NUMA node read from SysFS had negative value (-1), but there must be at least one NUMA node, so returning NUMA node zero\n"
     ]
    }
   ],
   "source": [
    "decoder_inputs = Input(shape=[PARAM_SIZE])\n",
    "x = Dense(PARAM_SIZE,  name= 'encoder')(decoder_inputs)\n",
    "x = Dense(128)(x)\n",
    "x = BatchNormalization(momentum=BN_M)(x)\n",
    "x = Activation(\"relu\")(x)\n",
    "x = Dropout(DO_RATE)(x)\n",
    "x = Dense(256)(x)\n",
    "x = BatchNormalization(momentum=BN_M)(x)\n",
    "x = Activation(\"relu\")(x)\n",
    "x = Dropout(DO_RATE)(x)\n",
    "x = Dense(512)(x)\n",
    "x = BatchNormalization(momentum=BN_M)(x)\n",
    "x = Activation(\"relu\")(x)\n",
    "x = Dropout(DO_RATE)(x)\n",
    "x = Dense(1024)(x)\n",
    "x = BatchNormalization(momentum=BN_M)(x)\n",
    "x = Activation(\"relu\")(x)\n",
    "x = Dropout(DO_RATE)(x)\n",
    "x = Dense(2048)(x)\n",
    "x = BatchNormalization(momentum=BN_M)(x)\n",
    "x = Activation(\"relu\")(x)\n",
    "x = Dropout(DO_RATE)(x)\n",
    "x = Dense(4096)(x)\n",
    "x = BatchNormalization(momentum=BN_M)(x)\n",
    "x = Activation(\"relu\")(x)\n",
    "x = Dropout(DO_RATE)(x)\n",
    "x = Reshape((512,8))(x)\n",
    "x = TimeDistributed(Dense(18))(x)\n",
    "x = TimeDistributed(BatchNormalization(momentum=BN_M))(x)\n",
    "x = Activation(\"relu\")(x)\n",
    "x = Dropout(DO_RATE)(x)\n",
    "x = TimeDistributed(Dense(36))(x)\n",
    "x = TimeDistributed(BatchNormalization(momentum=BN_M))(x)\n",
    "x = Activation(\"relu\")(x)\n",
    "x = Dropout(DO_RATE)(x)\n",
    "x = TimeDistributed(Dense(72))(x)\n",
    "outputs = Reshape((512,72))(x)\n",
    "variational_decoder = Model(inputs=[decoder_inputs], outputs=[x])"
   ]
  },
  {
   "cell_type": "code",
   "execution_count": 8,
   "id": "7c00fb8e",
   "metadata": {},
   "outputs": [
    {
     "name": "stderr",
     "output_type": "stream",
     "text": [
      "2022-07-21 14:43:18.655139: I tensorflow/core/platform/cpu_feature_guard.cc:193] This TensorFlow binary is optimized with oneAPI Deep Neural Network Library (oneDNN) to use the following CPU instructions in performance-critical operations:  AVX2 FMA\n",
      "To enable them in other operations, rebuild TensorFlow with the appropriate compiler flags.\n",
      "2022-07-21 14:43:18.656859: I tensorflow/stream_executor/cuda/cuda_gpu_executor.cc:975] successful NUMA node read from SysFS had negative value (-1), but there must be at least one NUMA node, so returning NUMA node zero\n",
      "2022-07-21 14:43:18.657464: I tensorflow/stream_executor/cuda/cuda_gpu_executor.cc:975] successful NUMA node read from SysFS had negative value (-1), but there must be at least one NUMA node, so returning NUMA node zero\n",
      "2022-07-21 14:43:18.658025: I tensorflow/stream_executor/cuda/cuda_gpu_executor.cc:975] successful NUMA node read from SysFS had negative value (-1), but there must be at least one NUMA node, so returning NUMA node zero\n",
      "2022-07-21 14:43:20.022960: I tensorflow/stream_executor/cuda/cuda_gpu_executor.cc:975] successful NUMA node read from SysFS had negative value (-1), but there must be at least one NUMA node, so returning NUMA node zero\n",
      "2022-07-21 14:43:20.023547: I tensorflow/stream_executor/cuda/cuda_gpu_executor.cc:975] successful NUMA node read from SysFS had negative value (-1), but there must be at least one NUMA node, so returning NUMA node zero\n",
      "2022-07-21 14:43:20.023890: I tensorflow/stream_executor/cuda/cuda_gpu_executor.cc:975] successful NUMA node read from SysFS had negative value (-1), but there must be at least one NUMA node, so returning NUMA node zero\n",
      "2022-07-21 14:43:20.024231: I tensorflow/core/common_runtime/gpu/gpu_device.cc:1532] Created device /job:localhost/replica:0/task:0/device:GPU:0 with 4628 MB memory:  -> device: 0, name: NVIDIA GeForce RTX 2060, pci bus id: 0000:01:00.0, compute capability: 7.5\n",
      "2022-07-21 14:43:20.124102: I tensorflow/compiler/mlir/mlir_graph_optimization_pass.cc:354] MLIR V1 optimization pass is not enabled\n"
     ]
    }
   ],
   "source": [
    "_, _, codings = variational_encoder(x_in)\n",
    "reconstructions = variational_decoder(codings)\n",
    "variational_ae = keras.Model(inputs=[x_in], outputs=[reconstructions])\n",
    "\n",
    "latent_loss = -0.5 * K.sum(\n",
    "1 + codings_log_var - K.exp(codings_log_var) - K.square(codings_mean),\n",
    "axis=-1)\n",
    "\n",
    "variational_ae.add_loss(K.mean(latent_loss) * 10000 / 36864.)\n",
    "variational_ae.compile(loss=\"binary_crossentropy\", optimizer=\"rmsprop\")"
   ]
  },
  {
   "cell_type": "code",
   "execution_count": 10,
   "id": "0333fdab",
   "metadata": {},
   "outputs": [
    {
     "name": "stdout",
     "output_type": "stream",
     "text": [
      "Model: \"model_2\"\n",
      "__________________________________________________________________________________________________\n",
      " Layer (type)                   Output Shape         Param #     Connected to                     \n",
      "==================================================================================================\n",
      " input_1 (InputLayer)           [(None, 512, 72)]    0           []                               \n",
      "                                                                                                  \n",
      " model (Functional)             [(None, 72),         11199878    ['input_1[0][0]']                \n",
      "                                 (None, 72),                                                      \n",
      "                                 (None, 72)]                                                      \n",
      "                                                                                                  \n",
      " model_1 (Functional)           (None, 512, 72)      11232406    ['model[0][2]']                  \n",
      "                                                                                                  \n",
      " time_distributed (TimeDistribu  (None, 512, 36)     2628        ['input_1[0][0]']                \n",
      " ted)                                                                                             \n",
      "                                                                                                  \n",
      " time_distributed_1 (TimeDistri  (None, 512, 18)     666         ['time_distributed[0][0]']       \n",
      " buted)                                                                                           \n",
      "                                                                                                  \n",
      " time_distributed_2 (TimeDistri  (None, 512, 8)      152         ['time_distributed_1[0][0]']     \n",
      " buted)                                                                                           \n",
      "                                                                                                  \n",
      " flatten (Flatten)              (None, 4096)         0           ['time_distributed_2[0][0]']     \n",
      "                                                                                                  \n",
      " dense_3 (Dense)                (None, 2048)         8390656     ['flatten[0][0]']                \n",
      "                                                                                                  \n",
      " dense_4 (Dense)                (None, 1024)         2098176     ['dense_3[0][0]']                \n",
      "                                                                                                  \n",
      " dense_5 (Dense)                (None, 512)          524800      ['dense_4[0][0]']                \n",
      "                                                                                                  \n",
      " dense_6 (Dense)                (None, 256)          131328      ['dense_5[0][0]']                \n",
      "                                                                                                  \n",
      " dense_7 (Dense)                (None, 128)          32896       ['dense_6[0][0]']                \n",
      "                                                                                                  \n",
      " dense_9 (Dense)                (None, 72)           9288        ['dense_7[0][0]']                \n",
      "                                                                                                  \n",
      " tf_op_layer_add (TensorFlowOpL  [(None, 72)]        0           ['dense_9[0][0]']                \n",
      " ayer)                                                                                            \n",
      "                                                                                                  \n",
      " tf_op_layer_Exp (TensorFlowOpL  [(None, 72)]        0           ['dense_9[0][0]']                \n",
      " ayer)                                                                                            \n",
      "                                                                                                  \n",
      " dense_8 (Dense)                (None, 72)           9288        ['dense_7[0][0]']                \n",
      "                                                                                                  \n",
      " tf_op_layer_sub (TensorFlowOpL  [(None, 72)]        0           ['tf_op_layer_add[0][0]',        \n",
      " ayer)                                                            'tf_op_layer_Exp[0][0]']        \n",
      "                                                                                                  \n",
      " tf_op_layer_Square (TensorFlow  [(None, 72)]        0           ['dense_8[0][0]']                \n",
      " OpLayer)                                                                                         \n",
      "                                                                                                  \n",
      " tf_op_layer_sub_1 (TensorFlowO  [(None, 72)]        0           ['tf_op_layer_sub[0][0]',        \n",
      " pLayer)                                                          'tf_op_layer_Square[0][0]']     \n",
      "                                                                                                  \n",
      " tf_op_layer_Sum (TensorFlowOpL  [(None,)]           0           ['tf_op_layer_sub_1[0][0]']      \n",
      " ayer)                                                                                            \n",
      "                                                                                                  \n",
      " tf_op_layer_mul (TensorFlowOpL  [(None,)]           0           ['tf_op_layer_Sum[0][0]']        \n",
      " ayer)                                                                                            \n",
      "                                                                                                  \n",
      " tf_op_layer_Mean (TensorFlowOp  [()]                0           ['tf_op_layer_mul[0][0]']        \n",
      " Layer)                                                                                           \n",
      "                                                                                                  \n",
      " tf_op_layer_mul_1 (TensorFlowO  [()]                0           ['tf_op_layer_Mean[0][0]']       \n",
      " pLayer)                                                                                          \n",
      "                                                                                                  \n",
      " tf_op_layer_truediv (TensorFlo  [()]                0           ['tf_op_layer_mul_1[0][0]']      \n",
      " wOpLayer)                                                                                        \n",
      "                                                                                                  \n",
      " add_loss (AddLoss)             ()                   0           ['tf_op_layer_truediv[0][0]']    \n",
      "                                                                                                  \n",
      "==================================================================================================\n",
      "Total params: 22,432,284\n",
      "Trainable params: 22,416,048\n",
      "Non-trainable params: 16,236\n",
      "__________________________________________________________________________________________________\n"
     ]
    }
   ],
   "source": [
    "variational_ae.summary()"
   ]
  },
  {
   "cell_type": "code",
   "execution_count": null,
   "id": "d8883beb",
   "metadata": {},
   "outputs": [],
   "source": [
    "b"
   ]
  },
  {
   "cell_type": "code",
   "execution_count": 9,
   "id": "cfb44354",
   "metadata": {},
   "outputs": [
    {
     "ename": "KeyboardInterrupt",
     "evalue": "",
     "output_type": "error",
     "traceback": [
      "\u001b[0;31m---------------------------------------------------------------------------\u001b[0m",
      "\u001b[0;31mKeyboardInterrupt\u001b[0m                         Traceback (most recent call last)",
      "\u001b[1;32m/home/vigrel/Desktop/IC/music-generation/modelo3.ipynb Cell 11'\u001b[0m in \u001b[0;36m<cell line: 9>\u001b[0;34m()\u001b[0m\n\u001b[1;32m      <a href='vscode-notebook-cell:/home/vigrel/Desktop/IC/music-generation/modelo3.ipynb#ch0000008?line=0'>1</a>\u001b[0m log_dir \u001b[39m=\u001b[39m os\u001b[39m.\u001b[39mpath\u001b[39m.\u001b[39mjoin(\n\u001b[1;32m      <a href='vscode-notebook-cell:/home/vigrel/Desktop/IC/music-generation/modelo3.ipynb#ch0000008?line=1'>2</a>\u001b[0m     \u001b[39m\"\u001b[39m\u001b[39mlogs\u001b[39m\u001b[39m\"\u001b[39m,\n\u001b[1;32m      <a href='vscode-notebook-cell:/home/vigrel/Desktop/IC/music-generation/modelo3.ipynb#ch0000008?line=2'>3</a>\u001b[0m     datetime\u001b[39m.\u001b[39mdatetime\u001b[39m.\u001b[39mnow()\u001b[39m.\u001b[39mstrftime(\u001b[39m\"\u001b[39m\u001b[39m%\u001b[39m\u001b[39mY\u001b[39m\u001b[39m%\u001b[39m\u001b[39mm\u001b[39m\u001b[39m%d\u001b[39;00m\u001b[39m-\u001b[39m\u001b[39m%\u001b[39m\u001b[39mH\u001b[39m\u001b[39m%\u001b[39m\u001b[39mM\u001b[39m\u001b[39m%\u001b[39m\u001b[39mS\u001b[39m\u001b[39m\"\u001b[39m),\n\u001b[1;32m      <a href='vscode-notebook-cell:/home/vigrel/Desktop/IC/music-generation/modelo3.ipynb#ch0000008?line=3'>4</a>\u001b[0m )\n\u001b[1;32m      <a href='vscode-notebook-cell:/home/vigrel/Desktop/IC/music-generation/modelo3.ipynb#ch0000008?line=4'>5</a>\u001b[0m callbacks \u001b[39m=\u001b[39m [\n\u001b[1;32m      <a href='vscode-notebook-cell:/home/vigrel/Desktop/IC/music-generation/modelo3.ipynb#ch0000008?line=5'>6</a>\u001b[0m     tf\u001b[39m.\u001b[39mkeras\u001b[39m.\u001b[39mcallbacks\u001b[39m.\u001b[39mTensorBoard(log_dir\u001b[39m=\u001b[39mlog_dir),\n\u001b[1;32m      <a href='vscode-notebook-cell:/home/vigrel/Desktop/IC/music-generation/modelo3.ipynb#ch0000008?line=6'>7</a>\u001b[0m ]\n\u001b[0;32m----> <a href='vscode-notebook-cell:/home/vigrel/Desktop/IC/music-generation/modelo3.ipynb#ch0000008?line=8'>9</a>\u001b[0m history \u001b[39m=\u001b[39m variational_ae\u001b[39m.\u001b[39;49mfit(\n\u001b[1;32m     <a href='vscode-notebook-cell:/home/vigrel/Desktop/IC/music-generation/modelo3.ipynb#ch0000008?line=9'>10</a>\u001b[0m     y_train,\n\u001b[1;32m     <a href='vscode-notebook-cell:/home/vigrel/Desktop/IC/music-generation/modelo3.ipynb#ch0000008?line=10'>11</a>\u001b[0m     y_train,\n\u001b[1;32m     <a href='vscode-notebook-cell:/home/vigrel/Desktop/IC/music-generation/modelo3.ipynb#ch0000008?line=11'>12</a>\u001b[0m     callbacks\u001b[39m=\u001b[39;49mcallbacks,\n\u001b[1;32m     <a href='vscode-notebook-cell:/home/vigrel/Desktop/IC/music-generation/modelo3.ipynb#ch0000008?line=12'>13</a>\u001b[0m     epochs\u001b[39m=\u001b[39;49mNUM_EPOCHS,\n\u001b[1;32m     <a href='vscode-notebook-cell:/home/vigrel/Desktop/IC/music-generation/modelo3.ipynb#ch0000008?line=13'>14</a>\u001b[0m     batch_size\u001b[39m=\u001b[39;49mBATCH_SIZE,\n\u001b[1;32m     <a href='vscode-notebook-cell:/home/vigrel/Desktop/IC/music-generation/modelo3.ipynb#ch0000008?line=14'>15</a>\u001b[0m     validation_data\u001b[39m=\u001b[39;49m(y_valid, y_valid),\n\u001b[1;32m     <a href='vscode-notebook-cell:/home/vigrel/Desktop/IC/music-generation/modelo3.ipynb#ch0000008?line=15'>16</a>\u001b[0m     verbose\u001b[39m=\u001b[39;49m\u001b[39m2\u001b[39;49m,\n\u001b[1;32m     <a href='vscode-notebook-cell:/home/vigrel/Desktop/IC/music-generation/modelo3.ipynb#ch0000008?line=16'>17</a>\u001b[0m )\n\u001b[1;32m     <a href='vscode-notebook-cell:/home/vigrel/Desktop/IC/music-generation/modelo3.ipynb#ch0000008?line=18'>19</a>\u001b[0m loss \u001b[39m=\u001b[39m history\u001b[39m.\u001b[39mhistory[\u001b[39m\"\u001b[39m\u001b[39mloss\u001b[39m\u001b[39m\"\u001b[39m][\u001b[39m-\u001b[39m\u001b[39m1\u001b[39m]\n\u001b[1;32m     <a href='vscode-notebook-cell:/home/vigrel/Desktop/IC/music-generation/modelo3.ipynb#ch0000008?line=19'>20</a>\u001b[0m \u001b[39mprint\u001b[39m(\u001b[39mf\u001b[39m\u001b[39m\"\u001b[39m\u001b[39mTrain Loss: \u001b[39m\u001b[39m{\u001b[39;00mloss\u001b[39m}\u001b[39;00m\u001b[39m\"\u001b[39m)\n",
      "File \u001b[0;32m~/Desktop/IC/music-generation/tf2.6/lib/python3.8/site-packages/keras/engine/training_v1.py:776\u001b[0m, in \u001b[0;36mModel.fit\u001b[0;34m(self, x, y, batch_size, epochs, verbose, callbacks, validation_split, validation_data, shuffle, class_weight, sample_weight, initial_epoch, steps_per_epoch, validation_steps, validation_freq, max_queue_size, workers, use_multiprocessing, **kwargs)\u001b[0m\n\u001b[1;32m    <a href='file:///home/vigrel/Desktop/IC/music-generation/tf2.6/lib/python3.8/site-packages/keras/engine/training_v1.py?line=772'>773</a>\u001b[0m \u001b[39mself\u001b[39m\u001b[39m.\u001b[39m_check_call_args(\u001b[39m'\u001b[39m\u001b[39mfit\u001b[39m\u001b[39m'\u001b[39m)\n\u001b[1;32m    <a href='file:///home/vigrel/Desktop/IC/music-generation/tf2.6/lib/python3.8/site-packages/keras/engine/training_v1.py?line=774'>775</a>\u001b[0m func \u001b[39m=\u001b[39m \u001b[39mself\u001b[39m\u001b[39m.\u001b[39m_select_training_loop(x)\n\u001b[0;32m--> <a href='file:///home/vigrel/Desktop/IC/music-generation/tf2.6/lib/python3.8/site-packages/keras/engine/training_v1.py?line=775'>776</a>\u001b[0m \u001b[39mreturn\u001b[39;00m func\u001b[39m.\u001b[39;49mfit(\n\u001b[1;32m    <a href='file:///home/vigrel/Desktop/IC/music-generation/tf2.6/lib/python3.8/site-packages/keras/engine/training_v1.py?line=776'>777</a>\u001b[0m     \u001b[39mself\u001b[39;49m,\n\u001b[1;32m    <a href='file:///home/vigrel/Desktop/IC/music-generation/tf2.6/lib/python3.8/site-packages/keras/engine/training_v1.py?line=777'>778</a>\u001b[0m     x\u001b[39m=\u001b[39;49mx,\n\u001b[1;32m    <a href='file:///home/vigrel/Desktop/IC/music-generation/tf2.6/lib/python3.8/site-packages/keras/engine/training_v1.py?line=778'>779</a>\u001b[0m     y\u001b[39m=\u001b[39;49my,\n\u001b[1;32m    <a href='file:///home/vigrel/Desktop/IC/music-generation/tf2.6/lib/python3.8/site-packages/keras/engine/training_v1.py?line=779'>780</a>\u001b[0m     batch_size\u001b[39m=\u001b[39;49mbatch_size,\n\u001b[1;32m    <a href='file:///home/vigrel/Desktop/IC/music-generation/tf2.6/lib/python3.8/site-packages/keras/engine/training_v1.py?line=780'>781</a>\u001b[0m     epochs\u001b[39m=\u001b[39;49mepochs,\n\u001b[1;32m    <a href='file:///home/vigrel/Desktop/IC/music-generation/tf2.6/lib/python3.8/site-packages/keras/engine/training_v1.py?line=781'>782</a>\u001b[0m     verbose\u001b[39m=\u001b[39;49mverbose,\n\u001b[1;32m    <a href='file:///home/vigrel/Desktop/IC/music-generation/tf2.6/lib/python3.8/site-packages/keras/engine/training_v1.py?line=782'>783</a>\u001b[0m     callbacks\u001b[39m=\u001b[39;49mcallbacks,\n\u001b[1;32m    <a href='file:///home/vigrel/Desktop/IC/music-generation/tf2.6/lib/python3.8/site-packages/keras/engine/training_v1.py?line=783'>784</a>\u001b[0m     validation_split\u001b[39m=\u001b[39;49mvalidation_split,\n\u001b[1;32m    <a href='file:///home/vigrel/Desktop/IC/music-generation/tf2.6/lib/python3.8/site-packages/keras/engine/training_v1.py?line=784'>785</a>\u001b[0m     validation_data\u001b[39m=\u001b[39;49mvalidation_data,\n\u001b[1;32m    <a href='file:///home/vigrel/Desktop/IC/music-generation/tf2.6/lib/python3.8/site-packages/keras/engine/training_v1.py?line=785'>786</a>\u001b[0m     shuffle\u001b[39m=\u001b[39;49mshuffle,\n\u001b[1;32m    <a href='file:///home/vigrel/Desktop/IC/music-generation/tf2.6/lib/python3.8/site-packages/keras/engine/training_v1.py?line=786'>787</a>\u001b[0m     class_weight\u001b[39m=\u001b[39;49mclass_weight,\n\u001b[1;32m    <a href='file:///home/vigrel/Desktop/IC/music-generation/tf2.6/lib/python3.8/site-packages/keras/engine/training_v1.py?line=787'>788</a>\u001b[0m     sample_weight\u001b[39m=\u001b[39;49msample_weight,\n\u001b[1;32m    <a href='file:///home/vigrel/Desktop/IC/music-generation/tf2.6/lib/python3.8/site-packages/keras/engine/training_v1.py?line=788'>789</a>\u001b[0m     initial_epoch\u001b[39m=\u001b[39;49minitial_epoch,\n\u001b[1;32m    <a href='file:///home/vigrel/Desktop/IC/music-generation/tf2.6/lib/python3.8/site-packages/keras/engine/training_v1.py?line=789'>790</a>\u001b[0m     steps_per_epoch\u001b[39m=\u001b[39;49msteps_per_epoch,\n\u001b[1;32m    <a href='file:///home/vigrel/Desktop/IC/music-generation/tf2.6/lib/python3.8/site-packages/keras/engine/training_v1.py?line=790'>791</a>\u001b[0m     validation_steps\u001b[39m=\u001b[39;49mvalidation_steps,\n\u001b[1;32m    <a href='file:///home/vigrel/Desktop/IC/music-generation/tf2.6/lib/python3.8/site-packages/keras/engine/training_v1.py?line=791'>792</a>\u001b[0m     validation_freq\u001b[39m=\u001b[39;49mvalidation_freq,\n\u001b[1;32m    <a href='file:///home/vigrel/Desktop/IC/music-generation/tf2.6/lib/python3.8/site-packages/keras/engine/training_v1.py?line=792'>793</a>\u001b[0m     max_queue_size\u001b[39m=\u001b[39;49mmax_queue_size,\n\u001b[1;32m    <a href='file:///home/vigrel/Desktop/IC/music-generation/tf2.6/lib/python3.8/site-packages/keras/engine/training_v1.py?line=793'>794</a>\u001b[0m     workers\u001b[39m=\u001b[39;49mworkers,\n\u001b[1;32m    <a href='file:///home/vigrel/Desktop/IC/music-generation/tf2.6/lib/python3.8/site-packages/keras/engine/training_v1.py?line=794'>795</a>\u001b[0m     use_multiprocessing\u001b[39m=\u001b[39;49muse_multiprocessing)\n",
      "File \u001b[0;32m~/Desktop/IC/music-generation/tf2.6/lib/python3.8/site-packages/keras/engine/training_arrays_v1.py:641\u001b[0m, in \u001b[0;36mArrayLikeTrainingLoop.fit\u001b[0;34m(self, model, x, y, batch_size, epochs, verbose, callbacks, validation_split, validation_data, shuffle, class_weight, sample_weight, initial_epoch, steps_per_epoch, validation_steps, validation_freq, **kwargs)\u001b[0m\n\u001b[1;32m    <a href='file:///home/vigrel/Desktop/IC/music-generation/tf2.6/lib/python3.8/site-packages/keras/engine/training_arrays_v1.py?line=636'>637</a>\u001b[0m     \u001b[39mraise\u001b[39;00m \u001b[39mValueError\u001b[39;00m(\u001b[39m'\u001b[39m\u001b[39m`validation_steps` should not be specified if \u001b[39m\u001b[39m'\u001b[39m\n\u001b[1;32m    <a href='file:///home/vigrel/Desktop/IC/music-generation/tf2.6/lib/python3.8/site-packages/keras/engine/training_arrays_v1.py?line=637'>638</a>\u001b[0m                      \u001b[39m'\u001b[39m\u001b[39m`validation_data` is None.\u001b[39m\u001b[39m'\u001b[39m)\n\u001b[1;32m    <a href='file:///home/vigrel/Desktop/IC/music-generation/tf2.6/lib/python3.8/site-packages/keras/engine/training_arrays_v1.py?line=638'>639</a>\u001b[0m   val_x, val_y, val_sample_weights \u001b[39m=\u001b[39m \u001b[39mNone\u001b[39;00m, \u001b[39mNone\u001b[39;00m, \u001b[39mNone\u001b[39;00m\n\u001b[0;32m--> <a href='file:///home/vigrel/Desktop/IC/music-generation/tf2.6/lib/python3.8/site-packages/keras/engine/training_arrays_v1.py?line=640'>641</a>\u001b[0m \u001b[39mreturn\u001b[39;00m fit_loop(\n\u001b[1;32m    <a href='file:///home/vigrel/Desktop/IC/music-generation/tf2.6/lib/python3.8/site-packages/keras/engine/training_arrays_v1.py?line=641'>642</a>\u001b[0m     model,\n\u001b[1;32m    <a href='file:///home/vigrel/Desktop/IC/music-generation/tf2.6/lib/python3.8/site-packages/keras/engine/training_arrays_v1.py?line=642'>643</a>\u001b[0m     inputs\u001b[39m=\u001b[39;49mx,\n\u001b[1;32m    <a href='file:///home/vigrel/Desktop/IC/music-generation/tf2.6/lib/python3.8/site-packages/keras/engine/training_arrays_v1.py?line=643'>644</a>\u001b[0m     targets\u001b[39m=\u001b[39;49my,\n\u001b[1;32m    <a href='file:///home/vigrel/Desktop/IC/music-generation/tf2.6/lib/python3.8/site-packages/keras/engine/training_arrays_v1.py?line=644'>645</a>\u001b[0m     sample_weights\u001b[39m=\u001b[39;49msample_weights,\n\u001b[1;32m    <a href='file:///home/vigrel/Desktop/IC/music-generation/tf2.6/lib/python3.8/site-packages/keras/engine/training_arrays_v1.py?line=645'>646</a>\u001b[0m     batch_size\u001b[39m=\u001b[39;49mbatch_size,\n\u001b[1;32m    <a href='file:///home/vigrel/Desktop/IC/music-generation/tf2.6/lib/python3.8/site-packages/keras/engine/training_arrays_v1.py?line=646'>647</a>\u001b[0m     epochs\u001b[39m=\u001b[39;49mepochs,\n\u001b[1;32m    <a href='file:///home/vigrel/Desktop/IC/music-generation/tf2.6/lib/python3.8/site-packages/keras/engine/training_arrays_v1.py?line=647'>648</a>\u001b[0m     verbose\u001b[39m=\u001b[39;49mverbose,\n\u001b[1;32m    <a href='file:///home/vigrel/Desktop/IC/music-generation/tf2.6/lib/python3.8/site-packages/keras/engine/training_arrays_v1.py?line=648'>649</a>\u001b[0m     callbacks\u001b[39m=\u001b[39;49mcallbacks,\n\u001b[1;32m    <a href='file:///home/vigrel/Desktop/IC/music-generation/tf2.6/lib/python3.8/site-packages/keras/engine/training_arrays_v1.py?line=649'>650</a>\u001b[0m     val_inputs\u001b[39m=\u001b[39;49mval_x,\n\u001b[1;32m    <a href='file:///home/vigrel/Desktop/IC/music-generation/tf2.6/lib/python3.8/site-packages/keras/engine/training_arrays_v1.py?line=650'>651</a>\u001b[0m     val_targets\u001b[39m=\u001b[39;49mval_y,\n\u001b[1;32m    <a href='file:///home/vigrel/Desktop/IC/music-generation/tf2.6/lib/python3.8/site-packages/keras/engine/training_arrays_v1.py?line=651'>652</a>\u001b[0m     val_sample_weights\u001b[39m=\u001b[39;49mval_sample_weights,\n\u001b[1;32m    <a href='file:///home/vigrel/Desktop/IC/music-generation/tf2.6/lib/python3.8/site-packages/keras/engine/training_arrays_v1.py?line=652'>653</a>\u001b[0m     shuffle\u001b[39m=\u001b[39;49mshuffle,\n\u001b[1;32m    <a href='file:///home/vigrel/Desktop/IC/music-generation/tf2.6/lib/python3.8/site-packages/keras/engine/training_arrays_v1.py?line=653'>654</a>\u001b[0m     initial_epoch\u001b[39m=\u001b[39;49minitial_epoch,\n\u001b[1;32m    <a href='file:///home/vigrel/Desktop/IC/music-generation/tf2.6/lib/python3.8/site-packages/keras/engine/training_arrays_v1.py?line=654'>655</a>\u001b[0m     steps_per_epoch\u001b[39m=\u001b[39;49msteps_per_epoch,\n\u001b[1;32m    <a href='file:///home/vigrel/Desktop/IC/music-generation/tf2.6/lib/python3.8/site-packages/keras/engine/training_arrays_v1.py?line=655'>656</a>\u001b[0m     validation_steps\u001b[39m=\u001b[39;49mvalidation_steps,\n\u001b[1;32m    <a href='file:///home/vigrel/Desktop/IC/music-generation/tf2.6/lib/python3.8/site-packages/keras/engine/training_arrays_v1.py?line=656'>657</a>\u001b[0m     validation_freq\u001b[39m=\u001b[39;49mvalidation_freq,\n\u001b[1;32m    <a href='file:///home/vigrel/Desktop/IC/music-generation/tf2.6/lib/python3.8/site-packages/keras/engine/training_arrays_v1.py?line=657'>658</a>\u001b[0m     steps_name\u001b[39m=\u001b[39;49m\u001b[39m'\u001b[39;49m\u001b[39msteps_per_epoch\u001b[39;49m\u001b[39m'\u001b[39;49m)\n",
      "File \u001b[0;32m~/Desktop/IC/music-generation/tf2.6/lib/python3.8/site-packages/keras/engine/training_arrays_v1.py:178\u001b[0m, in \u001b[0;36mmodel_iteration\u001b[0;34m(model, inputs, targets, sample_weights, batch_size, epochs, verbose, callbacks, val_inputs, val_targets, val_sample_weights, shuffle, initial_epoch, steps_per_epoch, validation_steps, validation_freq, mode, validation_in_fit, prepared_feed_values_from_dataset, steps_name, **kwargs)\u001b[0m\n\u001b[1;32m    <a href='file:///home/vigrel/Desktop/IC/music-generation/tf2.6/lib/python3.8/site-packages/keras/engine/training_arrays_v1.py?line=172'>173</a>\u001b[0m _update_sample_weight_mode(model, mode, ins)\n\u001b[1;32m    <a href='file:///home/vigrel/Desktop/IC/music-generation/tf2.6/lib/python3.8/site-packages/keras/engine/training_arrays_v1.py?line=174'>175</a>\u001b[0m \u001b[39m# Get step function and loop type. As part of building the execution\u001b[39;00m\n\u001b[1;32m    <a href='file:///home/vigrel/Desktop/IC/music-generation/tf2.6/lib/python3.8/site-packages/keras/engine/training_arrays_v1.py?line=175'>176</a>\u001b[0m \u001b[39m# function we recompile the metrics based on the updated\u001b[39;00m\n\u001b[1;32m    <a href='file:///home/vigrel/Desktop/IC/music-generation/tf2.6/lib/python3.8/site-packages/keras/engine/training_arrays_v1.py?line=176'>177</a>\u001b[0m \u001b[39m# sample_weight_mode value.\u001b[39;00m\n\u001b[0;32m--> <a href='file:///home/vigrel/Desktop/IC/music-generation/tf2.6/lib/python3.8/site-packages/keras/engine/training_arrays_v1.py?line=177'>178</a>\u001b[0m f \u001b[39m=\u001b[39m _make_execution_function(model, mode)\n\u001b[1;32m    <a href='file:///home/vigrel/Desktop/IC/music-generation/tf2.6/lib/python3.8/site-packages/keras/engine/training_arrays_v1.py?line=179'>180</a>\u001b[0m \u001b[39m# Prepare validation data. Hold references to the iterator and the input list\u001b[39;00m\n\u001b[1;32m    <a href='file:///home/vigrel/Desktop/IC/music-generation/tf2.6/lib/python3.8/site-packages/keras/engine/training_arrays_v1.py?line=180'>181</a>\u001b[0m \u001b[39m# to properly reinitialize and reuse in multiple validation passes.\u001b[39;00m\n\u001b[1;32m    <a href='file:///home/vigrel/Desktop/IC/music-generation/tf2.6/lib/python3.8/site-packages/keras/engine/training_arrays_v1.py?line=181'>182</a>\u001b[0m val_iterator \u001b[39m=\u001b[39m \u001b[39mNone\u001b[39;00m\n",
      "File \u001b[0;32m~/Desktop/IC/music-generation/tf2.6/lib/python3.8/site-packages/keras/engine/training_arrays_v1.py:548\u001b[0m, in \u001b[0;36m_make_execution_function\u001b[0;34m(model, mode)\u001b[0m\n\u001b[1;32m    <a href='file:///home/vigrel/Desktop/IC/music-generation/tf2.6/lib/python3.8/site-packages/keras/engine/training_arrays_v1.py?line=545'>546</a>\u001b[0m \u001b[39mif\u001b[39;00m model\u001b[39m.\u001b[39m_distribution_strategy:\n\u001b[1;32m    <a href='file:///home/vigrel/Desktop/IC/music-generation/tf2.6/lib/python3.8/site-packages/keras/engine/training_arrays_v1.py?line=546'>547</a>\u001b[0m   \u001b[39mreturn\u001b[39;00m distributed_training_utils_v1\u001b[39m.\u001b[39m_make_execution_function(model, mode)\n\u001b[0;32m--> <a href='file:///home/vigrel/Desktop/IC/music-generation/tf2.6/lib/python3.8/site-packages/keras/engine/training_arrays_v1.py?line=547'>548</a>\u001b[0m \u001b[39mreturn\u001b[39;00m model\u001b[39m.\u001b[39;49m_make_execution_function(mode)\n",
      "File \u001b[0;32m~/Desktop/IC/music-generation/tf2.6/lib/python3.8/site-packages/keras/engine/training_v1.py:2073\u001b[0m, in \u001b[0;36mModel._make_execution_function\u001b[0;34m(self, mode)\u001b[0m\n\u001b[1;32m   <a href='file:///home/vigrel/Desktop/IC/music-generation/tf2.6/lib/python3.8/site-packages/keras/engine/training_v1.py?line=2070'>2071</a>\u001b[0m \u001b[39mdef\u001b[39;00m \u001b[39m_make_execution_function\u001b[39m(\u001b[39mself\u001b[39m, mode):\n\u001b[1;32m   <a href='file:///home/vigrel/Desktop/IC/music-generation/tf2.6/lib/python3.8/site-packages/keras/engine/training_v1.py?line=2071'>2072</a>\u001b[0m   \u001b[39mif\u001b[39;00m mode \u001b[39m==\u001b[39m ModeKeys\u001b[39m.\u001b[39mTRAIN:\n\u001b[0;32m-> <a href='file:///home/vigrel/Desktop/IC/music-generation/tf2.6/lib/python3.8/site-packages/keras/engine/training_v1.py?line=2072'>2073</a>\u001b[0m     \u001b[39mself\u001b[39;49m\u001b[39m.\u001b[39;49m_make_train_function()\n\u001b[1;32m   <a href='file:///home/vigrel/Desktop/IC/music-generation/tf2.6/lib/python3.8/site-packages/keras/engine/training_v1.py?line=2073'>2074</a>\u001b[0m     \u001b[39mreturn\u001b[39;00m \u001b[39mself\u001b[39m\u001b[39m.\u001b[39mtrain_function\n\u001b[1;32m   <a href='file:///home/vigrel/Desktop/IC/music-generation/tf2.6/lib/python3.8/site-packages/keras/engine/training_v1.py?line=2074'>2075</a>\u001b[0m   \u001b[39mif\u001b[39;00m mode \u001b[39m==\u001b[39m ModeKeys\u001b[39m.\u001b[39mTEST:\n",
      "File \u001b[0;32m~/Desktop/IC/music-generation/tf2.6/lib/python3.8/site-packages/keras/engine/training_v1.py:2004\u001b[0m, in \u001b[0;36mModel._make_train_function\u001b[0;34m(self)\u001b[0m\n\u001b[1;32m   <a href='file:///home/vigrel/Desktop/IC/music-generation/tf2.6/lib/python3.8/site-packages/keras/engine/training_v1.py?line=2000'>2001</a>\u001b[0m \u001b[39mwith\u001b[39;00m backend\u001b[39m.\u001b[39mget_graph()\u001b[39m.\u001b[39mas_default():\n\u001b[1;32m   <a href='file:///home/vigrel/Desktop/IC/music-generation/tf2.6/lib/python3.8/site-packages/keras/engine/training_v1.py?line=2001'>2002</a>\u001b[0m   \u001b[39mwith\u001b[39;00m backend\u001b[39m.\u001b[39mname_scope(\u001b[39m'\u001b[39m\u001b[39mtraining\u001b[39m\u001b[39m'\u001b[39m):\n\u001b[1;32m   <a href='file:///home/vigrel/Desktop/IC/music-generation/tf2.6/lib/python3.8/site-packages/keras/engine/training_v1.py?line=2002'>2003</a>\u001b[0m     \u001b[39m# Training updates\u001b[39;00m\n\u001b[0;32m-> <a href='file:///home/vigrel/Desktop/IC/music-generation/tf2.6/lib/python3.8/site-packages/keras/engine/training_v1.py?line=2003'>2004</a>\u001b[0m     updates \u001b[39m=\u001b[39m \u001b[39mself\u001b[39;49m\u001b[39m.\u001b[39;49moptimizer\u001b[39m.\u001b[39;49mget_updates(\n\u001b[1;32m   <a href='file:///home/vigrel/Desktop/IC/music-generation/tf2.6/lib/python3.8/site-packages/keras/engine/training_v1.py?line=2004'>2005</a>\u001b[0m         params\u001b[39m=\u001b[39;49m\u001b[39mself\u001b[39;49m\u001b[39m.\u001b[39;49m_collected_trainable_weights, loss\u001b[39m=\u001b[39;49m\u001b[39mself\u001b[39;49m\u001b[39m.\u001b[39;49mtotal_loss)\n\u001b[1;32m   <a href='file:///home/vigrel/Desktop/IC/music-generation/tf2.6/lib/python3.8/site-packages/keras/engine/training_v1.py?line=2005'>2006</a>\u001b[0m     \u001b[39m# Unconditional updates\u001b[39;00m\n\u001b[1;32m   <a href='file:///home/vigrel/Desktop/IC/music-generation/tf2.6/lib/python3.8/site-packages/keras/engine/training_v1.py?line=2006'>2007</a>\u001b[0m     updates \u001b[39m+\u001b[39m\u001b[39m=\u001b[39m \u001b[39mself\u001b[39m\u001b[39m.\u001b[39mget_updates_for(\u001b[39mNone\u001b[39;00m)\n",
      "File \u001b[0;32m~/Desktop/IC/music-generation/tf2.6/lib/python3.8/site-packages/keras/optimizers/optimizer_v2/optimizer_v2.py:782\u001b[0m, in \u001b[0;36mOptimizerV2.get_updates\u001b[0;34m(self, loss, params)\u001b[0m\n\u001b[1;32m    <a href='file:///home/vigrel/Desktop/IC/music-generation/tf2.6/lib/python3.8/site-packages/keras/optimizers/optimizer_v2/optimizer_v2.py?line=776'>777</a>\u001b[0m grads_and_vars \u001b[39m=\u001b[39m \u001b[39mlist\u001b[39m(\u001b[39mzip\u001b[39m(grads, params))\n\u001b[1;32m    <a href='file:///home/vigrel/Desktop/IC/music-generation/tf2.6/lib/python3.8/site-packages/keras/optimizers/optimizer_v2/optimizer_v2.py?line=777'>778</a>\u001b[0m \u001b[39mself\u001b[39m\u001b[39m.\u001b[39m_assert_valid_dtypes([\n\u001b[1;32m    <a href='file:///home/vigrel/Desktop/IC/music-generation/tf2.6/lib/python3.8/site-packages/keras/optimizers/optimizer_v2/optimizer_v2.py?line=778'>779</a>\u001b[0m     v \u001b[39mfor\u001b[39;00m g, v \u001b[39min\u001b[39;00m grads_and_vars\n\u001b[1;32m    <a href='file:///home/vigrel/Desktop/IC/music-generation/tf2.6/lib/python3.8/site-packages/keras/optimizers/optimizer_v2/optimizer_v2.py?line=779'>780</a>\u001b[0m     \u001b[39mif\u001b[39;00m g \u001b[39mis\u001b[39;00m \u001b[39mnot\u001b[39;00m \u001b[39mNone\u001b[39;00m \u001b[39mand\u001b[39;00m v\u001b[39m.\u001b[39mdtype \u001b[39m!=\u001b[39m tf\u001b[39m.\u001b[39mresource\n\u001b[1;32m    <a href='file:///home/vigrel/Desktop/IC/music-generation/tf2.6/lib/python3.8/site-packages/keras/optimizers/optimizer_v2/optimizer_v2.py?line=780'>781</a>\u001b[0m ])\n\u001b[0;32m--> <a href='file:///home/vigrel/Desktop/IC/music-generation/tf2.6/lib/python3.8/site-packages/keras/optimizers/optimizer_v2/optimizer_v2.py?line=781'>782</a>\u001b[0m \u001b[39mreturn\u001b[39;00m [\u001b[39mself\u001b[39;49m\u001b[39m.\u001b[39;49mapply_gradients(grads_and_vars)]\n",
      "File \u001b[0;32m~/Desktop/IC/music-generation/tf2.6/lib/python3.8/site-packages/keras/optimizers/optimizer_v2/optimizer_v2.py:678\u001b[0m, in \u001b[0;36mOptimizerV2.apply_gradients\u001b[0;34m(self, grads_and_vars, name, experimental_aggregate_gradients)\u001b[0m\n\u001b[1;32m    <a href='file:///home/vigrel/Desktop/IC/music-generation/tf2.6/lib/python3.8/site-packages/keras/optimizers/optimizer_v2/optimizer_v2.py?line=674'>675</a>\u001b[0m   grads_and_vars \u001b[39m=\u001b[39m \u001b[39mself\u001b[39m\u001b[39m.\u001b[39m_aggregate_gradients(grads_and_vars)\n\u001b[1;32m    <a href='file:///home/vigrel/Desktop/IC/music-generation/tf2.6/lib/python3.8/site-packages/keras/optimizers/optimizer_v2/optimizer_v2.py?line=675'>676</a>\u001b[0m grads_and_vars \u001b[39m=\u001b[39m \u001b[39mself\u001b[39m\u001b[39m.\u001b[39m_transform_gradients(grads_and_vars)\n\u001b[0;32m--> <a href='file:///home/vigrel/Desktop/IC/music-generation/tf2.6/lib/python3.8/site-packages/keras/optimizers/optimizer_v2/optimizer_v2.py?line=677'>678</a>\u001b[0m \u001b[39mreturn\u001b[39;00m tf\u001b[39m.\u001b[39;49m__internal__\u001b[39m.\u001b[39;49mdistribute\u001b[39m.\u001b[39;49minterim\u001b[39m.\u001b[39;49mmaybe_merge_call(\n\u001b[1;32m    <a href='file:///home/vigrel/Desktop/IC/music-generation/tf2.6/lib/python3.8/site-packages/keras/optimizers/optimizer_v2/optimizer_v2.py?line=678'>679</a>\u001b[0m     functools\u001b[39m.\u001b[39;49mpartial(\u001b[39mself\u001b[39;49m\u001b[39m.\u001b[39;49m_distributed_apply, apply_state\u001b[39m=\u001b[39;49mapply_state),\n\u001b[1;32m    <a href='file:///home/vigrel/Desktop/IC/music-generation/tf2.6/lib/python3.8/site-packages/keras/optimizers/optimizer_v2/optimizer_v2.py?line=679'>680</a>\u001b[0m     strategy,\n\u001b[1;32m    <a href='file:///home/vigrel/Desktop/IC/music-generation/tf2.6/lib/python3.8/site-packages/keras/optimizers/optimizer_v2/optimizer_v2.py?line=680'>681</a>\u001b[0m     grads_and_vars,\n\u001b[1;32m    <a href='file:///home/vigrel/Desktop/IC/music-generation/tf2.6/lib/python3.8/site-packages/keras/optimizers/optimizer_v2/optimizer_v2.py?line=681'>682</a>\u001b[0m     name\u001b[39m=\u001b[39;49mname)\n",
      "File \u001b[0;32m~/Desktop/IC/music-generation/tf2.6/lib/python3.8/site-packages/tensorflow/python/distribute/merge_call_interim.py:51\u001b[0m, in \u001b[0;36mmaybe_merge_call\u001b[0;34m(fn, strategy, *args, **kwargs)\u001b[0m\n\u001b[1;32m     <a href='file:///home/vigrel/Desktop/IC/music-generation/tf2.6/lib/python3.8/site-packages/tensorflow/python/distribute/merge_call_interim.py?line=30'>31</a>\u001b[0m \u001b[39m\"\"\"Maybe invoke `fn` via `merge_call` which may or may not be fulfilled.\u001b[39;00m\n\u001b[1;32m     <a href='file:///home/vigrel/Desktop/IC/music-generation/tf2.6/lib/python3.8/site-packages/tensorflow/python/distribute/merge_call_interim.py?line=31'>32</a>\u001b[0m \n\u001b[1;32m     <a href='file:///home/vigrel/Desktop/IC/music-generation/tf2.6/lib/python3.8/site-packages/tensorflow/python/distribute/merge_call_interim.py?line=32'>33</a>\u001b[0m \u001b[39mThe caller of this utility function requests to invoke `fn` via `merge_call`\u001b[39;00m\n\u001b[0;32m   (...)\u001b[0m\n\u001b[1;32m     <a href='file:///home/vigrel/Desktop/IC/music-generation/tf2.6/lib/python3.8/site-packages/tensorflow/python/distribute/merge_call_interim.py?line=47'>48</a>\u001b[0m \u001b[39m  The return value of the `fn` call.\u001b[39;00m\n\u001b[1;32m     <a href='file:///home/vigrel/Desktop/IC/music-generation/tf2.6/lib/python3.8/site-packages/tensorflow/python/distribute/merge_call_interim.py?line=48'>49</a>\u001b[0m \u001b[39m\"\"\"\u001b[39;00m\n\u001b[1;32m     <a href='file:///home/vigrel/Desktop/IC/music-generation/tf2.6/lib/python3.8/site-packages/tensorflow/python/distribute/merge_call_interim.py?line=49'>50</a>\u001b[0m \u001b[39mif\u001b[39;00m strategy_supports_no_merge_call():\n\u001b[0;32m---> <a href='file:///home/vigrel/Desktop/IC/music-generation/tf2.6/lib/python3.8/site-packages/tensorflow/python/distribute/merge_call_interim.py?line=50'>51</a>\u001b[0m   \u001b[39mreturn\u001b[39;00m fn(strategy, \u001b[39m*\u001b[39;49margs, \u001b[39m*\u001b[39;49m\u001b[39m*\u001b[39;49mkwargs)\n\u001b[1;32m     <a href='file:///home/vigrel/Desktop/IC/music-generation/tf2.6/lib/python3.8/site-packages/tensorflow/python/distribute/merge_call_interim.py?line=51'>52</a>\u001b[0m \u001b[39melse\u001b[39;00m:\n\u001b[1;32m     <a href='file:///home/vigrel/Desktop/IC/music-generation/tf2.6/lib/python3.8/site-packages/tensorflow/python/distribute/merge_call_interim.py?line=52'>53</a>\u001b[0m   \u001b[39mreturn\u001b[39;00m distribution_strategy_context\u001b[39m.\u001b[39mget_replica_context()\u001b[39m.\u001b[39mmerge_call(\n\u001b[1;32m     <a href='file:///home/vigrel/Desktop/IC/music-generation/tf2.6/lib/python3.8/site-packages/tensorflow/python/distribute/merge_call_interim.py?line=53'>54</a>\u001b[0m       fn, args\u001b[39m=\u001b[39margs, kwargs\u001b[39m=\u001b[39mkwargs)\n",
      "File \u001b[0;32m~/Desktop/IC/music-generation/tf2.6/lib/python3.8/site-packages/keras/optimizers/optimizer_v2/optimizer_v2.py:723\u001b[0m, in \u001b[0;36mOptimizerV2._distributed_apply\u001b[0;34m(self, distribution, grads_and_vars, apply_state, name)\u001b[0m\n\u001b[1;32m    <a href='file:///home/vigrel/Desktop/IC/music-generation/tf2.6/lib/python3.8/site-packages/keras/optimizers/optimizer_v2/optimizer_v2.py?line=718'>719</a>\u001b[0m \u001b[39mwith\u001b[39;00m distribution\u001b[39m.\u001b[39mextended\u001b[39m.\u001b[39mcolocate_vars_with(var):\n\u001b[1;32m    <a href='file:///home/vigrel/Desktop/IC/music-generation/tf2.6/lib/python3.8/site-packages/keras/optimizers/optimizer_v2/optimizer_v2.py?line=719'>720</a>\u001b[0m   \u001b[39mwith\u001b[39;00m name_scope_only_in_function_or_graph(\n\u001b[1;32m    <a href='file:///home/vigrel/Desktop/IC/music-generation/tf2.6/lib/python3.8/site-packages/keras/optimizers/optimizer_v2/optimizer_v2.py?line=720'>721</a>\u001b[0m       \u001b[39m\"\u001b[39m\u001b[39mupdate\u001b[39m\u001b[39m\"\u001b[39m \u001b[39mif\u001b[39;00m eagerly_outside_functions \u001b[39melse\u001b[39;00m \u001b[39m\"\u001b[39m\u001b[39mupdate_\u001b[39m\u001b[39m\"\u001b[39m \u001b[39m+\u001b[39m\n\u001b[1;32m    <a href='file:///home/vigrel/Desktop/IC/music-generation/tf2.6/lib/python3.8/site-packages/keras/optimizers/optimizer_v2/optimizer_v2.py?line=721'>722</a>\u001b[0m       var\u001b[39m.\u001b[39mop\u001b[39m.\u001b[39mname):\n\u001b[0;32m--> <a href='file:///home/vigrel/Desktop/IC/music-generation/tf2.6/lib/python3.8/site-packages/keras/optimizers/optimizer_v2/optimizer_v2.py?line=722'>723</a>\u001b[0m     update_op \u001b[39m=\u001b[39m distribution\u001b[39m.\u001b[39;49mextended\u001b[39m.\u001b[39;49mupdate(\n\u001b[1;32m    <a href='file:///home/vigrel/Desktop/IC/music-generation/tf2.6/lib/python3.8/site-packages/keras/optimizers/optimizer_v2/optimizer_v2.py?line=723'>724</a>\u001b[0m         var, apply_grad_to_update_var, args\u001b[39m=\u001b[39;49m(grad,), group\u001b[39m=\u001b[39;49m\u001b[39mFalse\u001b[39;49;00m)\n\u001b[1;32m    <a href='file:///home/vigrel/Desktop/IC/music-generation/tf2.6/lib/python3.8/site-packages/keras/optimizers/optimizer_v2/optimizer_v2.py?line=724'>725</a>\u001b[0m     \u001b[39mif\u001b[39;00m tf\u001b[39m.\u001b[39mdistribute\u001b[39m.\u001b[39min_cross_replica_context():\n\u001b[1;32m    <a href='file:///home/vigrel/Desktop/IC/music-generation/tf2.6/lib/python3.8/site-packages/keras/optimizers/optimizer_v2/optimizer_v2.py?line=725'>726</a>\u001b[0m       \u001b[39m# In cross-replica context, extended.update returns a list of\u001b[39;00m\n\u001b[1;32m    <a href='file:///home/vigrel/Desktop/IC/music-generation/tf2.6/lib/python3.8/site-packages/keras/optimizers/optimizer_v2/optimizer_v2.py?line=726'>727</a>\u001b[0m       \u001b[39m# update ops from all replicas (group=False).\u001b[39;00m\n\u001b[1;32m    <a href='file:///home/vigrel/Desktop/IC/music-generation/tf2.6/lib/python3.8/site-packages/keras/optimizers/optimizer_v2/optimizer_v2.py?line=727'>728</a>\u001b[0m       update_ops\u001b[39m.\u001b[39mextend(update_op)\n",
      "File \u001b[0;32m~/Desktop/IC/music-generation/tf2.6/lib/python3.8/site-packages/tensorflow/python/distribute/distribute_lib.py:2630\u001b[0m, in \u001b[0;36mStrategyExtendedV2.update\u001b[0;34m(self, var, fn, args, kwargs, group)\u001b[0m\n\u001b[1;32m   <a href='file:///home/vigrel/Desktop/IC/music-generation/tf2.6/lib/python3.8/site-packages/tensorflow/python/distribute/distribute_lib.py?line=2626'>2627</a>\u001b[0m   fn \u001b[39m=\u001b[39m autograph\u001b[39m.\u001b[39mtf_convert(\n\u001b[1;32m   <a href='file:///home/vigrel/Desktop/IC/music-generation/tf2.6/lib/python3.8/site-packages/tensorflow/python/distribute/distribute_lib.py?line=2627'>2628</a>\u001b[0m       fn, autograph_ctx\u001b[39m.\u001b[39mcontrol_status_ctx(), convert_by_default\u001b[39m=\u001b[39m\u001b[39mFalse\u001b[39;00m)\n\u001b[1;32m   <a href='file:///home/vigrel/Desktop/IC/music-generation/tf2.6/lib/python3.8/site-packages/tensorflow/python/distribute/distribute_lib.py?line=2628'>2629</a>\u001b[0m   \u001b[39mwith\u001b[39;00m \u001b[39mself\u001b[39m\u001b[39m.\u001b[39m_container_strategy()\u001b[39m.\u001b[39mscope():\n\u001b[0;32m-> <a href='file:///home/vigrel/Desktop/IC/music-generation/tf2.6/lib/python3.8/site-packages/tensorflow/python/distribute/distribute_lib.py?line=2629'>2630</a>\u001b[0m     \u001b[39mreturn\u001b[39;00m \u001b[39mself\u001b[39;49m\u001b[39m.\u001b[39;49m_update(var, fn, args, kwargs, group)\n\u001b[1;32m   <a href='file:///home/vigrel/Desktop/IC/music-generation/tf2.6/lib/python3.8/site-packages/tensorflow/python/distribute/distribute_lib.py?line=2630'>2631</a>\u001b[0m \u001b[39melse\u001b[39;00m:\n\u001b[1;32m   <a href='file:///home/vigrel/Desktop/IC/music-generation/tf2.6/lib/python3.8/site-packages/tensorflow/python/distribute/distribute_lib.py?line=2631'>2632</a>\u001b[0m   \u001b[39mreturn\u001b[39;00m \u001b[39mself\u001b[39m\u001b[39m.\u001b[39m_replica_ctx_update(\n\u001b[1;32m   <a href='file:///home/vigrel/Desktop/IC/music-generation/tf2.6/lib/python3.8/site-packages/tensorflow/python/distribute/distribute_lib.py?line=2632'>2633</a>\u001b[0m       var, fn, args\u001b[39m=\u001b[39margs, kwargs\u001b[39m=\u001b[39mkwargs, group\u001b[39m=\u001b[39mgroup)\n",
      "File \u001b[0;32m~/Desktop/IC/music-generation/tf2.6/lib/python3.8/site-packages/tensorflow/python/distribute/distribute_lib.py:3703\u001b[0m, in \u001b[0;36m_DefaultDistributionExtended._update\u001b[0;34m(self, var, fn, args, kwargs, group)\u001b[0m\n\u001b[1;32m   <a href='file:///home/vigrel/Desktop/IC/music-generation/tf2.6/lib/python3.8/site-packages/tensorflow/python/distribute/distribute_lib.py?line=3699'>3700</a>\u001b[0m \u001b[39mdef\u001b[39;00m \u001b[39m_update\u001b[39m(\u001b[39mself\u001b[39m, var, fn, args, kwargs, group):\n\u001b[1;32m   <a href='file:///home/vigrel/Desktop/IC/music-generation/tf2.6/lib/python3.8/site-packages/tensorflow/python/distribute/distribute_lib.py?line=3700'>3701</a>\u001b[0m   \u001b[39m# The implementations of _update() and _update_non_slot() are identical\u001b[39;00m\n\u001b[1;32m   <a href='file:///home/vigrel/Desktop/IC/music-generation/tf2.6/lib/python3.8/site-packages/tensorflow/python/distribute/distribute_lib.py?line=3701'>3702</a>\u001b[0m   \u001b[39m# except _update() passes `var` as the first argument to `fn()`.\u001b[39;00m\n\u001b[0;32m-> <a href='file:///home/vigrel/Desktop/IC/music-generation/tf2.6/lib/python3.8/site-packages/tensorflow/python/distribute/distribute_lib.py?line=3702'>3703</a>\u001b[0m   \u001b[39mreturn\u001b[39;00m \u001b[39mself\u001b[39;49m\u001b[39m.\u001b[39;49m_update_non_slot(var, fn, (var,) \u001b[39m+\u001b[39;49m \u001b[39mtuple\u001b[39;49m(args), kwargs, group)\n",
      "File \u001b[0;32m~/Desktop/IC/music-generation/tf2.6/lib/python3.8/site-packages/tensorflow/python/distribute/distribute_lib.py:3709\u001b[0m, in \u001b[0;36m_DefaultDistributionExtended._update_non_slot\u001b[0;34m(self, colocate_with, fn, args, kwargs, should_group)\u001b[0m\n\u001b[1;32m   <a href='file:///home/vigrel/Desktop/IC/music-generation/tf2.6/lib/python3.8/site-packages/tensorflow/python/distribute/distribute_lib.py?line=3704'>3705</a>\u001b[0m \u001b[39mdef\u001b[39;00m \u001b[39m_update_non_slot\u001b[39m(\u001b[39mself\u001b[39m, colocate_with, fn, args, kwargs, should_group):\n\u001b[1;32m   <a href='file:///home/vigrel/Desktop/IC/music-generation/tf2.6/lib/python3.8/site-packages/tensorflow/python/distribute/distribute_lib.py?line=3705'>3706</a>\u001b[0m   \u001b[39m# TODO(josh11b): Figure out what we should be passing to UpdateContext()\u001b[39;00m\n\u001b[1;32m   <a href='file:///home/vigrel/Desktop/IC/music-generation/tf2.6/lib/python3.8/site-packages/tensorflow/python/distribute/distribute_lib.py?line=3706'>3707</a>\u001b[0m   \u001b[39m# once that value is used for something.\u001b[39;00m\n\u001b[1;32m   <a href='file:///home/vigrel/Desktop/IC/music-generation/tf2.6/lib/python3.8/site-packages/tensorflow/python/distribute/distribute_lib.py?line=3707'>3708</a>\u001b[0m   \u001b[39mwith\u001b[39;00m UpdateContext(colocate_with):\n\u001b[0;32m-> <a href='file:///home/vigrel/Desktop/IC/music-generation/tf2.6/lib/python3.8/site-packages/tensorflow/python/distribute/distribute_lib.py?line=3708'>3709</a>\u001b[0m     result \u001b[39m=\u001b[39m fn(\u001b[39m*\u001b[39;49margs, \u001b[39m*\u001b[39;49m\u001b[39m*\u001b[39;49mkwargs)\n\u001b[1;32m   <a href='file:///home/vigrel/Desktop/IC/music-generation/tf2.6/lib/python3.8/site-packages/tensorflow/python/distribute/distribute_lib.py?line=3709'>3710</a>\u001b[0m     \u001b[39mif\u001b[39;00m should_group:\n\u001b[1;32m   <a href='file:///home/vigrel/Desktop/IC/music-generation/tf2.6/lib/python3.8/site-packages/tensorflow/python/distribute/distribute_lib.py?line=3710'>3711</a>\u001b[0m       \u001b[39mreturn\u001b[39;00m result\n",
      "File \u001b[0;32m~/Desktop/IC/music-generation/tf2.6/lib/python3.8/site-packages/tensorflow/python/autograph/impl/api.py:595\u001b[0m, in \u001b[0;36mcall_with_unspecified_conversion_status.<locals>.wrapper\u001b[0;34m(*args, **kwargs)\u001b[0m\n\u001b[1;32m    <a href='file:///home/vigrel/Desktop/IC/music-generation/tf2.6/lib/python3.8/site-packages/tensorflow/python/autograph/impl/api.py?line=592'>593</a>\u001b[0m \u001b[39mdef\u001b[39;00m \u001b[39mwrapper\u001b[39m(\u001b[39m*\u001b[39margs, \u001b[39m*\u001b[39m\u001b[39m*\u001b[39mkwargs):\n\u001b[1;32m    <a href='file:///home/vigrel/Desktop/IC/music-generation/tf2.6/lib/python3.8/site-packages/tensorflow/python/autograph/impl/api.py?line=593'>594</a>\u001b[0m   \u001b[39mwith\u001b[39;00m ag_ctx\u001b[39m.\u001b[39mControlStatusCtx(status\u001b[39m=\u001b[39mag_ctx\u001b[39m.\u001b[39mStatus\u001b[39m.\u001b[39mUNSPECIFIED):\n\u001b[0;32m--> <a href='file:///home/vigrel/Desktop/IC/music-generation/tf2.6/lib/python3.8/site-packages/tensorflow/python/autograph/impl/api.py?line=594'>595</a>\u001b[0m     \u001b[39mreturn\u001b[39;00m func(\u001b[39m*\u001b[39;49margs, \u001b[39m*\u001b[39;49m\u001b[39m*\u001b[39;49mkwargs)\n",
      "File \u001b[0;32m~/Desktop/IC/music-generation/tf2.6/lib/python3.8/site-packages/keras/optimizers/optimizer_v2/optimizer_v2.py:706\u001b[0m, in \u001b[0;36mOptimizerV2._distributed_apply.<locals>.apply_grad_to_update_var\u001b[0;34m(var, grad)\u001b[0m\n\u001b[1;32m    <a href='file:///home/vigrel/Desktop/IC/music-generation/tf2.6/lib/python3.8/site-packages/keras/optimizers/optimizer_v2/optimizer_v2.py?line=703'>704</a>\u001b[0m \u001b[39mif\u001b[39;00m \u001b[39m\"\u001b[39m\u001b[39mapply_state\u001b[39m\u001b[39m\"\u001b[39m \u001b[39min\u001b[39;00m \u001b[39mself\u001b[39m\u001b[39m.\u001b[39m_dense_apply_args:\n\u001b[1;32m    <a href='file:///home/vigrel/Desktop/IC/music-generation/tf2.6/lib/python3.8/site-packages/keras/optimizers/optimizer_v2/optimizer_v2.py?line=704'>705</a>\u001b[0m   apply_kwargs[\u001b[39m\"\u001b[39m\u001b[39mapply_state\u001b[39m\u001b[39m\"\u001b[39m] \u001b[39m=\u001b[39m apply_state\n\u001b[0;32m--> <a href='file:///home/vigrel/Desktop/IC/music-generation/tf2.6/lib/python3.8/site-packages/keras/optimizers/optimizer_v2/optimizer_v2.py?line=705'>706</a>\u001b[0m update_op \u001b[39m=\u001b[39m \u001b[39mself\u001b[39;49m\u001b[39m.\u001b[39;49m_resource_apply_dense(grad, var, \u001b[39m*\u001b[39;49m\u001b[39m*\u001b[39;49mapply_kwargs)\n\u001b[1;32m    <a href='file:///home/vigrel/Desktop/IC/music-generation/tf2.6/lib/python3.8/site-packages/keras/optimizers/optimizer_v2/optimizer_v2.py?line=706'>707</a>\u001b[0m \u001b[39mif\u001b[39;00m var\u001b[39m.\u001b[39mconstraint \u001b[39mis\u001b[39;00m \u001b[39mnot\u001b[39;00m \u001b[39mNone\u001b[39;00m:\n\u001b[1;32m    <a href='file:///home/vigrel/Desktop/IC/music-generation/tf2.6/lib/python3.8/site-packages/keras/optimizers/optimizer_v2/optimizer_v2.py?line=707'>708</a>\u001b[0m   \u001b[39mwith\u001b[39;00m tf\u001b[39m.\u001b[39mcontrol_dependencies([update_op]):\n",
      "File \u001b[0;32m~/Desktop/IC/music-generation/tf2.6/lib/python3.8/site-packages/keras/optimizers/optimizer_v2/rmsprop.py:209\u001b[0m, in \u001b[0;36mRMSprop._resource_apply_dense\u001b[0;34m(self, grad, var, apply_state)\u001b[0m\n\u001b[1;32m    <a href='file:///home/vigrel/Desktop/IC/music-generation/tf2.6/lib/python3.8/site-packages/keras/optimizers/optimizer_v2/rmsprop.py?line=205'>206</a>\u001b[0m \u001b[39melse\u001b[39;00m:\n\u001b[1;32m    <a href='file:///home/vigrel/Desktop/IC/music-generation/tf2.6/lib/python3.8/site-packages/keras/optimizers/optimizer_v2/rmsprop.py?line=206'>207</a>\u001b[0m   rms_t \u001b[39m=\u001b[39m (coefficients[\u001b[39m\"\u001b[39m\u001b[39mrho\u001b[39m\u001b[39m\"\u001b[39m] \u001b[39m*\u001b[39m rms \u001b[39m+\u001b[39m\n\u001b[1;32m    <a href='file:///home/vigrel/Desktop/IC/music-generation/tf2.6/lib/python3.8/site-packages/keras/optimizers/optimizer_v2/rmsprop.py?line=207'>208</a>\u001b[0m            coefficients[\u001b[39m\"\u001b[39m\u001b[39mone_minus_rho\u001b[39m\u001b[39m\"\u001b[39m] \u001b[39m*\u001b[39m tf\u001b[39m.\u001b[39msquare(grad))\n\u001b[0;32m--> <a href='file:///home/vigrel/Desktop/IC/music-generation/tf2.6/lib/python3.8/site-packages/keras/optimizers/optimizer_v2/rmsprop.py?line=208'>209</a>\u001b[0m   rms_t \u001b[39m=\u001b[39m tf\u001b[39m.\u001b[39;49mcompat\u001b[39m.\u001b[39;49mv1\u001b[39m.\u001b[39;49massign(rms, rms_t, use_locking\u001b[39m=\u001b[39;49m\u001b[39mself\u001b[39;49m\u001b[39m.\u001b[39;49m_use_locking)\n\u001b[1;32m    <a href='file:///home/vigrel/Desktop/IC/music-generation/tf2.6/lib/python3.8/site-packages/keras/optimizers/optimizer_v2/rmsprop.py?line=209'>210</a>\u001b[0m   denom_t \u001b[39m=\u001b[39m rms_t\n\u001b[1;32m    <a href='file:///home/vigrel/Desktop/IC/music-generation/tf2.6/lib/python3.8/site-packages/keras/optimizers/optimizer_v2/rmsprop.py?line=210'>211</a>\u001b[0m   \u001b[39mif\u001b[39;00m \u001b[39mself\u001b[39m\u001b[39m.\u001b[39mcentered:\n",
      "File \u001b[0;32m~/Desktop/IC/music-generation/tf2.6/lib/python3.8/site-packages/tensorflow/python/ops/state_ops.py:355\u001b[0m, in \u001b[0;36massign\u001b[0;34m(ref, value, validate_shape, use_locking, name)\u001b[0m\n\u001b[1;32m    <a href='file:///home/vigrel/Desktop/IC/music-generation/tf2.6/lib/python3.8/site-packages/tensorflow/python/ops/state_ops.py?line=350'>351</a>\u001b[0m \u001b[39mif\u001b[39;00m ref\u001b[39m.\u001b[39mdtype\u001b[39m.\u001b[39m_is_ref_dtype:\n\u001b[1;32m    <a href='file:///home/vigrel/Desktop/IC/music-generation/tf2.6/lib/python3.8/site-packages/tensorflow/python/ops/state_ops.py?line=351'>352</a>\u001b[0m   \u001b[39mreturn\u001b[39;00m gen_state_ops\u001b[39m.\u001b[39massign(\n\u001b[1;32m    <a href='file:///home/vigrel/Desktop/IC/music-generation/tf2.6/lib/python3.8/site-packages/tensorflow/python/ops/state_ops.py?line=352'>353</a>\u001b[0m       ref, value, use_locking\u001b[39m=\u001b[39muse_locking, name\u001b[39m=\u001b[39mname,\n\u001b[1;32m    <a href='file:///home/vigrel/Desktop/IC/music-generation/tf2.6/lib/python3.8/site-packages/tensorflow/python/ops/state_ops.py?line=353'>354</a>\u001b[0m       validate_shape\u001b[39m=\u001b[39mvalidate_shape)\n\u001b[0;32m--> <a href='file:///home/vigrel/Desktop/IC/music-generation/tf2.6/lib/python3.8/site-packages/tensorflow/python/ops/state_ops.py?line=354'>355</a>\u001b[0m \u001b[39mreturn\u001b[39;00m ref\u001b[39m.\u001b[39;49massign(value, name\u001b[39m=\u001b[39;49mname)\n",
      "File \u001b[0;32m~/Desktop/IC/music-generation/tf2.6/lib/python3.8/site-packages/tensorflow/python/ops/resource_variable_ops.py:912\u001b[0m, in \u001b[0;36mBaseResourceVariable.assign\u001b[0;34m(self, value, use_locking, name, read_value)\u001b[0m\n\u001b[1;32m    <a href='file:///home/vigrel/Desktop/IC/music-generation/tf2.6/lib/python3.8/site-packages/tensorflow/python/ops/resource_variable_ops.py?line=909'>910</a>\u001b[0m   validate_shape \u001b[39m=\u001b[39m \u001b[39mself\u001b[39m\u001b[39m.\u001b[39m_validate_shape \u001b[39mand\u001b[39;00m \u001b[39mself\u001b[39m\u001b[39m.\u001b[39m_shape\u001b[39m.\u001b[39mis_fully_defined()\n\u001b[1;32m    <a href='file:///home/vigrel/Desktop/IC/music-generation/tf2.6/lib/python3.8/site-packages/tensorflow/python/ops/resource_variable_ops.py?line=910'>911</a>\u001b[0m   kwargs[\u001b[39m\"\u001b[39m\u001b[39mvalidate_shape\u001b[39m\u001b[39m\"\u001b[39m] \u001b[39m=\u001b[39m validate_shape\n\u001b[0;32m--> <a href='file:///home/vigrel/Desktop/IC/music-generation/tf2.6/lib/python3.8/site-packages/tensorflow/python/ops/resource_variable_ops.py?line=911'>912</a>\u001b[0m assign_op \u001b[39m=\u001b[39m gen_resource_variable_ops\u001b[39m.\u001b[39;49massign_variable_op(\n\u001b[1;32m    <a href='file:///home/vigrel/Desktop/IC/music-generation/tf2.6/lib/python3.8/site-packages/tensorflow/python/ops/resource_variable_ops.py?line=912'>913</a>\u001b[0m     \u001b[39mself\u001b[39;49m\u001b[39m.\u001b[39;49mhandle, value_tensor, name\u001b[39m=\u001b[39;49mname, \u001b[39m*\u001b[39;49m\u001b[39m*\u001b[39;49mkwargs)\n\u001b[1;32m    <a href='file:///home/vigrel/Desktop/IC/music-generation/tf2.6/lib/python3.8/site-packages/tensorflow/python/ops/resource_variable_ops.py?line=913'>914</a>\u001b[0m \u001b[39mif\u001b[39;00m read_value:\n\u001b[1;32m    <a href='file:///home/vigrel/Desktop/IC/music-generation/tf2.6/lib/python3.8/site-packages/tensorflow/python/ops/resource_variable_ops.py?line=914'>915</a>\u001b[0m   \u001b[39mreturn\u001b[39;00m \u001b[39mself\u001b[39m\u001b[39m.\u001b[39m_lazy_read(assign_op)\n",
      "File \u001b[0;32m~/Desktop/IC/music-generation/tf2.6/lib/python3.8/site-packages/tensorflow/python/ops/gen_resource_variable_ops.py:159\u001b[0m, in \u001b[0;36massign_variable_op\u001b[0;34m(resource, value, validate_shape, name)\u001b[0m\n\u001b[1;32m    <a href='file:///home/vigrel/Desktop/IC/music-generation/tf2.6/lib/python3.8/site-packages/tensorflow/python/ops/gen_resource_variable_ops.py?line=156'>157</a>\u001b[0m   validate_shape \u001b[39m=\u001b[39m \u001b[39mFalse\u001b[39;00m\n\u001b[1;32m    <a href='file:///home/vigrel/Desktop/IC/music-generation/tf2.6/lib/python3.8/site-packages/tensorflow/python/ops/gen_resource_variable_ops.py?line=157'>158</a>\u001b[0m validate_shape \u001b[39m=\u001b[39m _execute\u001b[39m.\u001b[39mmake_bool(validate_shape, \u001b[39m\"\u001b[39m\u001b[39mvalidate_shape\u001b[39m\u001b[39m\"\u001b[39m)\n\u001b[0;32m--> <a href='file:///home/vigrel/Desktop/IC/music-generation/tf2.6/lib/python3.8/site-packages/tensorflow/python/ops/gen_resource_variable_ops.py?line=158'>159</a>\u001b[0m _, _, _op, _outputs \u001b[39m=\u001b[39m _op_def_library\u001b[39m.\u001b[39;49m_apply_op_helper(\n\u001b[1;32m    <a href='file:///home/vigrel/Desktop/IC/music-generation/tf2.6/lib/python3.8/site-packages/tensorflow/python/ops/gen_resource_variable_ops.py?line=159'>160</a>\u001b[0m       \u001b[39m\"\u001b[39;49m\u001b[39mAssignVariableOp\u001b[39;49m\u001b[39m\"\u001b[39;49m, resource\u001b[39m=\u001b[39;49mresource, value\u001b[39m=\u001b[39;49mvalue,\n\u001b[1;32m    <a href='file:///home/vigrel/Desktop/IC/music-generation/tf2.6/lib/python3.8/site-packages/tensorflow/python/ops/gen_resource_variable_ops.py?line=160'>161</a>\u001b[0m                           validate_shape\u001b[39m=\u001b[39;49mvalidate_shape, name\u001b[39m=\u001b[39;49mname)\n\u001b[1;32m    <a href='file:///home/vigrel/Desktop/IC/music-generation/tf2.6/lib/python3.8/site-packages/tensorflow/python/ops/gen_resource_variable_ops.py?line=161'>162</a>\u001b[0m \u001b[39mreturn\u001b[39;00m _op\n",
      "File \u001b[0;32m~/Desktop/IC/music-generation/tf2.6/lib/python3.8/site-packages/tensorflow/python/framework/op_def_library.py:797\u001b[0m, in \u001b[0;36m_apply_op_helper\u001b[0;34m(op_type_name, name, **keywords)\u001b[0m\n\u001b[1;32m    <a href='file:///home/vigrel/Desktop/IC/music-generation/tf2.6/lib/python3.8/site-packages/tensorflow/python/framework/op_def_library.py?line=791'>792</a>\u001b[0m must_colocate_inputs \u001b[39m=\u001b[39m [val \u001b[39mfor\u001b[39;00m arg, val \u001b[39min\u001b[39;00m \u001b[39mzip\u001b[39m(op_def\u001b[39m.\u001b[39minput_arg, inputs)\n\u001b[1;32m    <a href='file:///home/vigrel/Desktop/IC/music-generation/tf2.6/lib/python3.8/site-packages/tensorflow/python/framework/op_def_library.py?line=792'>793</a>\u001b[0m                         \u001b[39mif\u001b[39;00m arg\u001b[39m.\u001b[39mis_ref]\n\u001b[1;32m    <a href='file:///home/vigrel/Desktop/IC/music-generation/tf2.6/lib/python3.8/site-packages/tensorflow/python/framework/op_def_library.py?line=793'>794</a>\u001b[0m \u001b[39mwith\u001b[39;00m _MaybeColocateWith(must_colocate_inputs):\n\u001b[1;32m    <a href='file:///home/vigrel/Desktop/IC/music-generation/tf2.6/lib/python3.8/site-packages/tensorflow/python/framework/op_def_library.py?line=794'>795</a>\u001b[0m   \u001b[39m# Add Op to graph\u001b[39;00m\n\u001b[1;32m    <a href='file:///home/vigrel/Desktop/IC/music-generation/tf2.6/lib/python3.8/site-packages/tensorflow/python/framework/op_def_library.py?line=795'>796</a>\u001b[0m   \u001b[39m# pylint: disable=protected-access\u001b[39;00m\n\u001b[0;32m--> <a href='file:///home/vigrel/Desktop/IC/music-generation/tf2.6/lib/python3.8/site-packages/tensorflow/python/framework/op_def_library.py?line=796'>797</a>\u001b[0m   op \u001b[39m=\u001b[39m g\u001b[39m.\u001b[39;49m_create_op_internal(op_type_name, inputs, dtypes\u001b[39m=\u001b[39;49m\u001b[39mNone\u001b[39;49;00m,\n\u001b[1;32m    <a href='file:///home/vigrel/Desktop/IC/music-generation/tf2.6/lib/python3.8/site-packages/tensorflow/python/framework/op_def_library.py?line=797'>798</a>\u001b[0m                              name\u001b[39m=\u001b[39;49mscope, input_types\u001b[39m=\u001b[39;49minput_types,\n\u001b[1;32m    <a href='file:///home/vigrel/Desktop/IC/music-generation/tf2.6/lib/python3.8/site-packages/tensorflow/python/framework/op_def_library.py?line=798'>799</a>\u001b[0m                              attrs\u001b[39m=\u001b[39;49mattr_protos, op_def\u001b[39m=\u001b[39;49mop_def)\n\u001b[1;32m    <a href='file:///home/vigrel/Desktop/IC/music-generation/tf2.6/lib/python3.8/site-packages/tensorflow/python/framework/op_def_library.py?line=800'>801</a>\u001b[0m \u001b[39m# `outputs` is returned as a separate return value so that the output\u001b[39;00m\n\u001b[1;32m    <a href='file:///home/vigrel/Desktop/IC/music-generation/tf2.6/lib/python3.8/site-packages/tensorflow/python/framework/op_def_library.py?line=801'>802</a>\u001b[0m \u001b[39m# tensors can the `op` per se can be decoupled so that the\u001b[39;00m\n\u001b[1;32m    <a href='file:///home/vigrel/Desktop/IC/music-generation/tf2.6/lib/python3.8/site-packages/tensorflow/python/framework/op_def_library.py?line=802'>803</a>\u001b[0m \u001b[39m# `op_callbacks` can function properly. See framework/op_callbacks.py\u001b[39;00m\n\u001b[1;32m    <a href='file:///home/vigrel/Desktop/IC/music-generation/tf2.6/lib/python3.8/site-packages/tensorflow/python/framework/op_def_library.py?line=803'>804</a>\u001b[0m \u001b[39m# for more details.\u001b[39;00m\n\u001b[1;32m    <a href='file:///home/vigrel/Desktop/IC/music-generation/tf2.6/lib/python3.8/site-packages/tensorflow/python/framework/op_def_library.py?line=804'>805</a>\u001b[0m outputs \u001b[39m=\u001b[39m op\u001b[39m.\u001b[39moutputs\n",
      "File \u001b[0;32m~/Desktop/IC/music-generation/tf2.6/lib/python3.8/site-packages/tensorflow/python/framework/ops.py:3763\u001b[0m, in \u001b[0;36mGraph._create_op_internal\u001b[0;34m(self, op_type, inputs, dtypes, input_types, name, attrs, op_def, compute_device)\u001b[0m\n\u001b[1;32m   <a href='file:///home/vigrel/Desktop/IC/music-generation/tf2.6/lib/python3.8/site-packages/tensorflow/python/framework/ops.py?line=3752'>3753</a>\u001b[0m \u001b[39mwith\u001b[39;00m \u001b[39mself\u001b[39m\u001b[39m.\u001b[39m_mutation_lock():\n\u001b[1;32m   <a href='file:///home/vigrel/Desktop/IC/music-generation/tf2.6/lib/python3.8/site-packages/tensorflow/python/framework/ops.py?line=3753'>3754</a>\u001b[0m   ret \u001b[39m=\u001b[39m Operation(\n\u001b[1;32m   <a href='file:///home/vigrel/Desktop/IC/music-generation/tf2.6/lib/python3.8/site-packages/tensorflow/python/framework/ops.py?line=3754'>3755</a>\u001b[0m       node_def,\n\u001b[1;32m   <a href='file:///home/vigrel/Desktop/IC/music-generation/tf2.6/lib/python3.8/site-packages/tensorflow/python/framework/ops.py?line=3755'>3756</a>\u001b[0m       \u001b[39mself\u001b[39m,\n\u001b[0;32m   (...)\u001b[0m\n\u001b[1;32m   <a href='file:///home/vigrel/Desktop/IC/music-generation/tf2.6/lib/python3.8/site-packages/tensorflow/python/framework/ops.py?line=3760'>3761</a>\u001b[0m       original_op\u001b[39m=\u001b[39m\u001b[39mself\u001b[39m\u001b[39m.\u001b[39m_default_original_op,\n\u001b[1;32m   <a href='file:///home/vigrel/Desktop/IC/music-generation/tf2.6/lib/python3.8/site-packages/tensorflow/python/framework/ops.py?line=3761'>3762</a>\u001b[0m       op_def\u001b[39m=\u001b[39mop_def)\n\u001b[0;32m-> <a href='file:///home/vigrel/Desktop/IC/music-generation/tf2.6/lib/python3.8/site-packages/tensorflow/python/framework/ops.py?line=3762'>3763</a>\u001b[0m   \u001b[39mself\u001b[39;49m\u001b[39m.\u001b[39;49m_create_op_helper(ret, compute_device\u001b[39m=\u001b[39;49mcompute_device)\n\u001b[1;32m   <a href='file:///home/vigrel/Desktop/IC/music-generation/tf2.6/lib/python3.8/site-packages/tensorflow/python/framework/ops.py?line=3763'>3764</a>\u001b[0m \u001b[39mreturn\u001b[39;00m ret\n",
      "File \u001b[0;32m~/Desktop/IC/music-generation/tf2.6/lib/python3.8/site-packages/tensorflow/python/framework/ops.py:3847\u001b[0m, in \u001b[0;36mGraph._create_op_helper\u001b[0;34m(self, op, compute_device)\u001b[0m\n\u001b[1;32m   <a href='file:///home/vigrel/Desktop/IC/music-generation/tf2.6/lib/python3.8/site-packages/tensorflow/python/framework/ops.py?line=3843'>3844</a>\u001b[0m op\u001b[39m.\u001b[39m_colocation_code_locations \u001b[39m=\u001b[39m \u001b[39mself\u001b[39m\u001b[39m.\u001b[39m_snapshot_colocation_stack_metadata()\n\u001b[1;32m   <a href='file:///home/vigrel/Desktop/IC/music-generation/tf2.6/lib/python3.8/site-packages/tensorflow/python/framework/ops.py?line=3844'>3845</a>\u001b[0m \u001b[39m# pylint: enable=protected-access\u001b[39;00m\n\u001b[0;32m-> <a href='file:///home/vigrel/Desktop/IC/music-generation/tf2.6/lib/python3.8/site-packages/tensorflow/python/framework/ops.py?line=3846'>3847</a>\u001b[0m \u001b[39mif\u001b[39;00m \u001b[39mself\u001b[39;49m\u001b[39m.\u001b[39;49m_colocation_stack:\n\u001b[1;32m   <a href='file:///home/vigrel/Desktop/IC/music-generation/tf2.6/lib/python3.8/site-packages/tensorflow/python/framework/ops.py?line=3847'>3848</a>\u001b[0m   all_colocation_groups \u001b[39m=\u001b[39m []\n\u001b[1;32m   <a href='file:///home/vigrel/Desktop/IC/music-generation/tf2.6/lib/python3.8/site-packages/tensorflow/python/framework/ops.py?line=3848'>3849</a>\u001b[0m   is_device_set \u001b[39m=\u001b[39m \u001b[39mFalse\u001b[39;00m\n",
      "File \u001b[0;32m~/Desktop/IC/music-generation/tf2.6/lib/python3.8/site-packages/tensorflow/python/framework/ops.py:5356\u001b[0m, in \u001b[0;36mGraph._colocation_stack\u001b[0;34m(self)\u001b[0m\n\u001b[1;32m   <a href='file:///home/vigrel/Desktop/IC/music-generation/tf2.6/lib/python3.8/site-packages/tensorflow/python/framework/ops.py?line=5353'>5354</a>\u001b[0m     stack_copy_for_this_thread \u001b[39m=\u001b[39m \u001b[39mself\u001b[39m\u001b[39m.\u001b[39m_graph_colocation_stack\u001b[39m.\u001b[39mcopy()\n\u001b[1;32m   <a href='file:///home/vigrel/Desktop/IC/music-generation/tf2.6/lib/python3.8/site-packages/tensorflow/python/framework/ops.py?line=5354'>5355</a>\u001b[0m     \u001b[39mself\u001b[39m\u001b[39m.\u001b[39m_thread_local\u001b[39m.\u001b[39m_colocation_stack \u001b[39m=\u001b[39m stack_copy_for_this_thread\n\u001b[0;32m-> <a href='file:///home/vigrel/Desktop/IC/music-generation/tf2.6/lib/python3.8/site-packages/tensorflow/python/framework/ops.py?line=5355'>5356</a>\u001b[0m   \u001b[39mreturn\u001b[39;00m \u001b[39mself\u001b[39;49m\u001b[39m.\u001b[39;49m_thread_local\u001b[39m.\u001b[39;49m_colocation_stack\n\u001b[1;32m   <a href='file:///home/vigrel/Desktop/IC/music-generation/tf2.6/lib/python3.8/site-packages/tensorflow/python/framework/ops.py?line=5356'>5357</a>\u001b[0m   \u001b[39m# pylint: enable=protected-access\u001b[39;00m\n\u001b[1;32m   <a href='file:///home/vigrel/Desktop/IC/music-generation/tf2.6/lib/python3.8/site-packages/tensorflow/python/framework/ops.py?line=5357'>5358</a>\u001b[0m \u001b[39melse\u001b[39;00m:\n\u001b[1;32m   <a href='file:///home/vigrel/Desktop/IC/music-generation/tf2.6/lib/python3.8/site-packages/tensorflow/python/framework/ops.py?line=5358'>5359</a>\u001b[0m   \u001b[39mreturn\u001b[39;00m \u001b[39mself\u001b[39m\u001b[39m.\u001b[39m_graph_colocation_stack\n",
      "\u001b[0;31mKeyboardInterrupt\u001b[0m: "
     ]
    }
   ],
   "source": [
    "log_dir = os.path.join(\n",
    "    \"logs\",\n",
    "    datetime.datetime.now().strftime(\"%Y%m%d-%H%M%S\"),\n",
    ")\n",
    "callbacks = [\n",
    "    tf.keras.callbacks.TensorBoard(log_dir=log_dir),\n",
    "]\n",
    "\n",
    "history = variational_ae.fit(\n",
    "    y_train,\n",
    "    y_train,\n",
    "    callbacks=callbacks,\n",
    "    epochs=NUM_EPOCHS,\n",
    "    batch_size=BATCH_SIZE,\n",
    "    validation_data=(y_valid, y_valid),\n",
    "    verbose=2,\n",
    ")\n",
    "\n",
    "loss = history.history[\"loss\"][-1]\n",
    "print(f\"Train Loss: {loss}\")\n",
    "\n",
    "write_dir = 'HistoryVAAuto/'\n",
    "variational_ae.save('HistoryVAAuto/variational_ae.h5')"
   ]
  },
  {
   "cell_type": "code",
   "execution_count": null,
   "id": "da90866a",
   "metadata": {},
   "outputs": [],
   "source": [
    "import pypianoroll\n",
    "\n",
    "def sample2midi(path, sample, resolution):\n",
    "    all_notes = np.zeros((2048,128), dtype=np.uint8)\n",
    "    all_notes[:, 24:96] = sample.reshape(2048,72)\n",
    "\n",
    "    pypianoroll.write(\n",
    "        path=path, \n",
    "        multitrack=pypianoroll.Multitrack(\n",
    "            resolution=resolution,\n",
    "            tracks=[\n",
    "                pypianoroll.BinaryTrack(\n",
    "                    program=0, is_drum=False, pianoroll=all_notes\n",
    "                    )\n",
    "                ]\n",
    "            )\n",
    "        )"
   ]
  },
  {
   "cell_type": "code",
   "execution_count": null,
   "id": "81cba4a8",
   "metadata": {},
   "outputs": [
    {
     "data": {
      "image/png": "[encoded data removed]",
      "text/plain": [
       "<Figure size 1080x864 with 1 Axes>"
      ]
     },
     "metadata": {
      "needs_background": "light"
     },
     "output_type": "display_data"
    }
   ],
   "source": [
    "import matplotlib.pyplot as plt\n",
    "# music = np.expand_dims(np.zeros(y_shape[1:]), axis=0)\n",
    "music = np.expand_dims(np.random.uniform(size=72), axis=0)\n",
    "music = variational_decoder.predict(music)\n",
    "rand_vals = np.random.uniform(size=music.shape)\n",
    "music = music > rand_vals\n",
    "\n",
    "plt.figure(figsize=(15,12))\n",
    "plt.imshow(music[0].transpose())\n",
    "plt.show()"
   ]
  },
  {
   "cell_type": "code",
   "execution_count": null,
   "id": "5cffd382",
   "metadata": {},
   "outputs": [
    {
     "ename": "NameError",
     "evalue": "name 'b' is not defined",
     "output_type": "error",
     "traceback": [
      "\u001b[0;31m---------------------------------------------------------------------------\u001b[0m",
      "\u001b[0;31mNameError\u001b[0m                                 Traceback (most recent call last)",
      "\u001b[1;32m/home/vigrel/Desktop/IC/music-generation/modelo3.ipynb Cell 12'\u001b[0m in \u001b[0;36m<cell line: 1>\u001b[0;34m()\u001b[0m\n\u001b[0;32m----> <a href='vscode-notebook-cell:/home/vigrel/Desktop/IC/music-generation/modelo3.ipynb#ch0000013?line=0'>1</a>\u001b[0m b\n",
      "\u001b[0;31mNameError\u001b[0m: name 'b' is not defined"
     ]
    }
   ],
   "source": [
    "b"
   ]
  },
  {
   "cell_type": "code",
   "execution_count": null,
   "id": "510fdba3",
   "metadata": {},
   "outputs": [
    {
     "data": {
      "image/png": "[encoded data removed]",
      "text/plain": [
       "<Figure size 1080x864 with 1 Axes>"
      ]
     },
     "metadata": {
      "needs_background": "light"
     },
     "output_type": "display_data"
    }
   ],
   "source": [
    "for i in range(100):\n",
    "    music = np.expand_dims(np.random.uniform(size=72), axis=0)\n",
    "    music = variational_decoder.predict(music)\n",
    "    rand_vals = np.random.uniform(size=music.shape)\n",
    "    music = music > rand_vals\n",
    "    music = variational_ae.predict(music)\n",
    "    music = music > rand_vals\n",
    "\n",
    "plt.figure(figsize=(15,12))\n",
    "plt.imshow(music[0].transpose())\n",
    "plt.show()"
   ]
  },
  {
   "cell_type": "code",
   "execution_count": null,
   "id": "aadc7a54",
   "metadata": {},
   "outputs": [],
   "source": [
    "midi.sample2midi(\"teste.mid\", music, 4)"
   ]
  }
 ],
 "metadata": {
  "interpreter": {
   "hash": "9120da6c2d63ded445b1a09e31569bbaba4e2e721b03136355509f1402b65420"
  },
  "kernelspec": {
   "display_name": "Python (IC)",
   "language": "python",
   "name": "python3"
  },
  "language_info": {
   "codemirror_mode": {
    "name": "ipython",
    "version": 3
   },
   "file_extension": ".py",
   "mimetype": "text/x-python",
   "name": "python",
   "nbconvert_exporter": "python",
   "pygments_lexer": "ipython3",
   "version": "3.8.10"
  }
 },
 "nbformat": 4,
 "nbformat_minor": 5
}
