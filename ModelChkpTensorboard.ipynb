{
 "cells": [
  {
   "cell_type": "code",
   "execution_count": 1,
   "id": "21519a30",
   "metadata": {},
   "outputs": [],
   "source": [
    "%load_ext tensorboard"
   ]
  },
  {
   "cell_type": "code",
   "execution_count": 2,
   "id": "28d4581d",
   "metadata": {},
   "outputs": [],
   "source": [
    "import datetime\n",
    "import os\n",
    "import time\n",
    "\n",
    "import numpy as np\n",
    "import matplotlib.pyplot as plt\n",
    "import tensorflow as tf\n",
    "\n",
    "from midi_utils import *"
   ]
  },
  {
   "cell_type": "code",
   "execution_count": 3,
   "id": "1c2c23cf",
   "metadata": {},
   "outputs": [],
   "source": [
    "x = np.load('samples.npy')"
   ]
  },
  {
   "cell_type": "code",
   "execution_count": 4,
   "id": "6c4e5274-1337-421c-96c6-9b00dde1f3f9",
   "metadata": {},
   "outputs": [
    {
     "data": {
      "text/plain": [
       "(217, 128, 512)"
      ]
     },
     "execution_count": 4,
     "metadata": {},
     "output_type": "execute_result"
    }
   ],
   "source": [
    "x.shape"
   ]
  },
  {
   "cell_type": "code",
   "execution_count": 5,
   "id": "1e78b9de-e215-4993-a120-859cd17fcae7",
   "metadata": {},
   "outputs": [],
   "source": [
    "x = x[:,:,::16]"
   ]
  },
  {
   "cell_type": "code",
   "execution_count": 6,
   "id": "93ef8488-0fa7-4959-8146-0152a6938a82",
   "metadata": {},
   "outputs": [
    {
     "data": {
      "text/plain": [
       "(217, 128, 32)"
      ]
     },
     "execution_count": 6,
     "metadata": {},
     "output_type": "execute_result"
    }
   ],
   "source": [
    "x.shape"
   ]
  },
  {
   "cell_type": "code",
   "execution_count": 7,
   "id": "67c0e755-c3b2-441c-90ab-25d1af06133b",
   "metadata": {},
   "outputs": [],
   "source": [
    "x[x < 120] = 0\n",
    "x[x > 0] = 1"
   ]
  },
  {
   "cell_type": "code",
   "execution_count": 8,
   "id": "11022d81",
   "metadata": {},
   "outputs": [],
   "source": [
    "X_train = x[:-28]\n",
    "X_valid = x[-28:]"
   ]
  },
  {
   "cell_type": "code",
   "execution_count": 9,
   "id": "d0535698-0344-4020-83f8-9b9701aa4910",
   "metadata": {},
   "outputs": [],
   "source": [
    "np.random.seed(42)\n",
    "\n",
    "_, num_notes, num_ticks = X_train.shape\n",
    "\n",
    "def create_model():\n",
    "\n",
    "    def rounded_accuracy(y_true, y_pred):\n",
    "        return tf.keras.metrics.binary_accuracy(\n",
    "            tf.round(y_true),\n",
    "            tf.round(y_pred),\n",
    "        )\n",
    "\n",
    "    stacked_encoder = tf.keras.models.Sequential([\n",
    "        tf.keras.layers.Flatten(input_shape=[num_notes, num_ticks]),\n",
    "        tf.keras.layers.Dense(1024, activation=\"selu\"),\n",
    "        tf.keras.layers.Dense(512, activation=\"selu\"),\n",
    "    ])\n",
    "    stacked_decoder = tf.keras.models.Sequential([\n",
    "        tf.keras.layers.Dense(1024, activation=\"selu\", input_shape=[512]),\n",
    "        tf.keras.layers.Dense(num_notes * num_ticks, activation=\"sigmoid\"),\n",
    "        tf.keras.layers.Reshape([num_notes, num_ticks])\n",
    "    ])\n",
    "    stacked_ae = tf.keras.models.Sequential([stacked_encoder, stacked_decoder])\n",
    "\n",
    "    stacked_ae.compile(\n",
    "        loss=\"binary_crossentropy\",\n",
    "        optimizer=tf.keras.optimizers.SGD(learning_rate=1.5),\n",
    "        metrics=[rounded_accuracy],\n",
    "    )\n",
    "\n",
    "    return stacked_encoder, stacked_decoder, stacked_ae"
   ]
  },
  {
   "cell_type": "code",
   "execution_count": 10,
   "id": "ee9dac78",
   "metadata": {
    "tags": []
   },
   "outputs": [
    {
     "name": "stdout",
     "output_type": "stream",
     "text": [
      "Epoch 1/100\n",
      "1/1 - 7s - loss: 0.6947 - rounded_accuracy: 0.8524 - val_loss: 0.6936 - val_rounded_accuracy: 0.6276\n",
      "Epoch 2/100\n",
      "1/1 - 1s - loss: 0.6942 - rounded_accuracy: 0.6101 - val_loss: 0.6930 - val_rounded_accuracy: 0.6121\n",
      "Epoch 3/100\n",
      "1/1 - 0s - loss: 0.6934 - rounded_accuracy: 0.5979 - val_loss: 0.6924 - val_rounded_accuracy: 0.6104\n",
      "Epoch 4/100\n",
      "1/1 - 0s - loss: 0.6927 - rounded_accuracy: 0.5973 - val_loss: 0.6918 - val_rounded_accuracy: 0.6117\n",
      "Epoch 5/100\n",
      "1/1 - 0s - loss: 0.6919 - rounded_accuracy: 0.5992 - val_loss: 0.6911 - val_rounded_accuracy: 0.6147\n",
      "Epoch 6/100\n",
      "1/1 - 0s - loss: 0.6910 - rounded_accuracy: 0.6028 - val_loss: 0.6903 - val_rounded_accuracy: 0.6183\n",
      "Epoch 7/100\n",
      "1/1 - 0s - loss: 0.6901 - rounded_accuracy: 0.6069 - val_loss: 0.6894 - val_rounded_accuracy: 0.6219\n",
      "Epoch 8/100\n",
      "1/1 - 0s - loss: 0.6891 - rounded_accuracy: 0.6110 - val_loss: 0.6885 - val_rounded_accuracy: 0.6279\n",
      "Epoch 9/100\n",
      "1/1 - 0s - loss: 0.6880 - rounded_accuracy: 0.6171 - val_loss: 0.6873 - val_rounded_accuracy: 0.6322\n",
      "Epoch 10/100\n",
      "1/1 - 0s - loss: 0.6867 - rounded_accuracy: 0.6219 - val_loss: 0.6861 - val_rounded_accuracy: 0.6398\n",
      "Epoch 11/100\n",
      "1/1 - 0s - loss: 0.6852 - rounded_accuracy: 0.6298 - val_loss: 0.6846 - val_rounded_accuracy: 0.6481\n",
      "Epoch 12/100\n",
      "1/1 - 0s - loss: 0.6835 - rounded_accuracy: 0.6387 - val_loss: 0.6828 - val_rounded_accuracy: 0.6574\n",
      "Epoch 13/100\n",
      "1/1 - 0s - loss: 0.6815 - rounded_accuracy: 0.6483 - val_loss: 0.6807 - val_rounded_accuracy: 0.6680\n",
      "Epoch 14/100\n",
      "1/1 - 0s - loss: 0.6792 - rounded_accuracy: 0.6595 - val_loss: 0.6782 - val_rounded_accuracy: 0.6805\n",
      "Epoch 15/100\n",
      "1/1 - 0s - loss: 0.6764 - rounded_accuracy: 0.6725 - val_loss: 0.6753 - val_rounded_accuracy: 0.6925\n",
      "Epoch 16/100\n",
      "1/1 - 0s - loss: 0.6731 - rounded_accuracy: 0.6851 - val_loss: 0.6717 - val_rounded_accuracy: 0.7051\n",
      "Epoch 17/100\n",
      "1/1 - 0s - loss: 0.6692 - rounded_accuracy: 0.6985 - val_loss: 0.6675 - val_rounded_accuracy: 0.7218\n",
      "Epoch 18/100\n",
      "1/1 - 0s - loss: 0.6645 - rounded_accuracy: 0.7157 - val_loss: 0.6623 - val_rounded_accuracy: 0.7367\n",
      "Epoch 19/100\n",
      "1/1 - 0s - loss: 0.6589 - rounded_accuracy: 0.7312 - val_loss: 0.6560 - val_rounded_accuracy: 0.7535\n",
      "Epoch 20/100\n",
      "1/1 - 0s - loss: 0.6521 - rounded_accuracy: 0.7484 - val_loss: 0.6484 - val_rounded_accuracy: 0.7728\n",
      "Epoch 21/100\n",
      "1/1 - 0s - loss: 0.6439 - rounded_accuracy: 0.7685 - val_loss: 0.6391 - val_rounded_accuracy: 0.7919\n",
      "Epoch 22/100\n",
      "1/1 - 0s - loss: 0.6340 - rounded_accuracy: 0.7883 - val_loss: 0.6278 - val_rounded_accuracy: 0.8129\n",
      "Epoch 23/100\n",
      "1/1 - 0s - loss: 0.6221 - rounded_accuracy: 0.8098 - val_loss: 0.6142 - val_rounded_accuracy: 0.8326\n",
      "Epoch 24/100\n",
      "1/1 - 0s - loss: 0.6078 - rounded_accuracy: 0.8300 - val_loss: 0.5978 - val_rounded_accuracy: 0.8582\n",
      "Epoch 25/100\n",
      "1/1 - 0s - loss: 0.5907 - rounded_accuracy: 0.8550 - val_loss: 0.5782 - val_rounded_accuracy: 0.8831\n",
      "Epoch 26/100\n",
      "1/1 - 0s - loss: 0.5704 - rounded_accuracy: 0.8800 - val_loss: 0.5551 - val_rounded_accuracy: 0.9031\n",
      "Epoch 27/100\n",
      "1/1 - 0s - loss: 0.5468 - rounded_accuracy: 0.9005 - val_loss: 0.5283 - val_rounded_accuracy: 0.9271\n",
      "Epoch 28/100\n",
      "1/1 - 0s - loss: 0.5196 - rounded_accuracy: 0.9240 - val_loss: 0.4979 - val_rounded_accuracy: 0.9462\n",
      "Epoch 29/100\n",
      "1/1 - 0s - loss: 0.4889 - rounded_accuracy: 0.9431 - val_loss: 0.4642 - val_rounded_accuracy: 0.9637\n",
      "Epoch 30/100\n",
      "1/1 - 0s - loss: 0.4551 - rounded_accuracy: 0.9602 - val_loss: 0.4278 - val_rounded_accuracy: 0.9757\n",
      "Epoch 31/100\n",
      "1/1 - 0s - loss: 0.4190 - rounded_accuracy: 0.9724 - val_loss: 0.3898 - val_rounded_accuracy: 0.9854\n",
      "Epoch 32/100\n",
      "1/1 - 0s - loss: 0.3814 - rounded_accuracy: 0.9821 - val_loss: 0.3512 - val_rounded_accuracy: 0.9917\n",
      "Epoch 33/100\n",
      "1/1 - 0s - loss: 0.3435 - rounded_accuracy: 0.9883 - val_loss: 0.3133 - val_rounded_accuracy: 0.9955\n",
      "Epoch 34/100\n",
      "1/1 - 0s - loss: 0.3065 - rounded_accuracy: 0.9921 - val_loss: 0.2772 - val_rounded_accuracy: 0.9967\n",
      "Epoch 35/100\n",
      "1/1 - 0s - loss: 0.2716 - rounded_accuracy: 0.9934 - val_loss: 0.2438 - val_rounded_accuracy: 0.9969\n",
      "Epoch 36/100\n",
      "1/1 - 0s - loss: 0.2394 - rounded_accuracy: 0.9936 - val_loss: 0.2137 - val_rounded_accuracy: 0.9969\n",
      "Epoch 37/100\n",
      "1/1 - 0s - loss: 0.2107 - rounded_accuracy: 0.9936 - val_loss: 0.1871 - val_rounded_accuracy: 0.9969\n",
      "Epoch 38/100\n",
      "1/1 - 0s - loss: 0.1855 - rounded_accuracy: 0.9936 - val_loss: 0.1641 - val_rounded_accuracy: 0.9969\n",
      "Epoch 39/100\n",
      "1/1 - 0s - loss: 0.1639 - rounded_accuracy: 0.9936 - val_loss: 0.1445 - val_rounded_accuracy: 0.9969\n",
      "Epoch 40/100\n",
      "1/1 - 0s - loss: 0.1455 - rounded_accuracy: 0.9936 - val_loss: 0.1278 - val_rounded_accuracy: 0.9969\n",
      "Epoch 41/100\n",
      "1/1 - 0s - loss: 0.1301 - rounded_accuracy: 0.9936 - val_loss: 0.1138 - val_rounded_accuracy: 0.9969\n",
      "Epoch 42/100\n",
      "1/1 - 0s - loss: 0.1172 - rounded_accuracy: 0.9936 - val_loss: 0.1020 - val_rounded_accuracy: 0.9969\n",
      "Epoch 43/100\n",
      "1/1 - 0s - loss: 0.1065 - rounded_accuracy: 0.9936 - val_loss: 0.0921 - val_rounded_accuracy: 0.9969\n",
      "Epoch 44/100\n",
      "1/1 - 0s - loss: 0.0975 - rounded_accuracy: 0.9936 - val_loss: 0.0837 - val_rounded_accuracy: 0.9969\n",
      "Epoch 45/100\n",
      "1/1 - 0s - loss: 0.0900 - rounded_accuracy: 0.9936 - val_loss: 0.0767 - val_rounded_accuracy: 0.9969\n",
      "Epoch 46/100\n",
      "1/1 - 0s - loss: 0.0837 - rounded_accuracy: 0.9936 - val_loss: 0.0707 - val_rounded_accuracy: 0.9969\n",
      "Epoch 47/100\n",
      "1/1 - 0s - loss: 0.0784 - rounded_accuracy: 0.9936 - val_loss: 0.0655 - val_rounded_accuracy: 0.9969\n",
      "Epoch 48/100\n",
      "1/1 - 0s - loss: 0.0739 - rounded_accuracy: 0.9936 - val_loss: 0.0612 - val_rounded_accuracy: 0.9969\n",
      "Epoch 49/100\n",
      "1/1 - 0s - loss: 0.0701 - rounded_accuracy: 0.9936 - val_loss: 0.0574 - val_rounded_accuracy: 0.9969\n",
      "Epoch 50/100\n",
      "1/1 - 0s - loss: 0.0668 - rounded_accuracy: 0.9936 - val_loss: 0.0541 - val_rounded_accuracy: 0.9969\n",
      "Epoch 51/100\n",
      "1/1 - 0s - loss: 0.0640 - rounded_accuracy: 0.9936 - val_loss: 0.0513 - val_rounded_accuracy: 0.9969\n",
      "Epoch 52/100\n",
      "1/1 - 0s - loss: 0.0615 - rounded_accuracy: 0.9936 - val_loss: 0.0488 - val_rounded_accuracy: 0.9969\n",
      "Epoch 53/100\n",
      "1/1 - 0s - loss: 0.0594 - rounded_accuracy: 0.9936 - val_loss: 0.0466 - val_rounded_accuracy: 0.9969\n",
      "Epoch 54/100\n",
      "1/1 - 0s - loss: 0.0575 - rounded_accuracy: 0.9936 - val_loss: 0.0447 - val_rounded_accuracy: 0.9969\n",
      "Epoch 55/100\n",
      "1/1 - 0s - loss: 0.0558 - rounded_accuracy: 0.9936 - val_loss: 0.0430 - val_rounded_accuracy: 0.9969\n",
      "Epoch 56/100\n",
      "1/1 - 0s - loss: 0.0543 - rounded_accuracy: 0.9936 - val_loss: 0.0414 - val_rounded_accuracy: 0.9969\n",
      "Epoch 57/100\n",
      "1/1 - 0s - loss: 0.0530 - rounded_accuracy: 0.9936 - val_loss: 0.0401 - val_rounded_accuracy: 0.9969\n",
      "Epoch 58/100\n",
      "1/1 - 0s - loss: 0.0519 - rounded_accuracy: 0.9936 - val_loss: 0.0389 - val_rounded_accuracy: 0.9969\n",
      "Epoch 59/100\n",
      "1/1 - 0s - loss: 0.0508 - rounded_accuracy: 0.9936 - val_loss: 0.0378 - val_rounded_accuracy: 0.9969\n",
      "Epoch 60/100\n",
      "1/1 - 0s - loss: 0.0498 - rounded_accuracy: 0.9936 - val_loss: 0.0368 - val_rounded_accuracy: 0.9969\n",
      "Epoch 61/100\n",
      "1/1 - 0s - loss: 0.0490 - rounded_accuracy: 0.9936 - val_loss: 0.0359 - val_rounded_accuracy: 0.9969\n",
      "Epoch 62/100\n",
      "1/1 - 0s - loss: 0.0482 - rounded_accuracy: 0.9936 - val_loss: 0.0350 - val_rounded_accuracy: 0.9969\n",
      "Epoch 63/100\n",
      "1/1 - 0s - loss: 0.0475 - rounded_accuracy: 0.9936 - val_loss: 0.0343 - val_rounded_accuracy: 0.9969\n",
      "Epoch 64/100\n",
      "1/1 - 0s - loss: 0.0468 - rounded_accuracy: 0.9936 - val_loss: 0.0336 - val_rounded_accuracy: 0.9969\n",
      "Epoch 65/100\n",
      "1/1 - 0s - loss: 0.0462 - rounded_accuracy: 0.9936 - val_loss: 0.0330 - val_rounded_accuracy: 0.9969\n",
      "Epoch 66/100\n",
      "1/1 - 0s - loss: 0.0456 - rounded_accuracy: 0.9936 - val_loss: 0.0324 - val_rounded_accuracy: 0.9969\n",
      "Epoch 67/100\n",
      "1/1 - 0s - loss: 0.0451 - rounded_accuracy: 0.9936 - val_loss: 0.0319 - val_rounded_accuracy: 0.9969\n",
      "Epoch 68/100\n",
      "1/1 - 0s - loss: 0.0446 - rounded_accuracy: 0.9936 - val_loss: 0.0314 - val_rounded_accuracy: 0.9969\n",
      "Epoch 69/100\n",
      "1/1 - 0s - loss: 0.0441 - rounded_accuracy: 0.9936 - val_loss: 0.0309 - val_rounded_accuracy: 0.9969\n",
      "Epoch 70/100\n",
      "1/1 - 0s - loss: 0.0437 - rounded_accuracy: 0.9936 - val_loss: 0.0305 - val_rounded_accuracy: 0.9969\n",
      "Epoch 71/100\n",
      "1/1 - 0s - loss: 0.0433 - rounded_accuracy: 0.9936 - val_loss: 0.0301 - val_rounded_accuracy: 0.9969\n",
      "Epoch 72/100\n",
      "1/1 - 0s - loss: 0.0429 - rounded_accuracy: 0.9936 - val_loss: 0.0297 - val_rounded_accuracy: 0.9969\n",
      "Epoch 73/100\n",
      "1/1 - 0s - loss: 0.0425 - rounded_accuracy: 0.9936 - val_loss: 0.0294 - val_rounded_accuracy: 0.9969\n",
      "Epoch 74/100\n",
      "1/1 - 0s - loss: 0.0422 - rounded_accuracy: 0.9936 - val_loss: 0.0291 - val_rounded_accuracy: 0.9969\n",
      "Epoch 75/100\n",
      "1/1 - 0s - loss: 0.0418 - rounded_accuracy: 0.9936 - val_loss: 0.0288 - val_rounded_accuracy: 0.9969\n",
      "Epoch 76/100\n",
      "1/1 - 0s - loss: 0.0415 - rounded_accuracy: 0.9936 - val_loss: 0.0285 - val_rounded_accuracy: 0.9969\n",
      "Epoch 77/100\n",
      "1/1 - 0s - loss: 0.0412 - rounded_accuracy: 0.9936 - val_loss: 0.0282 - val_rounded_accuracy: 0.9969\n",
      "Epoch 78/100\n",
      "1/1 - 0s - loss: 0.0409 - rounded_accuracy: 0.9936 - val_loss: 0.0280 - val_rounded_accuracy: 0.9969\n",
      "Epoch 79/100\n",
      "1/1 - 0s - loss: 0.0406 - rounded_accuracy: 0.9936 - val_loss: 0.0277 - val_rounded_accuracy: 0.9969\n",
      "Epoch 80/100\n",
      "1/1 - 0s - loss: 0.0404 - rounded_accuracy: 0.9936 - val_loss: 0.0275 - val_rounded_accuracy: 0.9969\n",
      "Epoch 81/100\n",
      "1/1 - 0s - loss: 0.0401 - rounded_accuracy: 0.9936 - val_loss: 0.0273 - val_rounded_accuracy: 0.9969\n",
      "Epoch 82/100\n",
      "1/1 - 0s - loss: 0.0399 - rounded_accuracy: 0.9936 - val_loss: 0.0271 - val_rounded_accuracy: 0.9969\n",
      "Epoch 83/100\n",
      "1/1 - 0s - loss: 0.0396 - rounded_accuracy: 0.9936 - val_loss: 0.0269 - val_rounded_accuracy: 0.9969\n",
      "Epoch 84/100\n",
      "1/1 - 0s - loss: 0.0394 - rounded_accuracy: 0.9936 - val_loss: 0.0267 - val_rounded_accuracy: 0.9969\n",
      "Epoch 85/100\n",
      "1/1 - 0s - loss: 0.0392 - rounded_accuracy: 0.9936 - val_loss: 0.0265 - val_rounded_accuracy: 0.9969\n",
      "Epoch 86/100\n",
      "1/1 - 0s - loss: 0.0390 - rounded_accuracy: 0.9936 - val_loss: 0.0263 - val_rounded_accuracy: 0.9969\n",
      "Epoch 87/100\n",
      "1/1 - 0s - loss: 0.0387 - rounded_accuracy: 0.9936 - val_loss: 0.0261 - val_rounded_accuracy: 0.9969\n",
      "Epoch 88/100\n",
      "1/1 - 0s - loss: 0.0385 - rounded_accuracy: 0.9936 - val_loss: 0.0260 - val_rounded_accuracy: 0.9969\n",
      "Epoch 89/100\n",
      "1/1 - 0s - loss: 0.0383 - rounded_accuracy: 0.9936 - val_loss: 0.0258 - val_rounded_accuracy: 0.9969\n",
      "Epoch 90/100\n",
      "1/1 - 0s - loss: 0.0381 - rounded_accuracy: 0.9936 - val_loss: 0.0257 - val_rounded_accuracy: 0.9969\n",
      "Epoch 91/100\n",
      "1/1 - 0s - loss: 0.0379 - rounded_accuracy: 0.9936 - val_loss: 0.0255 - val_rounded_accuracy: 0.9969\n",
      "Epoch 92/100\n",
      "1/1 - 0s - loss: 0.0377 - rounded_accuracy: 0.9936 - val_loss: 0.0254 - val_rounded_accuracy: 0.9969\n",
      "Epoch 93/100\n",
      "1/1 - 0s - loss: 0.0376 - rounded_accuracy: 0.9936 - val_loss: 0.0252 - val_rounded_accuracy: 0.9969\n",
      "Epoch 94/100\n",
      "1/1 - 0s - loss: 0.0374 - rounded_accuracy: 0.9936 - val_loss: 0.0251 - val_rounded_accuracy: 0.9969\n",
      "Epoch 95/100\n",
      "1/1 - 0s - loss: 0.0372 - rounded_accuracy: 0.9936 - val_loss: 0.0250 - val_rounded_accuracy: 0.9969\n",
      "Epoch 96/100\n",
      "1/1 - 0s - loss: 0.0370 - rounded_accuracy: 0.9936 - val_loss: 0.0249 - val_rounded_accuracy: 0.9969\n",
      "Epoch 97/100\n",
      "1/1 - 0s - loss: 0.0368 - rounded_accuracy: 0.9936 - val_loss: 0.0247 - val_rounded_accuracy: 0.9969\n",
      "Epoch 98/100\n",
      "1/1 - 0s - loss: 0.0366 - rounded_accuracy: 0.9936 - val_loss: 0.0246 - val_rounded_accuracy: 0.9969\n",
      "Epoch 99/100\n",
      "1/1 - 0s - loss: 0.0365 - rounded_accuracy: 0.9936 - val_loss: 0.0245 - val_rounded_accuracy: 0.9969\n",
      "Epoch 100/100\n",
      "1/1 - 0s - loss: 0.0363 - rounded_accuracy: 0.9936 - val_loss: 0.0244 - val_rounded_accuracy: 0.9969\n"
     ]
    }
   ],
   "source": [
    "log_dir = os.path.join(\n",
    "    \"logs\",\n",
    "    datetime.datetime.now().strftime(\"%Y%m%d-%H%M%S\"),\n",
    ")\n",
    "callbacks = [\n",
    "    tf.keras.callbacks.TensorBoard(log_dir=log_dir),\n",
    "]\n",
    "\n",
    "stacked_encoder, stacked_decoder, model = create_model()\n",
    "history = model.fit(\n",
    "    X_train,\n",
    "    X_train,\n",
    "    epochs=100,\n",
    "    batch_size=256,\n",
    "    validation_data=(X_valid, X_valid),\n",
    "    callbacks=callbacks,\n",
    "    verbose=2,\n",
    ")"
   ]
  },
  {
   "cell_type": "code",
   "execution_count": 11,
   "id": "08664de2-396b-4017-8bb0-e7362cad1649",
   "metadata": {},
   "outputs": [
    {
     "data": {
      "text/plain": [
       "Reusing TensorBoard on port 6006 (pid 25516), started 0:35:51 ago. (Use '!kill 25516' to kill it.)"
      ]
     },
     "metadata": {},
     "output_type": "display_data"
    },
    {
     "data": {
      "text/html": [
       "\n",
       "      <iframe id=\"tensorboard-frame-3d7ed1ccaacd8f3a\" width=\"100%\" height=\"800\" frameborder=\"0\">\n",
       "      </iframe>\n",
       "      <script>\n",
       "        (function() {\n",
       "          const frame = document.getElementById(\"tensorboard-frame-3d7ed1ccaacd8f3a\");\n",
       "          const url = new URL(\"/\", window.location);\n",
       "          const port = 6006;\n",
       "          if (port) {\n",
       "            url.port = port;\n",
       "          }\n",
       "          frame.src = url;\n",
       "        })();\n",
       "      </script>\n",
       "    "
      ],
      "text/plain": [
       "<IPython.core.display.HTML object>"
      ]
     },
     "metadata": {},
     "output_type": "display_data"
    }
   ],
   "source": [
    "%tensorboard --logdir logs"
   ]
  },
  {
   "cell_type": "code",
   "execution_count": 12,
   "id": "e522dfe2-d390-49d8-85c6-17cd12fb3a22",
   "metadata": {},
   "outputs": [
    {
     "data": {
      "image/png": "[encoded data removed]",
      "text/plain": [
       "<Figure size 432x288 with 1 Axes>"
      ]
     },
     "metadata": {
      "needs_background": "light"
     },
     "output_type": "display_data"
    }
   ],
   "source": [
    "plt.hist(model(X_train[0:1, :, :]).numpy().ravel(), bins=200);"
   ]
  },
  {
   "cell_type": "code",
   "execution_count": 13,
   "id": "4c424740-5f81-4a5d-bc5a-5c1cdd5d4c4e",
   "metadata": {},
   "outputs": [
    {
     "data": {
      "image/png": "[encoded data removed]",
      "text/plain": [
       "<Figure size 1152x576 with 2 Axes>"
      ]
     },
     "metadata": {
      "needs_background": "light"
     },
     "output_type": "display_data"
    }
   ],
   "source": [
    "k = 50\n",
    "\n",
    "plt.figure(figsize=(16, 8))\n",
    "plt.subplot(2,1,1)\n",
    "plt.imshow(X_train[k,:,:])\n",
    "plt.subplot(2,1,2)\n",
    "plt.imshow(model(X_train[k:(k + 1), :, :]).numpy().squeeze())\n",
    "plt.show()"
   ]
  },
  {
   "cell_type": "code",
   "execution_count": null,
   "id": "f973e6e3-86e2-4338-a1e1-bdb2477e77b6",
   "metadata": {},
   "outputs": [],
   "source": []
  }
 ],
 "metadata": {
  "kernelspec": {
   "display_name": "ml",
   "language": "python",
   "name": "ml"
  },
  "language_info": {
   "codemirror_mode": {
    "name": "ipython",
    "version": 3
   },
   "file_extension": ".py",
   "mimetype": "text/x-python",
   "name": "python",
   "nbconvert_exporter": "python",
   "pygments_lexer": "ipython3",
   "version": "3.8.12"
  }
 },
 "nbformat": 4,
 "nbformat_minor": 5
}
