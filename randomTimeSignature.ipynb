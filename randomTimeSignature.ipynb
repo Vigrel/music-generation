{
 "cells": [
  {
   "cell_type": "code",
   "execution_count": 1,
   "id": "smoking-payroll",
   "metadata": {},
   "outputs": [
    {
     "name": "stdout",
     "output_type": "stream",
     "text": [
      "\n",
      "MidosVersion: 1.2.9\n"
     ]
    }
   ],
   "source": [
    "# from mido import MidiFile, MidiTrack, Message\n",
    "import mido\n",
    "print(f\"\\nMidosVersion: {mido.__version__}\")\n",
    "import numpy as np \n",
    "from matplotlib import pyplot as plt\n",
    "import os"
   ]
  },
  {
   "cell_type": "code",
   "execution_count": 3,
   "id": "authentic-zambia",
   "metadata": {},
   "outputs": [],
   "source": [
    "def midtest(data_folders):\n",
    "    \n",
    "    all_mid = []\n",
    "    ignored = 0\n",
    "    for dirpath, _, filenames in os.walk(data_folders):\n",
    "        for File in filenames:\n",
    "            path = os.path.join(dirpath, File)\n",
    "            if not (path.endswith('.mid') or path.endswith('.midi')):\n",
    "                print(f\"{path} ignored\")\n",
    "                ignored +=1\n",
    "                continue\n",
    "            else:\n",
    "                all_mid.append(mido.MidiFile(path))\n",
    "                    \n",
    "    return all_mid"
   ]
  },
  {
   "cell_type": "code",
   "execution_count": 4,
   "id": "authorized-settlement",
   "metadata": {},
   "outputs": [],
   "source": [
    "mid = midtest(\"dataset\")"
   ]
  },
  {
   "cell_type": "code",
   "execution_count": 5,
   "id": "signal-overhead",
   "metadata": {},
   "outputs": [],
   "source": [
    "for music in mid:\n",
    "    for track in music.tracks:\n",
    "        for msg in track:\n",
    "            \n",
    "            if msg.is_meta:\n",
    "                continue\n",
    "    \n",
    "            if msg.channel not in [0,1,2]:\n",
    "                try:\n",
    "                    mid.remove(music)\n",
    "                except ValueError:\n",
    "                    continue"
   ]
  },
  {
   "cell_type": "code",
   "execution_count": 6,
   "id": "invalid-second",
   "metadata": {},
   "outputs": [
    {
     "data": {
      "text/plain": [
       "<midi file 'dataset\\\\Animal Crossing - 100 PM.mid' type 1, 2 tracks, 1167 messages>"
      ]
     },
     "execution_count": 6,
     "metadata": {},
     "output_type": "execute_result"
    }
   ],
   "source": [
    "mid[0]"
   ]
  },
  {
   "cell_type": "code",
   "execution_count": 7,
   "id": "assigned-working",
   "metadata": {},
   "outputs": [],
   "source": [
    "def midi_to_samples(fname, SPM):\n",
    "    mid = fname\n",
    "#     mid = mido.MidiFile(fname)\n",
    "    TPM = mid.ticks_per_beat\n",
    "\n",
    "    for track in mid.tracks:\n",
    "        for msg in track:\n",
    "            if msg.type == 'time_signature':\n",
    "                new_tpm = msg.denominator * TPM/msg.numerator\n",
    "\n",
    "    all_notes = {}\n",
    "\n",
    "    for track in mid.tracks:\n",
    "        abs_time = 0\n",
    "        for msg in track:\n",
    "            abs_time += msg.time\n",
    "            \n",
    "            #Notes starts\n",
    "            if msg.type == \"note_on\":\n",
    "                #Skip notes that we can´t hear\n",
    "                if msg.velocity == 0:\n",
    "                    continue\n",
    "                \n",
    "                note = msg.note\n",
    "                \n",
    "                if note not in all_notes:\n",
    "                    all_notes[note] = []\n",
    "                    \n",
    "                else:\n",
    "                    single_note = all_notes[note][-1] # If already note_on then end that note\n",
    "                    if len(single_note) == 1:\n",
    "                        single_note.append(single_note[0] + 1) \n",
    "                        \n",
    "                all_notes[note].append([abs_time * SPM / TPM]) #Time that the note started been played\n",
    "\n",
    "            elif msg.type == 'note_off':\n",
    "                if len(all_notes[note][-1]) != 1:\n",
    "                    continue\n",
    "                all_notes[note][-1].append(abs_time * SPM / TPM) #Time that the note stops\n",
    "\n",
    "    ####### It needs an upgrade #######\n",
    "    #Stopping any note that hasnt ended\n",
    "    for note in all_notes:\n",
    "        for start_end in all_notes[note]:\n",
    "            if len(start_end) == 1:\n",
    "                start_end.append(start_end[0] + 1)\n",
    "\n",
    "    samples = []\n",
    "    for note in all_notes:\n",
    "        for start, end in all_notes[note]:\n",
    "            sample_ix = int(start/SPM)\n",
    "#             print(sample_ix)\n",
    "            \n",
    "            # fill in silence until the appropriate sample/measure is reached\n",
    "            while len(samples) <= sample_ix:\n",
    "                samples.append(np.zeros((SPM, 128), dtype=np.uint8))\n",
    "#             print(samples)\n",
    "            \n",
    "            # get sample and find its start to encode the start of the note\n",
    "            sample = samples[sample_ix]\n",
    "            start_ix = int(start - sample_ix * SPM)\n",
    "            sample[start_ix, note] = 1\n",
    "\n",
    "    return samples"
   ]
  },
  {
   "cell_type": "code",
   "execution_count": 8,
   "id": "silver-islam",
   "metadata": {},
   "outputs": [],
   "source": [
    "samp = midi_to_samples(mid[0], 48)"
   ]
  },
  {
   "cell_type": "code",
   "execution_count": 9,
   "id": "inappropriate-integrity",
   "metadata": {},
   "outputs": [],
   "source": [
    "def samples_to_midi(samples, fname, SPM, thresh=0.5):\n",
    "    #Creates mid object and adding track to it\n",
    "    mid = mido.MidiFile()\n",
    "    track = mido.MidiTrack()\n",
    "    mid.tracks.append(track)\n",
    "\n",
    "    TPM = mid.ticks_per_beat #Get ticks per measure\n",
    "    print(TPM)\n",
    "    ticks_per_sample = TPM / SPM\n",
    "\n",
    "    abs_time = 0\n",
    "    last_time = 0\n",
    "\n",
    "    for sample in samples:\n",
    "        for y in range(sample.shape[0]):\n",
    "            abs_time += ticks_per_sample\n",
    "\n",
    "            for x in range(sample.shape[1]):\n",
    "                note = x\n",
    "\n",
    "\n",
    "                if sample[y,x] >= thresh and (y == 0 or sample[y - 1, x] < thresh):\n",
    "                    delta_time = abs_time - last_time\n",
    "                    track.append(mido.Message('note_on', note= note, velocity=64, time= int(delta_time)))\n",
    "                    last_time = abs_time\n",
    "                    \n",
    "                if sample[y,x] >= thresh and (y == sample.shape[0] - 1 or sample[y + 1, x] < thresh):\n",
    "                    delta_time = abs_time - last_time\n",
    "                    track.append(mido.Message('note_off', note=int(note), velocity=64, time=int(delta_time)))\n",
    "                    last_time = abs_time\n",
    "\n",
    "    return mid.save(fname)\n"
   ]
  },
  {
   "cell_type": "code",
   "execution_count": 14,
   "id": "analyzed-cabin",
   "metadata": {},
   "outputs": [
    {
     "name": "stdout",
     "output_type": "stream",
     "text": [
      "480\n"
     ]
    }
   ],
   "source": [
    "samples_to_midi(samp, \"test720.mid\",720)"
   ]
  },
  {
   "cell_type": "code",
   "execution_count": null,
   "id": "forward-disorder",
   "metadata": {},
   "outputs": [],
   "source": []
  }
 ],
 "metadata": {
  "kernelspec": {
   "display_name": "Python 3",
   "language": "python",
   "name": "python3"
  },
  "language_info": {
   "codemirror_mode": {
    "name": "ipython",
    "version": 3
   },
   "file_extension": ".py",
   "mimetype": "text/x-python",
   "name": "python",
   "nbconvert_exporter": "python",
   "pygments_lexer": "ipython3",
   "version": "3.8.5"
  }
 },
 "nbformat": 4,
 "nbformat_minor": 5
}
