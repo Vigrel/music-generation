{
 "cells": [
  {
   "cell_type": "code",
   "execution_count": 1,
   "id": "53292e1e",
   "metadata": {},
   "outputs": [],
   "source": [
    "import datetime\n",
    "import os\n",
    "import random\n",
    "\n",
    "import keras\n",
    "import numpy as np\n",
    "import tensorflow as tf\n",
    "from tensorflow.keras import backend as K\n",
    "from tensorflow.keras.layers import (Activation, BatchNormalization, Dense,\n",
    "                                     Dropout, Flatten, Reshape, Input,\n",
    "                                     TimeDistributed)\n",
    "from tensorflow.keras.models import Model\n",
    "\n",
    "tf.compat.v1.disable_eager_execution()\n",
    "\n",
    "import midi"
   ]
  },
  {
   "cell_type": "code",
   "execution_count": 2,
   "id": "31ccf1f6",
   "metadata": {},
   "outputs": [],
   "source": [
    "NUM_EPOCHS = 50\n",
    "DO_RATE = 0.1\n",
    "BN_M = 0.9\n",
    "BATCH_SIZE = 128\n",
    "PARAM_SIZE = 72\n",
    "\n",
    "np.random.seed(0)\n",
    "random.seed(0)"
   ]
  },
  {
   "cell_type": "code",
   "execution_count": 3,
   "id": "3d014c2e",
   "metadata": {},
   "outputs": [],
   "source": [
    "y = np.load('pypianorollSamples.npy')\n",
    "y = y.reshape(len(y) * 4, 512, 72)\n",
    "y_shape = y.shape"
   ]
  },
  {
   "cell_type": "code",
   "execution_count": 4,
   "id": "d939754d",
   "metadata": {},
   "outputs": [],
   "source": [
    "y_train = y[:int(y.shape[0]*0.80)]\n",
    "y_valid = y[int(y.shape[0]*0.80):y.shape[0]]\n",
    "\n",
    "y_test_song = np.copy(y[0])"
   ]
  },
  {
   "cell_type": "code",
   "execution_count": 5,
   "id": "3d302887",
   "metadata": {},
   "outputs": [],
   "source": [
    "class Sampling(keras.layers.Layer):\n",
    "    def call(self, inputs):\n",
    "        mean, log_var = inputs \n",
    "        return K.random_normal(tf.shape(log_var), stddev=0.1) * K.exp(log_var / 2) + mean\n"
   ]
  },
  {
   "cell_type": "code",
   "execution_count": 6,
   "id": "5c295d0e",
   "metadata": {},
   "outputs": [],
   "source": [
    "x_in = Input(shape=y_shape[1:])\n",
    "z = TimeDistributed(Dense(36, activation='relu'))(x_in)\n",
    "z = TimeDistributed(Dense(8, activation='relu'))(z)\n",
    "z = Flatten()(z)\n",
    "z = Dense(2048, activation='relu')(z)\n",
    "# z = BatchNormalization()(z)\n",
    "z = Dense(1024, activation='relu')(z)\n",
    "# z = BatchNormalization()(z)\n",
    "z = Dense(512, activation='relu')(z)\n",
    "z = Dense(256, activation='relu')(z)\n",
    "# z = BatchNormalization()(z)\n",
    "codings_mean = Dense(PARAM_SIZE)(z)\n",
    "codings_log_var = Dense(PARAM_SIZE)(z)\n",
    "codings = Sampling()([codings_mean, codings_log_var])\n",
    "variational_encoder = Model(inputs=[x_in], outputs=[codings_mean, codings_log_var, codings])"
   ]
  },
  {
   "cell_type": "code",
   "execution_count": 7,
   "id": "8547abb9",
   "metadata": {},
   "outputs": [],
   "source": [
    "# variational_encoder.summary()"
   ]
  },
  {
   "cell_type": "code",
   "execution_count": 8,
   "id": "641ac02b",
   "metadata": {},
   "outputs": [
    {
     "name": "stdout",
     "output_type": "stream",
     "text": [
      "WARNING:tensorflow:From /home/vigrel/Desktop/IC/music-generation/tf2.6/lib/python3.8/site-packages/keras/layers/normalization/batch_normalization.py:514: _colocate_with (from tensorflow.python.framework.ops) is deprecated and will be removed in a future version.\n",
      "Instructions for updating:\n",
      "Colocations handled automatically by placer.\n"
     ]
    },
    {
     "name": "stderr",
     "output_type": "stream",
     "text": [
      "2022-07-07 21:42:48.996325: I tensorflow/stream_executor/cuda/cuda_gpu_executor.cc:975] successful NUMA node read from SysFS had negative value (-1), but there must be at least one NUMA node, so returning NUMA node zero\n",
      "2022-07-07 21:42:49.029431: I tensorflow/stream_executor/cuda/cuda_gpu_executor.cc:975] successful NUMA node read from SysFS had negative value (-1), but there must be at least one NUMA node, so returning NUMA node zero\n",
      "2022-07-07 21:42:49.029689: I tensorflow/stream_executor/cuda/cuda_gpu_executor.cc:975] successful NUMA node read from SysFS had negative value (-1), but there must be at least one NUMA node, so returning NUMA node zero\n"
     ]
    }
   ],
   "source": [
    "decoder_inputs = Input(shape=[PARAM_SIZE])\n",
    "x = Dense(PARAM_SIZE,  name= 'encoder')(decoder_inputs)\n",
    "x = BatchNormalization(momentum=BN_M)(x)\n",
    "x = Activation(\"relu\")(x)\n",
    "x = Dropout(DO_RATE)(x)\n",
    "x = Dense(256, activation='relu')(x)\n",
    "x = Dense(512, activation='relu')(x)\n",
    "x = Dropout(DO_RATE)(x)\n",
    "x = Dense(1024, activation='relu')(x)\n",
    "x = Dropout(DO_RATE)(x)\n",
    "x = Dense(2048, activation='relu')(x)\n",
    "x = Dropout(DO_RATE)(x)\n",
    "x = Dense(4096, activation='relu')(x)\n",
    "x = Reshape((512,8))(x)\n",
    "x = TimeDistributed(Dense(36))(x)\n",
    "x = TimeDistributed(BatchNormalization(momentum=BN_M))(x)\n",
    "x = Activation(\"relu\")(x)\n",
    "x = Dropout(DO_RATE)(x)\n",
    "x = TimeDistributed(Dense(72))(x)\n",
    "outputs = Reshape((512,72))(x)\n",
    "variational_decoder = Model(inputs=[decoder_inputs], outputs=[x])"
   ]
  },
  {
   "cell_type": "code",
   "execution_count": 9,
   "id": "3d623157",
   "metadata": {},
   "outputs": [],
   "source": [
    "# variational_decoder.summary()"
   ]
  },
  {
   "cell_type": "code",
   "execution_count": 10,
   "id": "7c00fb8e",
   "metadata": {},
   "outputs": [
    {
     "name": "stderr",
     "output_type": "stream",
     "text": [
      "2022-07-07 21:42:49.641393: I tensorflow/core/platform/cpu_feature_guard.cc:193] This TensorFlow binary is optimized with oneAPI Deep Neural Network Library (oneDNN) to use the following CPU instructions in performance-critical operations:  AVX2 FMA\n",
      "To enable them in other operations, rebuild TensorFlow with the appropriate compiler flags.\n",
      "2022-07-07 21:42:49.642988: I tensorflow/stream_executor/cuda/cuda_gpu_executor.cc:975] successful NUMA node read from SysFS had negative value (-1), but there must be at least one NUMA node, so returning NUMA node zero\n",
      "2022-07-07 21:42:49.643284: I tensorflow/stream_executor/cuda/cuda_gpu_executor.cc:975] successful NUMA node read from SysFS had negative value (-1), but there must be at least one NUMA node, so returning NUMA node zero\n",
      "2022-07-07 21:42:49.643422: I tensorflow/stream_executor/cuda/cuda_gpu_executor.cc:975] successful NUMA node read from SysFS had negative value (-1), but there must be at least one NUMA node, so returning NUMA node zero\n",
      "2022-07-07 21:42:50.093966: I tensorflow/stream_executor/cuda/cuda_gpu_executor.cc:975] successful NUMA node read from SysFS had negative value (-1), but there must be at least one NUMA node, so returning NUMA node zero\n",
      "2022-07-07 21:42:50.094236: I tensorflow/stream_executor/cuda/cuda_gpu_executor.cc:975] successful NUMA node read from SysFS had negative value (-1), but there must be at least one NUMA node, so returning NUMA node zero\n",
      "2022-07-07 21:42:50.094389: I tensorflow/stream_executor/cuda/cuda_gpu_executor.cc:975] successful NUMA node read from SysFS had negative value (-1), but there must be at least one NUMA node, so returning NUMA node zero\n",
      "2022-07-07 21:42:50.094512: I tensorflow/core/common_runtime/gpu/gpu_device.cc:1532] Created device /job:localhost/replica:0/task:0/device:GPU:0 with 4628 MB memory:  -> device: 0, name: NVIDIA GeForce RTX 2060, pci bus id: 0000:01:00.0, compute capability: 7.5\n",
      "2022-07-07 21:42:50.114235: I tensorflow/compiler/mlir/mlir_graph_optimization_pass.cc:354] MLIR V1 optimization pass is not enabled\n"
     ]
    }
   ],
   "source": [
    "_, _, codings = variational_encoder(x_in)\n",
    "reconstructions = variational_decoder(codings)\n",
    "variational_ae = keras.Model(inputs=[x_in], outputs=[reconstructions])\n",
    "\n",
    "latent_loss = -0.5 * K.sum(\n",
    "1 + codings_log_var - K.exp(codings_log_var) - K.square(codings_mean),\n",
    "axis=-1)\n",
    "\n",
    "variational_ae.add_loss(K.mean(latent_loss) * 10000 / 36864.)\n",
    "variational_ae.compile(loss=\"binary_crossentropy\", optimizer=\"rmsprop\")"
   ]
  },
  {
   "cell_type": "code",
   "execution_count": 11,
   "id": "cfb44354",
   "metadata": {},
   "outputs": [
    {
     "name": "stdout",
     "output_type": "stream",
     "text": [
      "Train on 5900 samples, validate on 1476 samples\n",
      "Epoch 1/50\n"
     ]
    },
    {
     "name": "stderr",
     "output_type": "stream",
     "text": [
      "2022-07-07 21:42:53.692224: I tensorflow/core/profiler/lib/profiler_session.cc:99] Profiler session initializing.\n",
      "2022-07-07 21:42:53.692253: I tensorflow/core/profiler/lib/profiler_session.cc:114] Profiler session started.\n",
      "2022-07-07 21:42:53.692282: I tensorflow/core/profiler/internal/gpu/cupti_tracer.cc:1665] Profiler found 1 GPUs\n",
      "2022-07-07 21:42:53.692773: W tensorflow/stream_executor/platform/default/dso_loader.cc:64] Could not load dynamic library 'libcupti.so.11.2'; dlerror: libcupti.so.11.2: cannot open shared object file: No such file or directory\n",
      "2022-07-07 21:42:53.973790: I tensorflow/core/profiler/lib/profiler_session.cc:66] Profiler session collecting data.\n",
      "2022-07-07 21:42:53.974580: I tensorflow/core/profiler/internal/gpu/cupti_tracer.cc:1799] CUPTI activity buffer flushed\n",
      "2022-07-07 21:42:54.013164: I tensorflow/core/profiler/internal/gpu/cupti_collector.cc:521]  GpuTracer has collected 822 callback api events and 826 activity events. \n",
      "2022-07-07 21:42:54.029274: I tensorflow/core/profiler/lib/profiler_session.cc:126] Profiler session tear down.\n",
      "2022-07-07 21:42:54.048221: I tensorflow/core/profiler/rpc/client/save_profile.cc:136] Creating directory: logs/20220707-214250/plugins/profile/2022_07_07_21_42_54\n",
      "\n",
      "2022-07-07 21:42:54.062077: I tensorflow/core/profiler/rpc/client/save_profile.cc:142] Dumped gzipped tool data for trace.json.gz to logs/20220707-214250/plugins/profile/2022_07_07_21_42_54/vigrel-G5-5590.trace.json.gz\n",
      "2022-07-07 21:42:54.107918: I tensorflow/core/profiler/rpc/client/save_profile.cc:136] Creating directory: logs/20220707-214250/plugins/profile/2022_07_07_21_42_54\n",
      "\n",
      "2022-07-07 21:42:54.113767: I tensorflow/core/profiler/rpc/client/save_profile.cc:142] Dumped gzipped tool data for memory_profile.json.gz to logs/20220707-214250/plugins/profile/2022_07_07_21_42_54/vigrel-G5-5590.memory_profile.json.gz\n",
      "2022-07-07 21:42:54.115387: I tensorflow/core/profiler/rpc/client/capture_profile.cc:251] Creating directory: logs/20220707-214250/plugins/profile/2022_07_07_21_42_54\n",
      "Dumped tool data for xplane.pb to logs/20220707-214250/plugins/profile/2022_07_07_21_42_54/vigrel-G5-5590.xplane.pb\n",
      "Dumped tool data for overview_page.pb to logs/20220707-214250/plugins/profile/2022_07_07_21_42_54/vigrel-G5-5590.overview_page.pb\n",
      "Dumped tool data for input_pipeline.pb to logs/20220707-214250/plugins/profile/2022_07_07_21_42_54/vigrel-G5-5590.input_pipeline.pb\n",
      "Dumped tool data for tensorflow_stats.pb to logs/20220707-214250/plugins/profile/2022_07_07_21_42_54/vigrel-G5-5590.tensorflow_stats.pb\n",
      "Dumped tool data for kernel_stats.pb to logs/20220707-214250/plugins/profile/2022_07_07_21_42_54/vigrel-G5-5590.kernel_stats.pb\n",
      "\n",
      "/home/vigrel/Desktop/IC/music-generation/tf2.6/lib/python3.8/site-packages/keras/engine/training_v1.py:2045: UserWarning: `Model.state_updates` will be removed in a future version. This property should not be used in TensorFlow 2.0, as `updates` are applied automatically.\n",
      "  updates = self.state_updates\n"
     ]
    },
    {
     "name": "stdout",
     "output_type": "stream",
     "text": [
      "5900/5900 - 5s - loss: 0.3286 - val_loss: 0.0548 - 5s/epoch - 852us/sample\n",
      "Epoch 2/50\n",
      "5900/5900 - 2s - loss: 0.0548 - val_loss: 0.0460 - 2s/epoch - 406us/sample\n",
      "Epoch 3/50\n",
      "5900/5900 - 2s - loss: 0.0525 - val_loss: 0.0477 - 2s/epoch - 411us/sample\n",
      "Epoch 4/50\n",
      "5900/5900 - 2s - loss: 0.0524 - val_loss: 0.0458 - 2s/epoch - 419us/sample\n",
      "Epoch 5/50\n",
      "5900/5900 - 3s - loss: 0.0524 - val_loss: 0.0442 - 3s/epoch - 432us/sample\n",
      "Epoch 6/50\n",
      "5900/5900 - 3s - loss: 0.0524 - val_loss: 0.0453 - 3s/epoch - 428us/sample\n",
      "Epoch 7/50\n",
      "5900/5900 - 2s - loss: 0.0524 - val_loss: 0.0449 - 2s/epoch - 409us/sample\n",
      "Epoch 8/50\n",
      "5900/5900 - 2s - loss: 0.0524 - val_loss: 0.0442 - 2s/epoch - 418us/sample\n",
      "Epoch 9/50\n",
      "5900/5900 - 2s - loss: 0.0524 - val_loss: 0.0441 - 2s/epoch - 421us/sample\n",
      "Epoch 10/50\n",
      "5900/5900 - 2s - loss: 0.0524 - val_loss: 0.0441 - 2s/epoch - 410us/sample\n",
      "Epoch 11/50\n",
      "5900/5900 - 3s - loss: 0.0524 - val_loss: 0.0441 - 3s/epoch - 427us/sample\n",
      "Epoch 12/50\n",
      "5900/5900 - 3s - loss: 0.0524 - val_loss: 0.0442 - 3s/epoch - 443us/sample\n",
      "Epoch 13/50\n",
      "5900/5900 - 3s - loss: 0.0524 - val_loss: 0.0443 - 3s/epoch - 430us/sample\n",
      "Epoch 14/50\n",
      "5900/5900 - 3s - loss: 0.0524 - val_loss: 0.0444 - 3s/epoch - 454us/sample\n",
      "Epoch 15/50\n",
      "5900/5900 - 2s - loss: 0.0524 - val_loss: 0.0441 - 2s/epoch - 412us/sample\n",
      "Epoch 16/50\n",
      "5900/5900 - 2s - loss: 0.0524 - val_loss: 0.0442 - 2s/epoch - 422us/sample\n",
      "Epoch 17/50\n",
      "5900/5900 - 3s - loss: 0.0525 - val_loss: 0.0442 - 3s/epoch - 453us/sample\n",
      "Epoch 18/50\n",
      "5900/5900 - 2s - loss: 0.0526 - val_loss: 0.0441 - 2s/epoch - 418us/sample\n",
      "Epoch 19/50\n",
      "5900/5900 - 2s - loss: 0.0526 - val_loss: 0.0442 - 2s/epoch - 406us/sample\n",
      "Epoch 20/50\n",
      "5900/5900 - 3s - loss: 0.0526 - val_loss: 0.0440 - 3s/epoch - 440us/sample\n",
      "Epoch 21/50\n",
      "5900/5900 - 2s - loss: 0.0526 - val_loss: 0.0442 - 2s/epoch - 415us/sample\n",
      "Epoch 22/50\n",
      "5900/5900 - 2s - loss: 0.0526 - val_loss: 0.0441 - 2s/epoch - 419us/sample\n",
      "Epoch 23/50\n",
      "5900/5900 - 3s - loss: 0.0526 - val_loss: 0.0442 - 3s/epoch - 428us/sample\n",
      "Epoch 24/50\n",
      "5900/5900 - 2s - loss: 0.0526 - val_loss: 0.0441 - 2s/epoch - 405us/sample\n",
      "Epoch 25/50\n",
      "5900/5900 - 2s - loss: 0.0526 - val_loss: 0.0442 - 2s/epoch - 420us/sample\n",
      "Epoch 26/50\n",
      "5900/5900 - 3s - loss: 0.0526 - val_loss: 0.0442 - 3s/epoch - 427us/sample\n",
      "Epoch 27/50\n",
      "5900/5900 - 2s - loss: 0.0526 - val_loss: 0.0444 - 2s/epoch - 417us/sample\n",
      "Epoch 28/50\n",
      "5900/5900 - 2s - loss: 0.0526 - val_loss: 0.0442 - 2s/epoch - 416us/sample\n",
      "Epoch 29/50\n",
      "5900/5900 - 3s - loss: 0.0526 - val_loss: 0.0441 - 3s/epoch - 427us/sample\n",
      "Epoch 30/50\n",
      "5900/5900 - 2s - loss: 0.0526 - val_loss: 0.0440 - 2s/epoch - 412us/sample\n",
      "Epoch 31/50\n",
      "5900/5900 - 2s - loss: 0.0526 - val_loss: 0.0441 - 2s/epoch - 418us/sample\n",
      "Epoch 32/50\n",
      "5900/5900 - 2s - loss: 0.0526 - val_loss: 0.0442 - 2s/epoch - 416us/sample\n",
      "Epoch 33/50\n",
      "5900/5900 - 3s - loss: 0.0526 - val_loss: 0.0440 - 3s/epoch - 427us/sample\n",
      "Epoch 34/50\n",
      "5900/5900 - 2s - loss: 0.0526 - val_loss: 0.0442 - 2s/epoch - 416us/sample\n",
      "Epoch 35/50\n",
      "5900/5900 - 2s - loss: 0.0526 - val_loss: 0.0440 - 2s/epoch - 417us/sample\n",
      "Epoch 36/50\n",
      "5900/5900 - 3s - loss: 0.0526 - val_loss: 0.0442 - 3s/epoch - 425us/sample\n",
      "Epoch 37/50\n",
      "5900/5900 - 2s - loss: 0.0526 - val_loss: 0.0441 - 2s/epoch - 413us/sample\n",
      "Epoch 38/50\n",
      "5900/5900 - 2s - loss: 0.0526 - val_loss: 0.0442 - 2s/epoch - 415us/sample\n",
      "Epoch 39/50\n",
      "5900/5900 - 2s - loss: 0.0526 - val_loss: 0.0442 - 2s/epoch - 412us/sample\n",
      "Epoch 40/50\n",
      "5900/5900 - 3s - loss: 0.0526 - val_loss: 0.0441 - 3s/epoch - 429us/sample\n",
      "Epoch 41/50\n",
      "5900/5900 - 3s - loss: 0.0526 - val_loss: 0.0441 - 3s/epoch - 426us/sample\n",
      "Epoch 42/50\n",
      "5900/5900 - 3s - loss: 0.0526 - val_loss: 0.0442 - 3s/epoch - 445us/sample\n",
      "Epoch 43/50\n",
      "5900/5900 - 3s - loss: 0.0526 - val_loss: 0.0441 - 3s/epoch - 426us/sample\n",
      "Epoch 44/50\n",
      "5900/5900 - 2s - loss: 0.0526 - val_loss: 0.0441 - 2s/epoch - 407us/sample\n",
      "Epoch 45/50\n",
      "5900/5900 - 2s - loss: 0.0526 - val_loss: 0.0440 - 2s/epoch - 414us/sample\n",
      "Epoch 46/50\n",
      "5900/5900 - 2s - loss: 0.0526 - val_loss: 0.0441 - 2s/epoch - 413us/sample\n",
      "Epoch 47/50\n",
      "5900/5900 - 2s - loss: 0.0526 - val_loss: 0.0442 - 2s/epoch - 415us/sample\n",
      "Epoch 48/50\n",
      "5900/5900 - 2s - loss: 0.0526 - val_loss: 0.0442 - 2s/epoch - 416us/sample\n",
      "Epoch 49/50\n",
      "5900/5900 - 3s - loss: 0.0526 - val_loss: 0.0440 - 3s/epoch - 429us/sample\n",
      "Epoch 50/50\n",
      "5900/5900 - 2s - loss: 0.0526 - val_loss: 0.0440 - 2s/epoch - 416us/sample\n",
      "Train Loss: 0.052635110689926955\n",
      "WARNING:tensorflow:Found duplicated `Variable`s in Model's `weights`. This is usually caused by `Variable`s being shared by Layers in the Model. These `Variable`s will be treated as separate `Variable`s when the Model is restored. To avoid this, please save with `save_format=\"tf\"`.\n"
     ]
    }
   ],
   "source": [
    "log_dir = os.path.join(\n",
    "    \"logs\",\n",
    "    datetime.datetime.now().strftime(\"%Y%m%d-%H%M%S\"),\n",
    ")\n",
    "callbacks = [\n",
    "    tf.keras.callbacks.TensorBoard(log_dir=log_dir),\n",
    "]\n",
    "\n",
    "history = variational_ae.fit(\n",
    "    y_train,\n",
    "    y_train,\n",
    "    callbacks=callbacks,\n",
    "    epochs=NUM_EPOCHS,\n",
    "    batch_size=BATCH_SIZE,\n",
    "    validation_data=(y_valid, y_valid),\n",
    "    verbose=2,\n",
    ")\n",
    "\n",
    "loss = history.history[\"loss\"][-1]\n",
    "print(f\"Train Loss: {loss}\")\n",
    "\n",
    "write_dir = 'HistoryVAAuto/'\n",
    "variational_ae.save('HistoryVAAuto/variational_ae.h5')"
   ]
  },
  {
   "cell_type": "code",
   "execution_count": 12,
   "id": "da90866a",
   "metadata": {},
   "outputs": [],
   "source": [
    "import pypianoroll\n",
    "\n",
    "def sample2midi(path, sample, resolution):\n",
    "    all_notes = np.zeros((2048,128), dtype=np.uint8)\n",
    "    all_notes[:, 24:96] = sample.reshape(2048,72)\n",
    "\n",
    "    pypianoroll.write(\n",
    "        path=path, \n",
    "        multitrack=pypianoroll.Multitrack(\n",
    "            resolution=resolution,\n",
    "            tracks=[\n",
    "                pypianoroll.BinaryTrack(\n",
    "                    program=0, is_drum=False, pianoroll=all_notes\n",
    "                    )\n",
    "                ]\n",
    "            )\n",
    "        )"
   ]
  },
  {
   "cell_type": "code",
   "execution_count": 13,
   "id": "81cba4a8",
   "metadata": {},
   "outputs": [
    {
     "name": "stderr",
     "output_type": "stream",
     "text": [
      "/home/vigrel/Desktop/IC/music-generation/tf2.6/lib/python3.8/site-packages/keras/engine/training_v1.py:2067: UserWarning: `Model.state_updates` will be removed in a future version. This property should not be used in TensorFlow 2.0, as `updates` are applied automatically.\n",
      "  updates=self.state_updates,\n"
     ]
    },
    {
     "data": {
      "image/png": "[encoded data removed]",
      "text/plain": [
       "<Figure size 1080x864 with 1 Axes>"
      ]
     },
     "metadata": {
      "needs_background": "light"
     },
     "output_type": "display_data"
    }
   ],
   "source": [
    "import matplotlib.pyplot as plt\n",
    "# music = np.expand_dims(np.zeros(y_shape[1:]), axis=0)\n",
    "music = np.expand_dims(np.random.uniform(size=72), axis=0)\n",
    "music = variational_decoder.predict(music)\n",
    "rand_vals = np.random.uniform(size=music.shape)\n",
    "music = music > rand_vals\n",
    "\n",
    "plt.figure(figsize=(15,12))\n",
    "plt.imshow(music[0].transpose())\n",
    "plt.show()"
   ]
  },
  {
   "cell_type": "code",
   "execution_count": 14,
   "id": "5cffd382",
   "metadata": {},
   "outputs": [
    {
     "ename": "NameError",
     "evalue": "name 'b' is not defined",
     "output_type": "error",
     "traceback": [
      "\u001b[0;31m---------------------------------------------------------------------------\u001b[0m",
      "\u001b[0;31mNameError\u001b[0m                                 Traceback (most recent call last)",
      "Input \u001b[0;32mIn [14]\u001b[0m, in \u001b[0;36m<cell line: 1>\u001b[0;34m()\u001b[0m\n\u001b[0;32m----> 1\u001b[0m b\n",
      "\u001b[0;31mNameError\u001b[0m: name 'b' is not defined"
     ]
    }
   ],
   "source": [
    "b"
   ]
  },
  {
   "cell_type": "code",
   "execution_count": 16,
   "id": "510fdba3",
   "metadata": {},
   "outputs": [
    {
     "data": {
      "image/png": "[encoded data removed]",
      "text/plain": [
       "<Figure size 1080x864 with 1 Axes>"
      ]
     },
     "metadata": {
      "needs_background": "light"
     },
     "output_type": "display_data"
    }
   ],
   "source": [
    "for i in range(1000):\n",
    "    music = np.expand_dims(np.random.uniform(size=72), axis=0)\n",
    "    music = variational_decoder.predict(music)\n",
    "    rand_vals = np.random.uniform(size=music.shape)\n",
    "    music = music > rand_vals\n",
    "    music = variational_ae.predict(music)\n",
    "    music = music > rand_vals\n",
    "\n",
    "plt.figure(figsize=(15,12))\n",
    "plt.imshow(music[0].transpose())\n",
    "plt.show()"
   ]
  },
  {
   "cell_type": "code",
   "execution_count": 17,
   "id": "aadc7a54",
   "metadata": {},
   "outputs": [],
   "source": [
    "midi.sample2midi(\"teste.mid\", music, 4)"
   ]
  }
 ],
 "metadata": {
  "interpreter": {
   "hash": "9120da6c2d63ded445b1a09e31569bbaba4e2e721b03136355509f1402b65420"
  },
  "kernelspec": {
   "display_name": "Python (IC)",
   "language": "python",
   "name": "python3"
  },
  "language_info": {
   "codemirror_mode": {
    "name": "ipython",
    "version": 3
   },
   "file_extension": ".py",
   "mimetype": "text/x-python",
   "name": "python",
   "nbconvert_exporter": "python",
   "pygments_lexer": "ipython3",
   "version": "3.8.10"
  }
 },
 "nbformat": 4,
 "nbformat_minor": 5
}
