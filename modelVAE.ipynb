{
 "cells": [
  {
   "cell_type": "code",
   "execution_count": 1,
   "id": "53292e1e",
   "metadata": {},
   "outputs": [],
   "source": [
    "import datetime\n",
    "import os\n",
    "import random\n",
    "\n",
    "import keras\n",
    "import numpy as np\n",
    "import tensorflow as tf\n",
    "from tensorflow.keras import backend as K\n",
    "from tensorflow.keras.layers import (Activation, BatchNormalization, Dense,\n",
    "                                     Dropout, Flatten, Reshape, Input,\n",
    "                                     TimeDistributed)\n",
    "from tensorflow.keras.models import Model\n",
    "\n",
    "tf.compat.v1.disable_eager_execution()\n",
    "\n",
    "import midi"
   ]
  },
  {
   "cell_type": "code",
   "execution_count": 2,
   "id": "260e61e7",
   "metadata": {},
   "outputs": [],
   "source": [
    "%load_ext tensorboard"
   ]
  },
  {
   "cell_type": "code",
   "execution_count": 3,
   "id": "31ccf1f6",
   "metadata": {},
   "outputs": [],
   "source": [
    "NUM_EPOCHS = 50    \n",
    "DO_RATE = 0.1\n",
    "BN_M = 0.9\n",
    "BATCH_SIZE = 128\n",
    "\n",
    "np.random.seed(0)\n",
    "random.seed(0)"
   ]
  },
  {
   "cell_type": "code",
   "execution_count": null,
   "id": "3d014c2e",
   "metadata": {},
   "outputs": [],
   "source": [
    "y = np.load('pypianorollSamples.npy').swapaxes(2,3)\n",
    "y_shape = y.shape"
   ]
  },
  {
   "cell_type": "code",
   "execution_count": 6,
   "id": "d939754d",
   "metadata": {},
   "outputs": [],
   "source": [
    "y_train = y[:int(y.shape[0]*0.80)]\n",
    "y_valid = y[int(y.shape[0]*0.80):y.shape[0]]\n",
    "\n",
    "y_test_song = np.copy(y[0])"
   ]
  },
  {
   "cell_type": "code",
   "execution_count": 7,
   "id": "3d302887",
   "metadata": {},
   "outputs": [],
   "source": [
    "class Sampling(keras.layers.Layer):\n",
    "    def call(self, inputs):\n",
    "        mean, log_var = inputs \n",
    "        return K.random_normal(tf.shape(log_var), stddev=0.1) * K.exp(log_var / 2) + mean\n"
   ]
  },
  {
   "cell_type": "code",
   "execution_count": 8,
   "id": "67ffecfa",
   "metadata": {},
   "outputs": [],
   "source": [
    "PARAM_SIZE = 72"
   ]
  },
  {
   "cell_type": "code",
   "execution_count": 9,
   "id": "ffdea19f",
   "metadata": {},
   "outputs": [],
   "source": [
    "# x_in = tf.keras.layers.Input(shape=y_shape[1:])\n",
    "# z = TimeDistributed(Dense(128, activation='relu'))(x_in)\n",
    "# z = Reshape((y_shape[1], -1))(z)\n",
    "# z = TimeDistributed(keras.Sequential([\n",
    "#                                     Dense(1152, activation='relu'),\n",
    "#                                     # Dense(512, activation='relu'), \n",
    "#                                     Dense(PARAM_SIZE, activation='relu')])\n",
    "#                                     )(z)\n",
    "# z = Flatten()(z)\n",
    "# z = BatchNormalization(momentum=BN_M)(z)\n",
    "# codings_mean = keras.layers.Dense(PARAM_SIZE)(z) # μ\n",
    "# codings_log_var = keras.layers.Dense(PARAM_SIZE)(z) # γ\n",
    "# codings = Sampling()([codings_mean, codings_log_var])\n",
    "# variational_encoder = keras.Model(inputs=[x_in], outputs=[codings_mean, codings_log_var, codings])\n",
    "\n",
    "# decoder_inputs = keras.layers.Input(shape=[PARAM_SIZE])\n",
    "# x = Dense(PARAM_SIZE, activation='relu', name='encoder')(decoder_inputs)\n",
    "# x = BatchNormalization(momentum=BN_M)(x)\n",
    "# x = Activation('relu')(x)\n",
    "# x = Dropout(DO_RATE)(x)\n",
    "# x = Dense(PARAM_SIZE*4, activation='relu')(x)\n",
    "# x = Reshape((4, PARAM_SIZE))(x)\n",
    "# x = TimeDistributed(keras.Sequential([\n",
    "#                                     Dense(PARAM_SIZE*4, activation='relu'),\n",
    "#                                     Dense(PARAM_SIZE*16, activation='relu'),\n",
    "#                                     # Dense(PARAM_SIZE*64, activation='relu'),\n",
    "#                                     Dense(PARAM_SIZE*128, activation='relu'),\n",
    "#                                 ]))(x)\n",
    "# # x = BatchNormalization(momentum=BN_M)(x)\n",
    "# # x = Activation('relu')(x)\n",
    "# # x = Dropout(DO_RATE)(x)\n",
    "# x = Reshape((y_shape[1], PARAM_SIZE, 128))(x)\n",
    "# x = TimeDistributed(Dense(512, activation='sigmoid'))(x)\n",
    "# outputs = Reshape((y_shape[1], PARAM_SIZE, 512))(x)\n",
    "# variational_decoder = keras.Model(inputs=[decoder_inputs], outputs=[x])"
   ]
  },
  {
   "cell_type": "code",
   "execution_count": null,
   "id": "ad20d724",
   "metadata": {},
   "outputs": [],
   "source": [
    "x_in = Input(shape=y_shape[1:])\n",
    "z = TimeDistributed(Dense(256, activation='relu'))(x_in)\n",
    "z = Reshape((y_shape[1], -1))(z)\n",
    "z = TimeDistributed(Dense(1024, activation='relu'))(z)\n",
    "z = TimeDistributed(Dense(512, activation='relu'))(z)\n",
    "z = Flatten()(z)\n",
    "z = Dense(1024, activation='relu')(z)\n",
    "z = Dense(512, activation='relu')(z)\n",
    "z = BatchNormalization(momentum=BN_M)(z)\n",
    "# z = Activation('relu')(z)\n",
    "# z = Dropout(DO_RATE)(z)\n",
    "codings_mean = Dense(PARAM_SIZE)(z) # μ\n",
    "codings_log_var = Dense(PARAM_SIZE)(z) # γ\n",
    "codings = Sampling()([codings_mean, codings_log_var])\n",
    "variational_encoder = Model(inputs=[x_in], outputs=[codings_mean, codings_log_var, codings])\n",
    "\n",
    "decoder_inputs = Input(shape=[PARAM_SIZE])\n",
    "x = Dense(PARAM_SIZE, activation='relu', name= 'encoder')(decoder_inputs)\n",
    "x = Dense(512, activation='relu')(x)\n",
    "x = Dense(1024, activation='relu')(x)\n",
    "x = Dense(2048, activation='relu')(x)\n",
    "x = Reshape((4,512))(x)\n",
    "x = TimeDistributed(Dense(1024, activation='relu'))(x)\n",
    "x = TimeDistributed(Dense(18432, activation='relu'))(x)\n",
    "x = BatchNormalization(momentum=BN_M)(x)\n",
    "x = Activation('relu')(x)\n",
    "x = Dropout(DO_RATE)(x)\n",
    "x = Reshape((4,72, 256))(x)\n",
    "x = TimeDistributed(Dense(512, activation='relu'))(x)\n",
    "outputs = Reshape((y_shape[1], PARAM_SIZE, 512))(x)\n",
    "variational_decoder = Model(inputs=[decoder_inputs], outputs=[x])"
   ]
  },
  {
   "cell_type": "code",
   "execution_count": 11,
   "id": "e9bff30c",
   "metadata": {},
   "outputs": [],
   "source": [
    "# variational_decoder.summary()\n",
    "# variational_encoder.summary()\n",
    "# variational_ae.summary()"
   ]
  },
  {
   "cell_type": "code",
   "execution_count": null,
   "id": "7c00fb8e",
   "metadata": {},
   "outputs": [],
   "source": [
    "_, _, codings = variational_encoder(x_in)\n",
    "reconstructions = variational_decoder(codings)\n",
    "variational_ae = keras.Model(inputs=[x_in], outputs=[reconstructions])\n",
    "\n",
    "latent_loss = -0.5 * K.sum(\n",
    "1 + codings_log_var - K.exp(codings_log_var) - K.square(codings_mean),\n",
    "axis=-1)\n",
    "\n",
    "variational_ae.add_loss(K.mean(latent_loss) * 10000 / 147456.)\n",
    "variational_ae.compile(loss=\"binary_crossentropy\", optimizer=\"rmsprop\")"
   ]
  },
  {
   "cell_type": "code",
   "execution_count": 13,
   "id": "5bb02698",
   "metadata": {},
   "outputs": [],
   "source": [
    "log_dir = os.path.join(\n",
    "    \"logs\",\n",
    "    datetime.datetime.now().strftime(\"%Y%m%d-%H%M%S\"),\n",
    ")\n",
    "callbacks = [\n",
    "    tf.keras.callbacks.TensorBoard(log_dir=log_dir),\n",
    "]"
   ]
  },
  {
   "cell_type": "code",
   "execution_count": null,
   "id": "cfb44354",
   "metadata": {},
   "outputs": [],
   "source": [
    "history = variational_ae.fit(\n",
    "    y_train,\n",
    "    y_train,\n",
    "    epochs=NUM_EPOCHS,\n",
    "    batch_size=BATCH_SIZE,\n",
    "    validation_data=(y_valid, y_valid),\n",
    "    callbacks=callbacks,\n",
    "    verbose=2,\n",
    ")\n",
    "\n",
    "loss = history.history[\"loss\"][-1]\n",
    "print(f\"Train Loss: {loss}\")\n",
    "\n",
    "write_dir = 'HistoryVAAuto/'\n",
    "variational_ae.save('HistoryVAAuto/variational_ae.h5')"
   ]
  },
  {
   "cell_type": "code",
   "execution_count": 15,
   "metadata": {},
   "outputs": [],
   "source": [
    "# teste = np.random.normal(0.0, 1.0, (PARAM_SIZE))"
   ]
  },
  {
   "cell_type": "code",
   "execution_count": 16,
   "id": "e62ff438",
   "metadata": {},
   "outputs": [],
   "source": [
    "# import matplotlib.pyplot as plt\n",
    "# # teste = np.random.normal(0.0, 1.0, (PARAM_SIZE))\n",
    "# y_song = variational_decoder.predict(teste.reshape(1,PARAM_SIZE))\n",
    "\n",
    "# for i in range(4):\n",
    "#     a = np.where(y_song[0][i] < 0.05, y_song[0][i], 1)\n",
    "#     a = np.where(a > 0.05, a, 0)\n",
    "#     plt.figure(figsize=(16, 64))\n",
    "#     plt.imshow(a)\n",
    "\n",
    "# plt.show()"
   ]
  },
  {
   "cell_type": "code",
   "execution_count": 17,
   "id": "ac1164eb",
   "metadata": {},
   "outputs": [],
   "source": [
    "func = K.function([variational_decoder.get_layer('encoder').input, K.learning_phase()], [variational_decoder.layers[-1].output])\n",
    "enc = Model(inputs=variational_encoder.input, outputs=variational_encoder.layers[-1].output)"
   ]
  },
  {
   "cell_type": "code",
   "execution_count": 28,
   "id": "14ed4695",
   "metadata": {},
   "outputs": [
    {
     "name": "stdout",
     "output_type": "stream",
     "text": [
      "Means: [ 0.01081835 -0.02783128  0.02302202  0.00344592  0.03728662  0.0241282 ]\n",
      "Evals: [0.30996126 0.15812452 0.11834104 0.11726648 0.11682753 0.11590689] \n"
     ]
    }
   ],
   "source": [
    "import matplotlib.pyplot as plt\n",
    "teste = np.random.normal(0.0, 1.0, (PARAM_SIZE))\n",
    "tresh = 0.06\n",
    "\n",
    "x_enc = np.squeeze(enc.predict(y))\n",
    "x_mean = np.mean(x_enc, axis=0)\n",
    "x_cov = np.cov((x_enc - x_mean).T)\n",
    "_, s, v = np.linalg.svd(x_cov)\n",
    "e = np.sqrt(s)\n",
    "\n",
    "print(f\"Means: {x_mean[:6]}\")\n",
    "print(f\"Evals: {e[:6]} \")\n",
    "\n",
    "x_vec = x_mean + np.dot(teste * e, v)\n",
    "y_song = variational_decoder.predict(x_vec.reshape(1,PARAM_SIZE))\n",
    "song_binarize = np.where(y_song[0] >= tresh, y_song[0], 0)\n",
    "song_binarize = np.where(y_song[0] < tresh, y_song[0], 1)\n",
    "\n",
    "# for i in range(4):\n",
    "#     plt.figure(figsize=(16, 64))\n",
    "#     plt.imshow(song_binarize[i])\n",
    "\n",
    "plt.show()"
   ]
  },
  {
   "cell_type": "code",
   "execution_count": 19,
   "id": "da90866a",
   "metadata": {},
   "outputs": [],
   "source": [
    "import pypianoroll\n",
    "\n",
    "def sample2midi(path, sample, resolution):\n",
    "    all_notes = np.zeros((2048,128), dtype=np.uint8)\n",
    "    all_notes[:, 24:96] = sample.reshape(2048,72)\n",
    "\n",
    "    pypianoroll.write(\n",
    "        path=path, \n",
    "        multitrack=pypianoroll.Multitrack(\n",
    "            resolution=resolution,\n",
    "            tracks=[\n",
    "                pypianoroll.BinaryTrack(\n",
    "                    program=0, is_drum=False, pianoroll=all_notes\n",
    "                    )\n",
    "                ]\n",
    "            )\n",
    "        )"
   ]
  },
  {
   "cell_type": "code",
   "execution_count": 24,
   "id": "8e9497dc",
   "metadata": {},
   "outputs": [],
   "source": [
    "def make_rand_songs(write_dir, rand_vecs, tresh):\n",
    "    for i in range(rand_vecs.shape[0]):\n",
    "        x_rand = rand_vecs[i:i+1]\n",
    "        y_song = variational_decoder.predict(x_rand.reshape(1,PARAM_SIZE))\n",
    "        song_binarize = np.where(y_song[0] >= tresh, y_song[0], 0)\n",
    "        song_binarize = np.where(y_song[0] < tresh, y_song[0], 1)\n",
    "        sample2midi(write_dir + 'rand' + str(i) + '.mid', song_binarize.swapaxes(2,1), 8)\n",
    "        for i in range(4):\n",
    "            plt.figure(figsize=(4, 4))\n",
    "            plt.imshow(song_binarize[i])\n",
    "        break\n",
    "def make_rand_songs_normalized(write_dir, rand_vecs):\n",
    "    x_enc = np.squeeze(enc.predict(y))\n",
    "\n",
    "    x_mean = np.mean(x_enc, axis=0)\n",
    "    x_cov = np.cov((x_enc - x_mean).T)\n",
    "    _, s, v = np.linalg.svd(x_cov)\n",
    "    e = np.sqrt(s)\n",
    "\n",
    "    print(f\"Means: {x_mean[:6]}\")\n",
    "    print(f\"Evals: {e[:6]} \")\n",
    "\n",
    "    x_vecs = x_mean + np.dot(rand_vecs * e, v)\n",
    "    make_rand_songs(write_dir, x_vecs, 0.5)"
   ]
  },
  {
   "cell_type": "code",
   "execution_count": 27,
   "id": "4b943d0f",
   "metadata": {},
   "outputs": [],
   "source": [
    "sample2midi(\"teste.mid\", song_binarize.swapaxes(2,1), 8)\n",
    "# rand_vecs = np.random.normal(0.0, 1.0, (10, PARAM_SIZE))\n",
    "# make_rand_songs_normalized(\"\", rand_vecs)"
   ]
  }
 ],
 "metadata": {
  "interpreter": {
   "hash": "9120da6c2d63ded445b1a09e31569bbaba4e2e721b03136355509f1402b65420"
  },
  "kernelspec": {
   "display_name": "Python (IC)",
   "language": "python",
   "name": "python3"
  },
  "language_info": {
   "codemirror_mode": {
    "name": "ipython",
    "version": 3
   },
   "file_extension": ".py",
   "mimetype": "text/x-python",
   "name": "python",
   "nbconvert_exporter": "python",
   "pygments_lexer": "ipython3",
   "version": "3.8.10"
  }
 },
 "nbformat": 4,
 "nbformat_minor": 5
}
