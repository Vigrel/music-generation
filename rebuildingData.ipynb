{
 "cells": [
  {
   "cell_type": "code",
   "execution_count": 1,
   "id": "b3bfb53f",
   "metadata": {},
   "outputs": [],
   "source": [
    "import os\n",
    "import time\n",
    "\n",
    "import mido\n",
    "import numpy as np\n",
    "import pandas as pd\n",
    "\n",
    "from matplotlib import pyplot as plt"
   ]
  },
  {
   "cell_type": "code",
   "execution_count": 2,
   "id": "3b5c7d72",
   "metadata": {},
   "outputs": [],
   "source": [
    "def getData(data_folder):\n",
    "    \"\"\"\n",
    "    Walk through a folder, modifing each mid to fit in 128 ticks per beat and be only a piano channel\n",
    "    :param data_folder: the base data folder used in the model, still nonrepresentative\n",
    "    :return: it saves a midfile in piano format and other in paino+128tpb\n",
    "    \"\"\"\n",
    "    counter = 0\n",
    "    for dirpath, _, filenames in os.walk(data_folder):\n",
    "        for File in filenames:\n",
    "            path = os.path.join(dirpath, File)\n",
    "            mid_copy = mido.MidiFile()\n",
    "\n",
    "            try:\n",
    "                mid = mido.MidiFile(path)\n",
    "                tpb = mid.ticks_per_beat\n",
    "                duration = int(mid.length)\n",
    "\n",
    "                mid_copy.type = 1\n",
    "                mid_copy.ticks_per_beat = tpb\n",
    "\n",
    "                if 10 < duration < 600:\n",
    "                    track = mido.merge_tracks(mid.tracks)\n",
    "\n",
    "                    for msg in list(track):\n",
    "                        if not msg.is_meta and msg.channel != 0 and msg.type == \"note_on\":\n",
    "                            msg.velocity = 0\n",
    "\n",
    "                mid_copy.tracks.append(track)\n",
    "                mid_copy.save(f\"OnlyPiano/{File}\")\n",
    "\n",
    "                mid_copy.ticks_per_beat = 128\n",
    "                mid_copy.save(f\"OnlyPiano_TPB128/{File}\")\n",
    "\n",
    "            except:\n",
    "                print(path)\n",
    "                continue\n",
    "\n",
    "            counter += 1\n",
    "            if counter % 250 == 0:\n",
    "                print(counter)"
   ]
  },
  {
   "cell_type": "code",
   "execution_count": 3,
   "id": "a23d05ad",
   "metadata": {
    "scrolled": true
   },
   "outputs": [
    {
     "name": "stdout",
     "output_type": "stream",
     "text": [
      "TestDataset\\DG_SMB_Main.mid\n",
      "TestDataset\\gbc_smbd_sm01.mid\n",
      "TestDataset\\SMB-select-game-menu.mid\n",
      "TestDataset\\SMB1OVR.mid\n",
      "TestDataset\\smb2overworld1.mid\n",
      "TestDataset\\SMB3-Airship-of-doom.mid\n",
      "TestDataset\\SMB3ATHL.mid\n",
      "TestDataset\\SMB3_-_IceDnBMSGS.mid\n",
      "TestDataset\\SMB_Star-KM.mid\n",
      "TestDataset\\SonicA3_-_7Boss.mid\n",
      "TestDataset\\SonicAdv3_-_ChaosAngelDiscoPop.mid\n",
      "TestDataset\\SonicAdv3_-_SunsetHillZoneRemixXG.mid\n",
      "TestDataset\\SonicAdvance2_-_EXZone53.mid\n",
      "TestDataset\\SonicAdvance3_-_EXBOSS.mid\n",
      "TestDataset\\SonicAdvance3_-_TwinkleSnowArrangeXG.mid\n",
      "TestDataset\\SonicA_-_Xboss3.mid\n",
      "TestDataset\\SonicBattle_-_CentralCity.mid\n",
      "TestDataset\\SonicB_-_CreditsXG.mid\n",
      "TestDataset\\SonicRi_-_DigiDimension-J.mid\n",
      "TestDataset\\Sonic_GBA_Angel1_TBCancumFX_V1_2.mid\n",
      "TestDataset\\Sonic_GBA_Angel1_XG_V1_2.mid\n",
      "TestDataset\\Sonic_Heroes_Hang_CastleXG.mid\n",
      "TestDataset\\Sonic_Riders_-_Babylon_Garden.mid\n",
      "TestDataset\\Sonic_Riders_-_Start_Up_Your_Ex_Gear.mid\n",
      "TestDataset\\S_T_s_theme_sonic_melee_5.mid\n",
      "--- 166.7405300140381 seconds ---\n"
     ]
    }
   ],
   "source": [
    "start_time = time.time()\n",
    "getData('TestDataset')\n",
    "print(\"--- %s seconds ---\" % (time.time() - start_time))"
   ]
  },
  {
   "cell_type": "code",
   "execution_count": 4,
   "id": "a6f8153b",
   "metadata": {},
   "outputs": [],
   "source": [
    "def get_info(data_folder):\n",
    "    counter = 0\n",
    "    for dirpath, _, filenames in os.walk(data_folder):\n",
    "        for File in filenames:\n",
    "            path = os.path.join(dirpath, File)\n",
    "\n",
    "            try:\n",
    "                mid = mido.MidiFile(path)\n",
    "                duration = mid.length\n",
    "                track = mido.merge_tracks(mid.tracks)\n",
    "                delta_time_ticks = 0\n",
    "\n",
    "                for msg in list(track):\n",
    "                    delta_time_ticks += msg.time\n",
    "\n",
    "\n",
    "#                     if not msg.is_meta and msg.channel ==0:\n",
    "#                         print(msg)\n",
    "                beat_num = int(delta_time_ticks / 128)\n",
    "                num_compasso = int(beat_num / 4)\n",
    "                print(duration)\n",
    "                print(delta_time_ticks)\n",
    "                print(beat_num)\n",
    "                print(num_compasso)\n",
    "                print(int(num_compasso - 3))\n",
    "\n",
    "            except:\n",
    "                print(path)\n",
    "                continue\n",
    "\n",
    "            return mid"
   ]
  },
  {
   "cell_type": "code",
   "execution_count": 5,
   "id": "5e837715",
   "metadata": {},
   "outputs": [
    {
     "name": "stdout",
     "output_type": "stream",
     "text": [
      "52.36074309375032\n",
      "18431\n",
      "143\n",
      "35\n",
      "32\n"
     ]
    }
   ],
   "source": [
    "mid = get_info('TestDataset')"
   ]
  },
  {
   "cell_type": "code",
   "execution_count": 9,
   "id": "2aa4756d-877a-43fa-8793-a922c36d90d4",
   "metadata": {},
   "outputs": [],
   "source": [
    "TICKS_PER_BEAT = 64\n",
    "BEAT_PER_COMPASS = 4\n",
    "NUM_COMPASS = 4\n",
    "\n",
    "def midi_to_pianoroll(mid):\n",
    "    NUM_TICKS = TICKS_PER_BEAT * BEAT_PER_COMPASS * NUM_COMPASS\n",
    "\n",
    "    track_num_ticks = mid.ticks_per_beat * BEAT_PER_COMPASS * NUM_COMPASS\n",
    "\n",
    "    pianoroll = np.zeros((128, NUM_TICKS), dtype=np.uint8)\n",
    "    state = np.zeros((128, 1), dtype=np.uint8)\n",
    "    last_tick = 0\n",
    "    current_tick = 0\n",
    "\n",
    "    merged_track = mido.merge_tracks(mid.tracks)\n",
    "    for msg in merged_track:\n",
    "        new_tick = current_tick + msg.time\n",
    "        if new_tick >= track_num_ticks:\n",
    "            break\n",
    "        current_tick = new_tick\n",
    "        \n",
    "        if msg.type not in ['note_on', 'note_off']:\n",
    "            continue\n",
    "\n",
    "        if current_tick != last_tick:\n",
    "            pianoroll_last_tick = int(last_tick * TICKS_PER_BEAT /\n",
    "                                      mid.ticks_per_beat)\n",
    "\n",
    "            pianoroll_current_tick = int(current_tick * TICKS_PER_BEAT /\n",
    "                                         mid.ticks_per_beat)\n",
    "\n",
    "            pianoroll[:, pianoroll_last_tick:pianoroll_current_tick] = state\n",
    "\n",
    "        last_tick = current_tick\n",
    "\n",
    "        if msg.type == 'note_on' and msg.velocity > 0:\n",
    "            state[msg.note] = msg.velocity\n",
    "        elif msg.type == 'note_off':\n",
    "            state[msg.note] = 0\n",
    "\n",
    "    if current_tick < track_num_ticks:\n",
    "        pianoroll_last_tick = int(last_tick * TICKS_PER_BEAT /\n",
    "                                  mid.ticks_per_beat)\n",
    "        pianoroll[:, pianoroll_last_tick:] = state\n",
    "\n",
    "    return pianoroll\n",
    "\n",
    "\n",
    "def pianoroll_to_midi(pianoroll):\n",
    "    track = mido.MidiTrack()\n",
    "\n",
    "    last_state = np.zeros(128, dtype=np.uint8)\n",
    "    last_tick = 0\n",
    "    for tick in range(0, pianoroll.shape[1]):\n",
    "        current_state = pianoroll[:, tick]\n",
    "        note_mismatches = current_state != last_state\n",
    "        if not note_mismatches.any():\n",
    "            continue\n",
    "        changing_pos = np.where(note_mismatches)\n",
    "        event_time = tick - last_tick\n",
    "        last_tick = tick\n",
    "        for note in changing_pos[0]:\n",
    "            current_velocity = current_state[note]\n",
    "            msg_type = 'note_off' if current_velocity == 0 else 'note_on'\n",
    "            track.append(\n",
    "                mido.Message(\n",
    "                    msg_type,\n",
    "                    note=note,\n",
    "                    velocity=current_velocity,\n",
    "                    time=16*event_time,\n",
    "                ))\n",
    "\n",
    "        last_state = current_state\n",
    "\n",
    "    mid = mido.MidiFile()\n",
    "    mid.tracks.append(track)\n",
    "    return mid\n",
    "\n",
    "\n",
    "pianoroll = midi_to_pianoroll(mid)\n",
    "new_mid = pianoroll_to_midi(pianoroll)\n",
    "\n",
    "new_mid.save('teste.mid')"
   ]
  },
  {
   "cell_type": "code",
   "execution_count": 7,
   "id": "58edc622",
   "metadata": {},
   "outputs": [
    {
     "data": {
      "text/plain": [
       "(128, 512)"
      ]
     },
     "execution_count": 7,
     "metadata": {},
     "output_type": "execute_result"
    }
   ],
   "source": [
    "np.shape(pianoroll)"
   ]
  },
  {
   "cell_type": "code",
   "execution_count": 8,
   "id": "b5d9ab75-f6d3-4679-904f-529ea71a13db",
   "metadata": {
    "tags": []
   },
   "outputs": [
    {
     "data": {
      "image/png": "[encoded data removed]",
      "text/plain": [
       "<Figure size 1600x6400 with 1 Axes>"
      ]
     },
     "metadata": {},
     "output_type": "display_data"
    }
   ],
   "source": [
    "import matplotlib.pyplot as plt\n",
    "\n",
    "plt.figure(figsize=(16, 64))\n",
    "plt.imshow(pianoroll)\n",
    "plt.show()"
   ]
  }
 ],
 "metadata": {
  "kernelspec": {
   "display_name": "EstudoMusica",
   "language": "python",
   "name": "estudomusica"
  },
  "language_info": {
   "codemirror_mode": {
    "name": "ipython",
    "version": 3
   },
   "file_extension": ".py",
   "mimetype": "text/x-python",
   "name": "python",
   "nbconvert_exporter": "python",
   "pygments_lexer": "ipython3",
   "version": "3.8.5"
  }
 },
 "nbformat": 4,
 "nbformat_minor": 5
}
