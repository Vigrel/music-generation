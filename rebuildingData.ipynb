{
 "cells": [
  {
   "cell_type": "code",
   "execution_count": 1,
   "id": "b3bfb53f",
   "metadata": {},
   "outputs": [],
   "source": [
    "import os\n",
    "import time\n",
    "\n",
    "import mido\n",
    "import numpy as np\n",
    "import pandas as pd\n",
    "\n",
    "from matplotlib import pyplot as plt"
   ]
  },
  {
   "cell_type": "code",
   "execution_count": 2,
   "id": "3b5c7d72",
   "metadata": {},
   "outputs": [],
   "source": [
    "def getData(data_folder):\n",
    "    \"\"\"\n",
    "    Walk through a folder, modifing each mid to fit in 128 ticks per beat and be only a piano channel\n",
    "    :param data_folder: the base data folder used in the model, still nonrepresentative\n",
    "    :return: it saves a midfile in piano format and other in paino+128tpb\n",
    "    \"\"\"\n",
    "    counter = 0\n",
    "    for dirpath, _, filenames in os.walk(data_folder):\n",
    "        for File in filenames:\n",
    "            path = os.path.join(dirpath, File)\n",
    "            mid_copy = mido.MidiFile()\n",
    "\n",
    "            try:\n",
    "                mid = mido.MidiFile(path)\n",
    "                tpb = mid.ticks_per_beat\n",
    "                duration = int(mid.length)\n",
    "\n",
    "                mid_copy.type = 1\n",
    "                mid_copy.ticks_per_beat = tpb\n",
    "\n",
    "                if 10 < duration < 600:\n",
    "                    track = mido.merge_tracks(mid.tracks)\n",
    "\n",
    "                    for msg in list(track):\n",
    "                        if not msg.is_meta and msg.channel != 0 and msg.type == \"note_on\":\n",
    "                            msg.velocity = 0\n",
    "\n",
    "                mid_copy.tracks.append(track)\n",
    "                mid_copy.save(f\"OnlyPiano/{File}\")\n",
    "\n",
    "                mid_copy.ticks_per_beat = 128\n",
    "                mid_copy.save(f\"OnlyPiano_TPB128/{File}\")\n",
    "\n",
    "            except:\n",
    "                print(path)\n",
    "                continue\n",
    "\n",
    "            counter += 1\n",
    "            if counter % 250 == 0:\n",
    "                print(counter)"
   ]
  },
  {
   "cell_type": "code",
   "execution_count": 3,
   "id": "a23d05ad",
   "metadata": {
    "scrolled": true
   },
   "outputs": [
    {
     "name": "stdout",
     "output_type": "stream",
     "text": [
      "--- 0.21500158309936523 seconds ---\n"
     ]
    }
   ],
   "source": [
    "start_time = time.time()\n",
    "getData('TestDataset')\n",
    "print(\"--- %s seconds ---\" % (time.time() - start_time))"
   ]
  },
  {
   "cell_type": "code",
   "execution_count": 4,
   "id": "a6f8153b",
   "metadata": {},
   "outputs": [],
   "source": [
    "def get_info(data_folder):\n",
    "    counter = 0\n",
    "    for dirpath, _, filenames in os.walk(data_folder):\n",
    "        for File in filenames:\n",
    "            path = os.path.join(dirpath, File)\n",
    "\n",
    "            try:\n",
    "                mid = mido.MidiFile(path)\n",
    "                duration = mid.length\n",
    "                track = mido.merge_tracks(mid.tracks)\n",
    "                delta_time_ticks = 0\n",
    "\n",
    "                for msg in list(track):\n",
    "                    delta_time_ticks += msg.time\n",
    "\n",
    "\n",
    "#                     if not msg.is_meta and msg.channel ==0:\n",
    "#                         print(msg)\n",
    "                beat_num = int(delta_time_ticks / 128)\n",
    "                num_compasso = int(beat_num / 4)\n",
    "                print(duration)\n",
    "                print(delta_time_ticks)\n",
    "                print(beat_num)\n",
    "                print(num_compasso)\n",
    "                print(int(num_compasso - 3))\n",
    "\n",
    "            except:\n",
    "                print(path)\n",
    "                continue\n",
    "\n",
    "            return mid"
   ]
  },
  {
   "cell_type": "code",
   "execution_count": 5,
   "id": "5e837715",
   "metadata": {},
   "outputs": [
    {
     "name": "stdout",
     "output_type": "stream",
     "text": [
      "63.285651000000584\n",
      "14176\n",
      "110\n",
      "27\n",
      "24\n"
     ]
    }
   ],
   "source": [
    "mid = get_info('OnlyPiano_TPB128')"
   ]
  },
  {
   "cell_type": "code",
   "execution_count": 6,
   "id": "1d1a9536-d480-4b97-b0fb-add0a3a8ffee",
   "metadata": {},
   "outputs": [
    {
     "data": {
      "text/plain": [
       "mido.midifiles.tracks.MidiTrack"
      ]
     },
     "execution_count": 6,
     "metadata": {},
     "output_type": "execute_result"
    }
   ],
   "source": [
    "type(mid.tracks[0])"
   ]
  },
  {
   "cell_type": "code",
   "execution_count": 8,
   "id": "2aa4756d-877a-43fa-8793-a922c36d90d4",
   "metadata": {},
   "outputs": [],
   "source": [
    "TICKS_PER_BEAT = 32\n",
    "BEAT_PER_COMPASS = 4\n",
    "NUM_COMPASS = 4\n",
    "\n",
    "\n",
    "def midi_to_pianoroll(mid):\n",
    "    NUM_TICKS = TICKS_PER_BEAT * BEAT_PER_COMPASS * NUM_COMPASS\n",
    "\n",
    "    track_num_ticks = mid.ticks_per_beat * BEAT_PER_COMPASS * NUM_COMPASS\n",
    "\n",
    "    pianoroll = np.zeros((128, NUM_TICKS), dtype=np.uint8)\n",
    "    state = np.zeros((128, 1), dtype=np.uint8)\n",
    "    last_tick = 0\n",
    "    current_tick = 0\n",
    "\n",
    "    merged_track = mido.merge_tracks(mid.tracks)\n",
    "    for msg in merged_track:\n",
    "        new_tick = current_tick + msg.time\n",
    "        if new_tick >= track_num_ticks:\n",
    "            break\n",
    "        current_tick = new_tick\n",
    "        \n",
    "        if msg.type not in ['note_on', 'note_off']:\n",
    "            continue\n",
    "\n",
    "        if current_tick != last_tick:\n",
    "            pianoroll_last_tick = int(last_tick * TICKS_PER_BEAT /\n",
    "                                      mid.ticks_per_beat)\n",
    "\n",
    "            pianoroll_current_tick = int(current_tick * TICKS_PER_BEAT /\n",
    "                                         mid.ticks_per_beat)\n",
    "\n",
    "            pianoroll[:, pianoroll_last_tick:pianoroll_current_tick] = state\n",
    "\n",
    "        last_tick = current_tick\n",
    "\n",
    "        if msg.type == 'note_on' and msg.velocity > 0:\n",
    "            state[msg.note] = msg.velocity\n",
    "        elif msg.type == 'note_off':\n",
    "            state[msg.note] = 0\n",
    "\n",
    "    if current_tick < track_num_ticks:\n",
    "        pianoroll_last_tick = int(last_tick * TICKS_PER_BEAT /\n",
    "                                  mid.ticks_per_beat)\n",
    "        pianoroll[:, pianoroll_last_tick:] = state\n",
    "\n",
    "    return pianoroll\n",
    "\n",
    "\n",
    "def pianoroll_to_midi(pianoroll):\n",
    "    track = mido.MidiTrack()\n",
    "\n",
    "    last_state = np.zeros(128, dtype=np.uint8)\n",
    "    last_tick = 0\n",
    "    for tick in range(0, pianoroll.shape[1]):\n",
    "        current_state = pianoroll[:, tick]\n",
    "        note_mismatches = current_state != last_state\n",
    "        if not note_mismatches.any():\n",
    "            continue\n",
    "        changing_pos = np.where(note_mismatches)\n",
    "        event_time = tick - last_tick\n",
    "        last_tick = tick\n",
    "        for note in changing_pos[0]:\n",
    "            current_velocity = current_state[note]\n",
    "            msg_type = 'note_off' if current_velocity == 0 else 'note_on'\n",
    "            track.append(\n",
    "                mido.Message(\n",
    "                    msg_type,\n",
    "                    note=note,\n",
    "                    velocity=current_velocity,\n",
    "                    time=16*event_time,\n",
    "                ))\n",
    "\n",
    "        last_state = current_state\n",
    "\n",
    "    mid = mido.MidiFile()\n",
    "    mid.tracks.append(track)\n",
    "    return mid\n",
    "\n",
    "\n",
    "pianoroll = midi_to_pianoroll(mid)\n",
    "new_mid = pianoroll_to_midi(pianoroll)\n",
    "\n",
    "new_mid.save('teste.mid')"
   ]
  },
  {
   "cell_type": "code",
   "execution_count": 9,
   "id": "b5d9ab75-f6d3-4679-904f-529ea71a13db",
   "metadata": {
    "tags": []
   },
   "outputs": [
    {
     "data": {
      "image/png": "[encoded data removed]",
      "text/plain": [
       "<Figure size 1152x4608 with 1 Axes>"
      ]
     },
     "metadata": {
      "needs_background": "light"
     },
     "output_type": "display_data"
    }
   ],
   "source": [
    "import matplotlib.pyplot as plt\n",
    "\n",
    "plt.figure(figsize=(16, 64))\n",
    "plt.imshow(pianoroll)\n",
    "plt.show()"
   ]
  },
  {
   "cell_type": "code",
   "execution_count": null,
   "id": "bb19b86e",
   "metadata": {},
   "outputs": [],
   "source": [
    "from mido import MidiFile, MidiTrack, Message\n",
    "import numpy as np\n",
    "\n",
    "num_notes = 128\n",
    "samples_per_measure = 128\n",
    "\n",
    "\n",
    "def midi_to_samples(mid):\n",
    "    mid.ticks_per_beat = 128\n",
    "    ticks_per_beat = mid.ticks_per_beat\n",
    "    ticks_per_measure = 4 * ticks_per_beat\n",
    "\n",
    "    all_notes = {}\n",
    "    track = mido.merge_tracks(mid.tracks)\n",
    "\n",
    "    abs_time = 0\n",
    "    for msg in track:\n",
    "        abs_time += msg.time\n",
    "\n",
    "        if msg.type == 'note_on' and msg.velocity != 0:\n",
    "            note = msg.note\n",
    "\n",
    "            if note not in all_notes:\n",
    "                all_notes[note] = []\n",
    "            all_notes[note].append([abs_time])\n",
    "\n",
    "        if msg.type == 'note_off' and len(all_notes[note][-1]) == 1:\n",
    "            all_notes[note][-1].append(abs_time)\n",
    "\n",
    "    samples = []\n",
    "    for note in all_notes:\n",
    "        for start, end in all_notes[note]:\n",
    "\n",
    "            sample_ix = int(start / samples_per_measure)\n",
    "\n",
    "            while len(samples) <= sample_ix:\n",
    "                samples.append(\n",
    "                    np.zeros((samples_per_measure, num_notes), dtype=np.uint8))\n",
    "\n",
    "            sample = samples[sample_ix]\n",
    "            start_ix = int(start - sample_ix * samples_per_measure)\n",
    "            sample[start_ix, note] = 1\n",
    "\n",
    "    return samples\n",
    "\n",
    "\n",
    "def samples_to_midi(samples, fname):\n",
    "    mid = MidiFile()\n",
    "    track = MidiTrack()\n",
    "    mid.tracks.append(track)\n",
    "    mid.ticks_per_beat = 128\n",
    "\n",
    "    abs_time = 0\n",
    "    last_time = 0\n",
    "\n",
    "    for sample in samples:\n",
    "        for tick in range(sample.shape[0]):\n",
    "            abs_time += 1\n",
    "\n",
    "            for note in range(sample.shape[1]):\n",
    "                if sample[tick, note] == 1 and (tick == 0 or\n",
    "                                                sample[tick - 1, note] == 0):\n",
    "                    delta_time = abs_time - last_time\n",
    "                    track.append(\n",
    "                        Message('note_on',\n",
    "                                note=note,\n",
    "                                velocity=127,\n",
    "                                time=delta_time))\n",
    "                    last_time = abs_time\n",
    "\n",
    "                if sample[tick, note] == 1 and (tick == sample.shape[0] - 1 or\n",
    "                                                sample[tick + 1, note] == 0):\n",
    "                    track.append(\n",
    "                        Message('note_off', note=note, velocity=127, time=0))\n",
    "\n",
    "    mid.save(fname + \".mid\")"
   ]
  },
  {
   "cell_type": "code",
   "execution_count": null,
   "id": "9fac0f1e",
   "metadata": {},
   "outputs": [],
   "source": [
    "start_time = time.time()\n",
    "s = midi_to_samples(mid)\n",
    "a = samples_to_midi(s, \"HackerPoet\")\n",
    "print(\"--- %s seconds ---\" % (time.time() - start_time))"
   ]
  },
  {
   "cell_type": "code",
   "execution_count": null,
   "id": "87be0311",
   "metadata": {},
   "outputs": [],
   "source": [
    "np.shape(s)"
   ]
  },
  {
   "cell_type": "code",
   "execution_count": null,
   "id": "b34fb8e4",
   "metadata": {},
   "outputs": [],
   "source": [
    "# mid_parts = []\n",
    "# for i in range(0,len(s),512):\n",
    "#     mid_parts.append(s[i:i+512])"
   ]
  },
  {
   "cell_type": "code",
   "execution_count": null,
   "id": "5873011e",
   "metadata": {},
   "outputs": [],
   "source": [
    "# def midi_to_samples(mid):\n",
    "\n",
    "#     TPM = mid.ticks_per_beat\n",
    "#     all_notes = {}\n",
    "#     track = mido.merge_tracks(mid.tracks)\n",
    "#     abs_time = 0\n",
    "\n",
    "#     for msg in track:\n",
    "#         abs_time += msg.time\n",
    "\n",
    "#         if msg.type == 'note_on' and msg.velocity != 0:\n",
    "#             note = msg.note\n",
    "\n",
    "#             if note not in all_notes:\n",
    "#                 all_notes[note] = []\n",
    "#             all_notes[note].append([abs_time])\n",
    "\n",
    "#         if msg.type == 'note_off' and len(all_notes[note][-1]) == 1:\n",
    "#             all_notes[note][-1].append(abs_time)\n",
    "\n",
    "#     samples = [np.zeros((128, ), dtype=np.uint8) for i in range(abs_time)]\n",
    "\n",
    "#     for note in all_notes:\n",
    "#         for time in all_notes[note]:\n",
    "#             for i in range(time[0], time[-1]):\n",
    "#                 samples[i][note] = 1\n",
    "\n",
    "#     return samples\n",
    "\n",
    "# def samples_to_midi(samples, fname):\n",
    "#     mid = mido.MidiFile()\n",
    "#     track = mido.MidiTrack()\n",
    "#     mid.tracks.append(track)\n",
    "\n",
    "#     mid.ticks_per_beat = 128\n",
    "#     samples = np.asarray(samples)\n",
    "\n",
    "#     for tick in range(len(samples)):\n",
    "#         for note in range(128):\n",
    "#             if samples[tick,note] == 1 and (samples[tick - 1, note] == 0 or tick == 0):\n",
    "#                 track.append(mido.Message('note_on', note = note, time = 0))\n",
    "#                 end_note = np.where(samples[range(tick, len(samples)), note] == 0)[0][0]\n",
    "#                 track.append(mido.Message('note_off', note = note, time = end_note))\n",
    "\n",
    "#                 note_final_tick = tick + end_note\n",
    "\n",
    "#                 track.append(mido.Message('note_on', note = 0, velocity = 0, time = 0))\n",
    "#                 try:\n",
    "#                     next_note = np.where(samples[note_final_tick: len(samples), : ] == 1)[0][0]\n",
    "#                 except:\n",
    "#                     next_note = 8\n",
    "#                 track.append(mido.Message('note_off', note = 0, velocity = 0, time = next_note ))\n",
    "\n",
    "#     mid.save(faname + \".mid\")"
   ]
  },
  {
   "cell_type": "code",
   "execution_count": null,
   "id": "a98de719",
   "metadata": {},
   "outputs": [],
   "source": [
    "# start_time = time.time()\n",
    "# s = midi_to_samples(mid)\n",
    "# a = samples_to_midi(s, \"eller\")\n",
    "# print(\"--- %s seconds ---\" % (time.time() - start_time))"
   ]
  },
  {
   "cell_type": "code",
   "execution_count": null,
   "id": "02603c94",
   "metadata": {},
   "outputs": [],
   "source": [
    "# np.shape(s)"
   ]
  },
  {
   "cell_type": "code",
   "execution_count": null,
   "id": "fc16ea68",
   "metadata": {},
   "outputs": [],
   "source": [
    "def split_mid(sample):\n",
    "    splited = []\n",
    "    for i in range(0, len(sample)):\n",
    "        splited_sample = sample[i:i + 16]\n",
    "        splited.append(splited_sample)\n",
    "        samples_to_midi(splited_sample, f\"Splited/{int(i/4)}\")\n",
    "\n",
    "\n",
    "#     return splited"
   ]
  },
  {
   "cell_type": "code",
   "execution_count": null,
   "id": "3ac77739",
   "metadata": {},
   "outputs": [],
   "source": [
    "split_mid(s)"
   ]
  }
 ],
 "metadata": {
  "kernelspec": {
   "display_name": "ml",
   "language": "python",
   "name": "ml"
  },
  "language_info": {
   "codemirror_mode": {
    "name": "ipython",
    "version": 3
   },
   "file_extension": ".py",
   "mimetype": "text/x-python",
   "name": "python",
   "nbconvert_exporter": "python",
   "pygments_lexer": "ipython3",
   "version": "3.8.11"
  }
 },
 "nbformat": 4,
 "nbformat_minor": 5
}
