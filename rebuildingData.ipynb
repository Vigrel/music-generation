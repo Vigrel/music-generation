{
 "cells": [
  {
   "cell_type": "code",
   "execution_count": 1,
   "id": "b3bfb53f",
   "metadata": {},
   "outputs": [],
   "source": [
    "import mido\n",
    "import numpy as np\n",
    "from matplotlib import pyplot as plt\n",
    "import os\n",
    "import pandas as pd\n",
    "import time"
   ]
  },
  {
   "cell_type": "code",
   "execution_count": 2,
   "id": "3b5c7d72",
   "metadata": {},
   "outputs": [],
   "source": [
    "def getData(data_folder):\n",
    "    \"\"\"\n",
    "    Walk through a folder, modifing each mid to fit in 128 ticks per beat and be only a piano channel\n",
    "    :param data_folder: the base data folder used in the model, still nonrepresentative\n",
    "    :return: it saves a midfile in piano format and other in paino+128tpb\n",
    "    \"\"\"\n",
    "    counter = 0 \n",
    "    for dirpath, _, filenames in os.walk(data_folder):\n",
    "        for File in filenames:\n",
    "            path = os.path.join(dirpath, File)\n",
    "            mid_copy = mido.MidiFile()\n",
    "            \n",
    "            try:\n",
    "                mid = mido.MidiFile(path)\n",
    "                tpb = mid.ticks_per_beat\n",
    "                duration = int(mid.length)\n",
    "\n",
    "                mid_copy.type = 1\n",
    "                mid_copy.ticks_per_beat = tpb\n",
    "\n",
    "                if 10 < duration < 600:\n",
    "                    track = mido.merge_tracks(mid.tracks)\n",
    "\n",
    "                    for msg in list(track):\n",
    "                        if not msg.is_meta and msg.channel != 0 and msg.type == \"note_on\":\n",
    "                            msg.velocity = 0\n",
    "                            \n",
    "                mid_copy.tracks.append(track)\n",
    "                mid_copy.save(f\"OnlyPiano/{File}\")\n",
    "            \n",
    "                mid_copy.ticks_per_beat = 128\n",
    "                mid_copy.save(f\"OnlyPiano_TPB128/{File}\") \n",
    "                \n",
    "            except:\n",
    "                print(path)\n",
    "                continue\n",
    "            \n",
    "            counter+=1\n",
    "            if counter %250 ==0:\n",
    "                print(counter)"
   ]
  },
  {
   "cell_type": "code",
   "execution_count": 3,
   "id": "a23d05ad",
   "metadata": {},
   "outputs": [
    {
     "name": "stdout",
     "output_type": "stream",
     "text": [
      "--- 0.0 seconds ---\n"
     ]
    }
   ],
   "source": [
    "start_time = time.time()\n",
    "# getData('Dataset')\n",
    "print(\"--- %s seconds ---\" % (time.time() - start_time))"
   ]
  }
 ],
 "metadata": {
  "kernelspec": {
   "display_name": "EstudoMusica",
   "language": "python",
   "name": "estudomusica"
  },
  "language_info": {
   "codemirror_mode": {
    "name": "ipython",
    "version": 3
   },
   "file_extension": ".py",
   "mimetype": "text/x-python",
   "name": "python",
   "nbconvert_exporter": "python",
   "pygments_lexer": "ipython3",
   "version": "3.8.5"
  }
 },
 "nbformat": 4,
 "nbformat_minor": 5
}
