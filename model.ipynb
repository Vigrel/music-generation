{
 "cells": [
  {
   "cell_type": "markdown",
   "id": "preceding-truth",
   "metadata": {},
   "source": [
    "### Importing"
   ]
  },
  {
   "cell_type": "code",
   "execution_count": 1,
   "id": "color-sport",
   "metadata": {},
   "outputs": [],
   "source": [
    "import cv2\n",
    "from matplotlib import pyplot as plt\n",
    "import math\n",
    "import mido\n",
    "import numpy as np\n",
    "import os\n",
    "import random"
   ]
  },
  {
   "cell_type": "code",
   "execution_count": 2,
   "id": "burning-glasgow",
   "metadata": {},
   "outputs": [
    {
     "name": "stdout",
     "output_type": "stream",
     "text": [
      "\n",
      "Loading Keras...\n",
      "Keras Version: 2.4.0\n"
     ]
    }
   ],
   "source": [
    "print(\"\\nLoading Keras...\")\n",
    "import tensorflow.keras\n",
    "print(f\"Keras Version: {tensorflow.keras.__version__}\")"
   ]
  },
  {
   "cell_type": "code",
   "execution_count": 3,
   "id": "signal-terrorist",
   "metadata": {},
   "outputs": [],
   "source": [
    "from tensorflow.keras import backend as K\n",
    "from tensorflow.keras.layers import Input, Dense, Activation, Dropout, Flatten, Reshape, TimeDistributed\n",
    "from tensorflow.keras.layers import BatchNormalization\n",
    "from tensorflow.keras.losses import binary_crossentropy\n",
    "from tensorflow.keras.models import Model, load_model, Sequential\n",
    "from tensorflow.keras.optimizers import RMSprop"
   ]
  },
  {
   "cell_type": "markdown",
   "id": "democratic-medicare",
   "metadata": {},
   "source": [
    "### Setting variables"
   ]
  },
  {
   "cell_type": "code",
   "execution_count": 4,
   "id": "ordered-capture",
   "metadata": {},
   "outputs": [],
   "source": [
    "#Generating random songs settings\n",
    "GENERATE_ONLY = False\n",
    "NUM_RAND_SONGS = 10\n",
    "\n",
    "WRITE_HISTORY = True\n",
    "\n",
    "#Network parameters\n",
    "BATCH_SIZE = 350\n",
    "CONTINUE_TRAIN = False\n",
    "DROPOUT_RATE = 0.1\n",
    "LEARNIN_RATE = 0.001\n",
    "MAX_LENGTH = 4\n",
    "NUM_EPOCHS = 1\n",
    "NUM_OFFSETS = 4\n",
    "PARAM_SIZE = 120\n",
    "#Batchnorm momentoum\n",
    "BN_M = 0.9\n",
    "\n",
    "#Fix the random seed\n",
    "np.random.seed(0)\n",
    "random.seed(0)"
   ]
  },
  {
   "cell_type": "markdown",
   "id": "ongoing-heath",
   "metadata": {},
   "source": [
    "### Utilities to save the model statistics and generated song"
   ]
  },
  {
   "cell_type": "code",
   "execution_count": 5,
   "id": "impaired-listening",
   "metadata": {},
   "outputs": [],
   "source": [
    "def save_config():\n",
    "    \"\"\"\n",
    "    Save training configs.\n",
    "    \"\"\"\n",
    "    with open('results/config.txt', 'w') as fout:\n",
    "        fout.write(f'Learning rate: {LEARNIN_RATE} \\n')\n",
    "        fout.write(f'Batchnorm momentoum: {BN_M}f\\n')\n",
    "        fout.write(f'Batch size: {BATCH_SIZE} \\n')\n",
    "        fout.write(f'Offsets: {NUM_OFFSETS} \\n')\n",
    "        fout.write(f'Dropout rate: {DROPOUT_RATE} \\n')\n",
    "        fout.write(f'Number of songs: {num_songs} \\n')\n",
    "        fout.write(f'optimizer: {type(model.optimizer).__name__} \\n')"
   ]
  },
  {
   "cell_type": "code",
   "execution_count": 6,
   "id": "outside-ending",
   "metadata": {},
   "outputs": [],
   "source": [
    "\n",
    "def plotScores(scores, fname, on_top=True):\n",
    "    \"\"\"\n",
    "    Plot model loss.\n",
    "    \"\"\"\n",
    "    plt.clf()\n",
    "    ax = plt.gca()\n",
    "    ax.yaxis.tick_right()\n",
    "    ax.yaxis.set_ticks_position('both')\n",
    "    ax.yaxis.grid(True)\n",
    "    plt.plot(scores)\n",
    "    plt.ylim([0.0, 0.009])\n",
    "    plt.xlabel('Epoch')\n",
    "    loc = ('upper right' if on_top else 'lower right')\n",
    "    plt.draw()\n",
    "    plt.savefig(fname)"
   ]
  },
  {
   "cell_type": "code",
   "execution_count": 7,
   "id": "genetic-contamination",
   "metadata": {},
   "outputs": [],
   "source": [
    "def make_rand_songs(write_dir, rand_vecs):\n",
    "    for i in range(rand_vecs.shape[0]):\n",
    "        x_rand = rand_vecs[i:i+1]\n",
    "        y_song = func(x_rand)[0]\n",
    "        midi.samples_to_midi(y_song[0], write_dir + 'rand' + str(i) + '.mid', 96, 96)\n",
    "\n",
    "def make_rand_songs_normalized(write_dir, rand_vecs):\n",
    "    x_enc = np.squeeze(enc.predict(y_orig))\n",
    "    \n",
    "    x_mean = np.mean(x_enc, axis=0)\n",
    "    x_stds = np.std(x_enc, axis=0)\n",
    "    x_cov = np.cov((x_enc - x_mean).T)\n",
    "    u, s, v = np.linalg.svd(x_cov)\n",
    "    e = np.sqrt(s)\n",
    "\n",
    "    print(\"Means: \", x_mean[:6])\n",
    "    print(\"Evals: \", e[:6])\n",
    "    \n",
    "    np.save(write_dir + 'means.npy', x_mean)\n",
    "    np.save(write_dir + 'stds.npy', x_stds)\n",
    "    np.save(write_dir + 'evals.npy', e)\n",
    "    np.save(write_dir + 'evecs.npy', v)\n",
    "\n",
    "    x_vecs = x_mean + np.dot(rand_vecs * e, v)\n",
    "    make_rand_songs(write_dir, x_vecs)\n",
    "    \n",
    "    title = ''\n",
    "    if '/' in write_dir:\n",
    "        title = 'Epoch: ' + write_dir.split('/')[-2][1:]\n",
    "    \n",
    "    plt.clf()\n",
    "    e[::-1].sort()\n",
    "    plt.title(title)\n",
    "    plt.bar(np.arange(e.shape[0]), e, align='center')\n",
    "    plt.draw()\n",
    "    plt.savefig(write_dir + 'evals.png')\n",
    "    \n",
    "    plt.clf()\n",
    "    plt.title(title)\n",
    "    plt.bar(np.arange(e.shape[0]), x_mean, align='center')\n",
    "    plt.draw()\n",
    "    plt.savefig(write_dir + 'means.png')\n",
    "    \n",
    "    plt.clf()\n",
    "    plt.title(title)\n",
    "    plt.bar(np.arange(e.shape[0]), x_stds, align='center')\n",
    "    plt.draw()\n",
    "    plt.savefig(write_dir + 'stds.png')"
   ]
  },
  {
   "cell_type": "code",
   "execution_count": 8,
   "id": "electrical-processor",
   "metadata": {},
   "outputs": [],
   "source": [
    "#Util to use img .png\n",
    "def sample_to_pic(fname, sample, thresh=None):\n",
    "    if thresh is not None:\n",
    "        inverted = np.where(sample > thresh, 0, 1)\n",
    "    else:\n",
    "        inverted = 1.0 - sample\n",
    "    cv2.imwrite(fname, inverted * 255)\n",
    "\n",
    "def samples_to_pics(dir, samples, thresh=None):\n",
    "    if not os.path.exists(dir): \n",
    "        os.makedirs(dir)\n",
    "    for i in range(samples.shape[0]):\n",
    "        sample_to_pic(dir + '/s' + str(i) + '.png', samples[i], thresh)"
   ]
  },
  {
   "cell_type": "code",
   "execution_count": 9,
   "id": "charming-plasma",
   "metadata": {},
   "outputs": [],
   "source": [
    "def samples_to_midi(samples, fname, num_notes, SPM, thresh=0.5):\n",
    "    \"\"\"\n",
    "    Turn samples into midi. Reagroup samples into a measure.\n",
    "    :param samples: List of samples that will be jointed (dtype=np.uint8)\n",
    "    :param fname: Midi file name that will be used\n",
    "    :param num_notes: Number of notes wanted for the sample \n",
    "    :param SPM: Samples per measured int the mid file \n",
    "    :param thresh: the higher the treshold the less notes will come out of the song\n",
    "    :return:\n",
    "    \"\"\"\n",
    "    #Creates mid object and adding track to it\n",
    "    mid = mido.MidiFile()\n",
    "    track = mido.MidiTrack()\n",
    "    mid.tracks.append(track)\n",
    "\n",
    "    TPM = 4 * mid.ticks_per_beat #Get ticks per measure\n",
    "    ticks_per_sample = TPM / SPM\n",
    "    \n",
    "    #Its possible to add types of instruments but i wont do it in this version fell free to add it\n",
    "    #en.wikipedia.org/wiki/General_MIDI#Program_change_events\n",
    "\n",
    "    abs_time = 0\n",
    "    last_time = 0\n",
    "\n",
    "    for sample in samples:\n",
    "        for y in range(sample.shape[0]):\n",
    "            abs_time += ticks_per_sample\n",
    "            \n",
    "            for x in range(sample.shape[1]):\n",
    "                ####### It needs an upgrade #######\n",
    "                #Transform the notes into the wanted scale\n",
    "                note = x + (128 - num_notes)/2\n",
    "\n",
    "                ####### It needs an upgrade #######\n",
    "                # velocity = int(sample[y,x]*127)\n",
    "                if sample[y,x] >= thresh and (y == 0 or sample[y - 1, x] < thresh):\n",
    "                    delta_time = abs_time - last_time\n",
    "                    track.append(mido.Message('note_on', note=int(note), velocity=127, time=int(delta_time)))\n",
    "                    last_time = abs_time\n",
    "                \n",
    "                if sample[y,x] >= thresh and (y == sample.shape[0] - 1 or sample[y + 1, x] < thresh):\n",
    "                    delta_time = abs_time - last_time\n",
    "                    track.append(mido.Message('note_off', note=int(note), velocity=127, time=int(delta_time)))\n",
    "                    last_time = abs_time\n",
    "                    \n",
    "    return mid.save(fname)"
   ]
  },
  {
   "cell_type": "markdown",
   "id": "associate-illinois",
   "metadata": {},
   "source": [
    "### Model"
   ]
  },
  {
   "cell_type": "code",
   "execution_count": 10,
   "id": "sealed-agency",
   "metadata": {},
   "outputs": [
    {
     "name": "stdout",
     "output_type": "stream",
     "text": [
      "\n",
      "Loading Data...\n",
      "samples loded\n",
      "lengths loded\n"
     ]
    }
   ],
   "source": [
    "# Create folders to save models into\n",
    "if not os.path.exists('results'):\n",
    "    os.makedirs('results')\n",
    "if WRITE_HISTORY and not os.path.exists('results/history'):\n",
    "    os.makedirs('results/history')\n",
    "\n",
    "#Checking if there is data and loading it \n",
    "print(\"\\nLoading Data...\")\n",
    "try:\n",
    "    y_samples = np.load(\"samples424.npy\")\n",
    "    print(\"samples loded\")\n",
    "    y_lengths = np.load(\"lengths424.npy\")\n",
    "    print(\"lengths loded\")\n",
    "except:\n",
    "    raise FileNotFoundError(\"No data found, try to check if you have a input dataset, and run four2fourTimeSignature.ipynb again!\")"
   ]
  },
  {
   "cell_type": "code",
   "execution_count": 11,
   "id": "exciting-letters",
   "metadata": {},
   "outputs": [
    {
     "name": "stdout",
     "output_type": "stream",
     "text": [
      "Loaded 222824 samples from 1002 songs.\n",
      "\n"
     ]
    }
   ],
   "source": [
    "#Sets the number of samples, already printed in load_songs.py\n",
    "num_samples = y_samples.shape[0]\n",
    "num_songs = y_lengths.shape[0]\n",
    "\n",
    "print(f\"Loaded {num_samples} samples from {num_songs} songs.\\n\")\n",
    "assert(np.sum(y_lengths) == num_samples)\n",
    "\n",
    "x_shape = (num_songs * NUM_OFFSETS, 1) \n",
    "x_orig = np.expand_dims(np.arange(x_shape[0]), axis=-1) \n",
    "\n",
    "# y_shape = (num of songs, max num of window, num of pithc per window, num of notes)\n",
    "y_shape = (num_songs * NUM_OFFSETS, MAX_LENGTH) + y_samples.shape[1:] #This case (n, 4, 16, 128)\n",
    "y_orig = np.zeros(y_shape, dtype=y_samples.dtype) #Prepare dataset array"
   ]
  },
  {
   "cell_type": "code",
   "execution_count": 12,
   "id": "acceptable-solomon",
   "metadata": {},
   "outputs": [],
   "source": [
    "## fill in measure of songs into input windows for network\n",
    "# Song start index\n",
    "SSix = 0\n",
    "# Song end index\n",
    "SEix = 0\n",
    "\n",
    "for song_ix in range(50):\n",
    "    for offset in range(NUM_OFFSETS):\n",
    "        ix = song_ix * NUM_OFFSETS + offset # calculate the index of the song with its offset\n",
    "        SEix = SSix + y_lengths[song_ix] \n",
    "        \n",
    "        for window_ix in range(MAX_LENGTH):\n",
    "            size = (window_ix + offset) % y_lengths[song_ix]  # chosen measure of song to be placed in window (modulo song length)\n",
    "            y_orig[ix,window_ix] = y_samples[SSix + size] # move measure into window\n",
    "    SSix = SEix\n",
    "\n",
    "x_train = np.copy(x_orig)\n",
    "y_train = np.copy(y_orig)"
   ]
  },
  {
   "cell_type": "code",
   "execution_count": 13,
   "id": "silent-economics",
   "metadata": {},
   "outputs": [],
   "source": [
    "# copy some song from the samples and write it to midi again\n",
    "test_ix = 0\n",
    "y_test_song = np.copy(y_train[test_ix: test_ix + 1])\n",
    "x_test_song = np.copy(x_train[test_ix: test_ix + 1])\n",
    "samples_to_midi(y_test_song[0], 'gt.mid', 128, 16)"
   ]
  },
  {
   "cell_type": "code",
   "execution_count": 14,
   "id": "strategic-budget",
   "metadata": {},
   "outputs": [],
   "source": [
    "rand_vecs = np.random.normal(0.0, 1.0, (NUM_RAND_SONGS, PARAM_SIZE))\n",
    "np.save('rand.npy', rand_vecs)"
   ]
  },
  {
   "cell_type": "code",
   "execution_count": 15,
   "id": "identified-scratch",
   "metadata": {},
   "outputs": [
    {
     "name": "stdout",
     "output_type": "stream",
     "text": [
      "\n",
      "Building Model...\n",
      "Builded\n"
     ]
    }
   ],
   "source": [
    "#Create Model\n",
    "if CONTINUE_TRAIN or GENERATE_ONLY:\n",
    "    print(\"\\nLoading Model...\")\n",
    "    model = load_model('results/history/model.h5')\n",
    "else:\n",
    "    print(\"\\nBuilding Model...\")\n",
    "    model = Sequential()\n",
    "    model.add(Input(shape=y_shape[1:]))\n",
    "    model.add(Reshape((y_shape[1], -1)))\n",
    "    model.add(TimeDistributed(Dense(2000, activation='relu')))\n",
    "    model.add(TimeDistributed(Dense(200, activation='relu')))\n",
    "    model.add(Flatten())\n",
    "    model.add(Dense(1600, activation='relu'))\n",
    "    model.add(Dense(PARAM_SIZE))\n",
    "    model.add(BatchNormalization(momentum=BN_M, name='encoder'))\n",
    "\n",
    "\n",
    "    model.add(Dense(1600, name='decoder'))\n",
    "    model.add(BatchNormalization(momentum=BN_M))\n",
    "    model.add(Activation('relu'))\n",
    "    if DROPOUT_RATE > 0:\n",
    "        model.add(Dropout(DROPOUT_RATE))\n",
    "    model.add(Dense(MAX_LENGTH * 200))\n",
    "    model.add(Reshape((MAX_LENGTH, 200)))\n",
    "    model.add(TimeDistributed(BatchNormalization(momentum=BN_M)))\n",
    "    model.add(Activation('relu'))\n",
    "    if DROPOUT_RATE > 0:\n",
    "        model.add(Dropout(DROPOUT_RATE))\n",
    "    model.add(TimeDistributed(Dense(2000)))\n",
    "    model.add(TimeDistributed(BatchNormalization(momentum=BN_M)))\n",
    "    model.add(Activation('relu'))\n",
    "    if DROPOUT_RATE > 0:\n",
    "        model.add(Dropout(DROPOUT_RATE))\n",
    "    model.add(TimeDistributed(Dense(y_shape[2] * y_shape[3], activation='sigmoid')))\n",
    "    model.add(Reshape((y_shape[1], y_shape[2], y_shape[3])))\n",
    "    model.compile(optimizer=RMSprop(lr=LEARNIN_RATE), loss='binary_crossentropy')\n",
    "    print(\"Builded\")\n",
    "    "
   ]
  },
  {
   "cell_type": "code",
   "execution_count": 16,
   "id": "european-blowing",
   "metadata": {},
   "outputs": [
    {
     "name": "stdout",
     "output_type": "stream",
     "text": [
      "Model: \"sequential\"\n",
      "_________________________________________________________________\n",
      "Layer (type)                 Output Shape              Param #   \n",
      "=================================================================\n",
      "reshape (Reshape)            (None, 4, 2048)           0         \n",
      "_________________________________________________________________\n",
      "time_distributed (TimeDistri (None, 4, 2000)           4098000   \n",
      "_________________________________________________________________\n",
      "time_distributed_1 (TimeDist (None, 4, 200)            400200    \n",
      "_________________________________________________________________\n",
      "flatten (Flatten)            (None, 800)               0         \n",
      "_________________________________________________________________\n",
      "dense_2 (Dense)              (None, 1600)              1281600   \n",
      "_________________________________________________________________\n",
      "dense_3 (Dense)              (None, 120)               192120    \n",
      "_________________________________________________________________\n",
      "encoder (BatchNormalization) (None, 120)               480       \n",
      "_________________________________________________________________\n",
      "decoder (Dense)              (None, 1600)              193600    \n",
      "_________________________________________________________________\n",
      "batch_normalization (BatchNo (None, 1600)              6400      \n",
      "_________________________________________________________________\n",
      "activation (Activation)      (None, 1600)              0         \n",
      "_________________________________________________________________\n",
      "dropout (Dropout)            (None, 1600)              0         \n",
      "_________________________________________________________________\n",
      "dense_4 (Dense)              (None, 800)               1280800   \n",
      "_________________________________________________________________\n",
      "reshape_1 (Reshape)          (None, 4, 200)            0         \n",
      "_________________________________________________________________\n",
      "time_distributed_2 (TimeDist (None, 4, 200)            800       \n",
      "_________________________________________________________________\n",
      "activation_1 (Activation)    (None, 4, 200)            0         \n",
      "_________________________________________________________________\n",
      "dropout_1 (Dropout)          (None, 4, 200)            0         \n",
      "_________________________________________________________________\n",
      "time_distributed_3 (TimeDist (None, 4, 2000)           402000    \n",
      "_________________________________________________________________\n",
      "time_distributed_4 (TimeDist (None, 4, 2000)           8000      \n",
      "_________________________________________________________________\n",
      "activation_2 (Activation)    (None, 4, 2000)           0         \n",
      "_________________________________________________________________\n",
      "dropout_2 (Dropout)          (None, 4, 2000)           0         \n",
      "_________________________________________________________________\n",
      "time_distributed_5 (TimeDist (None, 4, 2048)           4098048   \n",
      "_________________________________________________________________\n",
      "reshape_2 (Reshape)          (None, 4, 16, 128)        0         \n",
      "=================================================================\n",
      "Total params: 11,962,048\n",
      "Trainable params: 11,954,208\n",
      "Non-trainable params: 7,840\n",
      "_________________________________________________________________\n"
     ]
    }
   ],
   "source": [
    "model.summary()"
   ]
  },
  {
   "cell_type": "code",
   "execution_count": 17,
   "id": "confused-battle",
   "metadata": {},
   "outputs": [],
   "source": [
    "# print(\"Compiling SubModels...\")\n",
    "# func = K.function([model.get_layer('encoder').input, K.learning_phase()],[model.layers[-1].output])\n",
    "# enc = Model(inputs=model.input, outputs=model.get_layer('decoder').output)"
   ]
  },
  {
   "cell_type": "code",
   "execution_count": 18,
   "id": "still-magnitude",
   "metadata": {},
   "outputs": [
    {
     "name": "stdout",
     "output_type": "stream",
     "text": [
      "\n",
      "Training...\n",
      "12/12 [==============================] - 11s 398ms/step - loss: 0.2374\n",
      "\n",
      "Train Loss: 0.10238069295883179\n",
      "\n",
      "Saved\n",
      "\n",
      "Done\n"
     ]
    },
    {
     "data": {
      "image/png": "[encoded data removed]",
      "text/plain": [
       "<Figure size 432x288 with 1 Axes>"
      ]
     },
     "metadata": {
      "needs_background": "light"
     },
     "output_type": "display_data"
    }
   ],
   "source": [
    "if GENERATE_ONLY:\n",
    "    print(\"\\nGenerating Songs...\")\n",
    "    make_rand_songs_normalized('', rand_vecs)\n",
    "    for i in range(20):\n",
    "        x_test_song = x_train[i:i+1]\n",
    "        y_song = model.predict(x_test_song, batch_size=BATCH_SIZE)[0]\n",
    "        midi.samples_to_midi(y_song, 'gt' + str(i) + '.mid', 96, 96)\n",
    "    exit(0)\n",
    "          \n",
    "print(\"\\nTraining...\")\n",
    "save_config()\n",
    "train_loss = []\n",
    "ofs = 0\n",
    "\n",
    "for iter in range(NUM_EPOCHS):\n",
    "    cur_ix = 0\n",
    "    for i in range(num_songs):\n",
    "        end_ix = cur_ix + y_lengths[i]\n",
    "        for j in range(MAX_LENGTH):\n",
    "            k = (j + ofs) % (end_ix - cur_ix)\n",
    "            y_train[i,j] = y_samples[cur_ix + k]\n",
    "        cur_ix = end_ix\n",
    "    assert(end_ix == num_samples)\n",
    "    ofs += 1\n",
    "\n",
    "    history = model.fit(y_train, y_train, batch_size=BATCH_SIZE, epochs=1)\n",
    "\n",
    "    loss = history.history[\"loss\"][-1]\n",
    "    train_loss.append(loss)\n",
    "    print(\"\\nTrain Loss: \" + str(train_loss[-1]))\n",
    "    \n",
    "    if WRITE_HISTORY:\n",
    "        plotScores(train_loss, 'results/history/Scores.png', True)\n",
    "    else:\n",
    "        plotScores(train_loss, 'Scores.png', True)\n",
    "    \n",
    "    i = iter + 1\n",
    "    if i in [1, 10, 20, 30, 40, 50, 60, 70, 80, 90, 100, 120, 140, 160, 180, 200, 250, 300, 350, 400, 450] or (i % 100 == 0):\n",
    "        write_dir = ''\n",
    "        if WRITE_HISTORY:\n",
    "            #Create folder to save models into\n",
    "            write_dir = 'results/history/e' + str(i)\n",
    "            if not os.path.exists(write_dir):\n",
    "                os.makedirs(write_dir)\n",
    "            write_dir += '/'\n",
    "            model.save('results/history/model.h5')\n",
    "        else:\n",
    "            model.save('model.h5')\n",
    "        print(\"\\nSaved\")\n",
    "\n",
    "        y_song = model.predict(y_test_song, batch_size=BATCH_SIZE)[0]\n",
    "        samples_to_pics(write_dir + 'test', y_song)\n",
    "        samples_to_midi(y_song, write_dir + 'test.mid', 96, 96)\n",
    "\n",
    "        # make_rand_songs_normalized(write_dir, rand_vecs)\n",
    "\n",
    "\n",
    "print(\"\\nDone\")\n"
   ]
  }
 ],
 "metadata": {
  "kernelspec": {
   "display_name": "EstudoMusica",
   "language": "python",
   "name": "estudomusica"
  },
  "language_info": {
   "codemirror_mode": {
    "name": "ipython",
    "version": 3
   },
   "file_extension": ".py",
   "mimetype": "text/x-python",
   "name": "python",
   "nbconvert_exporter": "python",
   "pygments_lexer": "ipython3",
   "version": "3.8.5"
  }
 },
 "nbformat": 4,
 "nbformat_minor": 5
}
